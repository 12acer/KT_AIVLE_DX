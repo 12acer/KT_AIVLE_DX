{
 "cells": [
  {
   "cell_type": "markdown",
   "id": "66ccb78d",
   "metadata": {
    "id": "mTt7qGUTCcFs"
   },
   "source": [
    "# 직원 이직 여부"
   ]
  },
  {
   "cell_type": "markdown",
   "id": "a46b3794",
   "metadata": {
    "id": "AHmt88Q5EVsj"
   },
   "source": [
    "## 0.환경설정"
   ]
  },
  {
   "cell_type": "markdown",
   "id": "325053c8",
   "metadata": {
    "id": "KnzVh2LmkLDU"
   },
   "source": [
    "### 1) 라이브러리 로딩"
   ]
  },
  {
   "cell_type": "code",
   "execution_count": 292,
   "id": "cd6cb660",
   "metadata": {},
   "outputs": [],
   "source": [
    "import pandas as pd\n",
    "import numpy as np\n",
    "import matplotlib.pyplot as plt\n",
    "import seaborn as sns\n",
    "\n",
    "from statsmodels.graphics.mosaicplot import mosaic\n",
    "from scipy import stats as spst\n",
    "import statsmodels.api as sm"
   ]
  },
  {
   "cell_type": "markdown",
   "id": "7a41ba28",
   "metadata": {
    "id": "5Qh5KYWokO_N"
   },
   "source": [
    "### 2) 데이터 로딩"
   ]
  },
  {
   "cell_type": "code",
   "execution_count": 293,
   "id": "70c0a46f",
   "metadata": {},
   "outputs": [
    {
     "name": "stdout",
     "output_type": "stream",
     "text": [
      "<class 'pandas.core.frame.DataFrame'>\n",
      "RangeIndex: 1470 entries, 0 to 1469\n",
      "Data columns (total 35 columns):\n",
      " #   Column                    Non-Null Count  Dtype \n",
      "---  ------                    --------------  ----- \n",
      " 0   Age                       1470 non-null   int64 \n",
      " 1   Attrition                 1470 non-null   object\n",
      " 2   BusinessTravel            1470 non-null   object\n",
      " 3   DailyRate                 1470 non-null   int64 \n",
      " 4   Department                1470 non-null   object\n",
      " 5   DistanceFromHome          1470 non-null   int64 \n",
      " 6   Education                 1470 non-null   int64 \n",
      " 7   EducationField            1470 non-null   object\n",
      " 8   EmployeeCount             1470 non-null   int64 \n",
      " 9   EmployeeNumber            1470 non-null   int64 \n",
      " 10  EnvironmentSatisfaction   1470 non-null   int64 \n",
      " 11  Gender                    1470 non-null   object\n",
      " 12  HourlyRate                1470 non-null   int64 \n",
      " 13  JobInvolvement            1470 non-null   int64 \n",
      " 14  JobLevel                  1470 non-null   int64 \n",
      " 15  JobRole                   1470 non-null   object\n",
      " 16  JobSatisfaction           1470 non-null   int64 \n",
      " 17  MaritalStatus             1470 non-null   object\n",
      " 18  MonthlyIncome             1470 non-null   int64 \n",
      " 19  MonthlyRate               1470 non-null   int64 \n",
      " 20  NumCompaniesWorked        1470 non-null   int64 \n",
      " 21  Over18                    1470 non-null   object\n",
      " 22  OverTime                  1470 non-null   object\n",
      " 23  PercentSalaryHike         1470 non-null   int64 \n",
      " 24  PerformanceRating         1470 non-null   int64 \n",
      " 25  RelationshipSatisfaction  1470 non-null   int64 \n",
      " 26  StandardHours             1470 non-null   int64 \n",
      " 27  StockOptionLevel          1470 non-null   int64 \n",
      " 28  TotalWorkingYears         1470 non-null   int64 \n",
      " 29  TrainingTimesLastYear     1470 non-null   int64 \n",
      " 30  WorkLifeBalance           1470 non-null   int64 \n",
      " 31  YearsAtCompany            1470 non-null   int64 \n",
      " 32  YearsInCurrentRole        1470 non-null   int64 \n",
      " 33  YearsSinceLastPromotion   1470 non-null   int64 \n",
      " 34  YearsWithCurrManager      1470 non-null   int64 \n",
      "dtypes: int64(26), object(9)\n",
      "memory usage: 402.1+ KB\n"
     ]
    }
   ],
   "source": [
    "data = pd.read_csv('HR.csv')\n",
    "data.info()"
   ]
  },
  {
   "cell_type": "markdown",
   "id": "4c352a2c",
   "metadata": {},
   "source": [
    "Age : 해당 직원의 나이  \n",
    "Attrition : 퇴직 여부 Target값 (종속변수)  \n",
    "BusinessTravel : 출장의 빈도  \n",
    "DailyRate : 일 대비 급여의 수준  \n",
    "Department : 업무분야  \n",
    "DistanceFromHome : 집과의 거리  \n",
    "Education : 교육의 정도  \n",
    "* 1 : ‘Below College’ : 대학 이하  \n",
    "* 2 : ‘College’ : 전문대  \n",
    "* 3 : ‘Bachelor’ : 학사  \n",
    "* 4 : ‘Master’ : 석사  \n",
    "* 5 : ‘Doctor’ : 박사  \n",
    "EducationField : 전공  \n",
    "EmployeeCount : 직원 숫자  \n",
    "EmployeeNumber : 직원 ID  \n",
    "EnvironmentSatisfaction : 업무 환경에 대한 만족도  \n",
    "* 1 : ‘Low’  \n",
    "* 2 : ‘Medium’  \n",
    "* 3 : ‘High’  \n",
    "* 4 : ‘Very High’  \n",
    "Gender : 성별  \n",
    "HourlyRate : 시간 대비 급여의 수준  \n",
    "JobInvolvement : 업무 참여도  \n",
    "* 1 : ‘Low’  \n",
    "* 2 : ‘Medium’  \n",
    "* 3 : ‘High’  \n",
    "* 4 : ‘Very High’  \n",
    "JobLevel : 업무의 수준   \n",
    "JobRole : 업무 종류  \n",
    "JobSatisfaction : 업무 만족도  \n",
    "* 1 : ‘Low’  \n",
    "* 2 : ‘Medium’  \n",
    "* 3 : ‘High’  \n",
    "* 4 : ‘Very High’  \n",
    "MaritalStatus : 결혼 여부  \n",
    "MonthlyIncome : 월 소득  \n",
    "MonthlyRate : 월 대비 급여 수준  \n",
    "NumCompaniesWorked : 일한 회사의 수  \n",
    "Over18 : 18세 이상  \n",
    "OverTime : 규정외 노동시간  \n",
    "PercentSalaryHike : 급여의 증가분 백분율  \n",
    "PerformanceRating : 업무 성과  \n",
    "* 1 : ‘Low’  \n",
    "* 2 : ‘Good’  \n",
    "* 3 : ‘Excellent’  \n",
    "* 4 : ‘Outstanding’  \n",
    "RelationshipSatisfaction : 대인관계 만족도  \n",
    "* 1 : ‘Low’  \n",
    "* 2 : ‘Medium’  \n",
    "* 3 : ‘High’  \n",
    "* 4 : ‘Very High’  \n",
    "StandardHours : 표준 시간  \n",
    "StockOptionLevel : 스톡옵션 정도  \n",
    "TotalWorkingYears : 경력 기간  \n",
    "TrainingTimesLastYear : 교육 시간  \n",
    "WorkLifeBalance : 일과 생활의 균형 정도  \n",
    "* 1 : ‘Bad’  \n",
    "* 2 : ‘Good’  \n",
    "* 3 : ‘Better’  \n",
    "* 4 : ‘Best’  \n",
    "YearsAtCompany : 근속 연수  \n",
    "YearsInCurrentRole : 현재 역할의 년수  \n",
    "YearsSinceLastPromotion : 마지막 프로모션  \n",
    "YearsWithCurrManager : 현재 관리자와 함께 보낸 시간  "
   ]
  },
  {
   "cell_type": "code",
   "execution_count": 416,
   "id": "c07a2332",
   "metadata": {},
   "outputs": [],
   "source": [
    "data.loc[data['Attrition']=='Yes','Attrition']=1\n",
    "data.loc[data['Attrition']=='No','Attrition']=0"
   ]
  },
  {
   "cell_type": "markdown",
   "id": "8b9c4341",
   "metadata": {},
   "source": [
    "* 불필요한 변수 제거"
   ]
  },
  {
   "cell_type": "code",
   "execution_count": 295,
   "id": "9f9db55e",
   "metadata": {},
   "outputs": [
    {
     "name": "stdout",
     "output_type": "stream",
     "text": [
      "<class 'pandas.core.frame.DataFrame'>\n",
      "RangeIndex: 1470 entries, 0 to 1469\n",
      "Data columns (total 31 columns):\n",
      " #   Column                    Non-Null Count  Dtype \n",
      "---  ------                    --------------  ----- \n",
      " 0   Age                       1470 non-null   int64 \n",
      " 1   Attrition                 1470 non-null   object\n",
      " 2   BusinessTravel            1470 non-null   object\n",
      " 3   DailyRate                 1470 non-null   int64 \n",
      " 4   Department                1470 non-null   object\n",
      " 5   DistanceFromHome          1470 non-null   int64 \n",
      " 6   Education                 1470 non-null   int64 \n",
      " 7   EducationField            1470 non-null   object\n",
      " 8   EnvironmentSatisfaction   1470 non-null   int64 \n",
      " 9   Gender                    1470 non-null   object\n",
      " 10  HourlyRate                1470 non-null   int64 \n",
      " 11  JobInvolvement            1470 non-null   int64 \n",
      " 12  JobLevel                  1470 non-null   int64 \n",
      " 13  JobRole                   1470 non-null   object\n",
      " 14  JobSatisfaction           1470 non-null   int64 \n",
      " 15  MaritalStatus             1470 non-null   object\n",
      " 16  MonthlyIncome             1470 non-null   int64 \n",
      " 17  MonthlyRate               1470 non-null   int64 \n",
      " 18  NumCompaniesWorked        1470 non-null   int64 \n",
      " 19  OverTime                  1470 non-null   object\n",
      " 20  PercentSalaryHike         1470 non-null   int64 \n",
      " 21  PerformanceRating         1470 non-null   int64 \n",
      " 22  RelationshipSatisfaction  1470 non-null   int64 \n",
      " 23  StockOptionLevel          1470 non-null   int64 \n",
      " 24  TotalWorkingYears         1470 non-null   int64 \n",
      " 25  TrainingTimesLastYear     1470 non-null   int64 \n",
      " 26  WorkLifeBalance           1470 non-null   int64 \n",
      " 27  YearsAtCompany            1470 non-null   int64 \n",
      " 28  YearsInCurrentRole        1470 non-null   int64 \n",
      " 29  YearsSinceLastPromotion   1470 non-null   int64 \n",
      " 30  YearsWithCurrManager      1470 non-null   int64 \n",
      "dtypes: int64(23), object(8)\n",
      "memory usage: 356.1+ KB\n"
     ]
    }
   ],
   "source": [
    "data.drop(['EmployeeCount', 'StandardHours', 'Over18', 'EmployeeNumber'], axis = 1, inplace = True)\n",
    "data.info()"
   ]
  },
  {
   "cell_type": "code",
   "execution_count": null,
   "id": "11a95ee4",
   "metadata": {},
   "outputs": [],
   "source": []
  },
  {
   "cell_type": "markdown",
   "id": "b8b492ea",
   "metadata": {},
   "source": [
    "변수 쉽게 이해하기 위해 1,2,3,4를 각각의 이름으로 바꾸고 문자형으로 변경"
   ]
  },
  {
   "cell_type": "code",
   "execution_count": 296,
   "id": "d17e4e4d",
   "metadata": {},
   "outputs": [
    {
     "data": {
      "text/plain": [
       "array(['College', 'Below College', 'Master', 'Bachelor', 'Doctor'],\n",
       "      dtype=object)"
      ]
     },
     "execution_count": 296,
     "metadata": {},
     "output_type": "execute_result"
    }
   ],
   "source": [
    "change_dict = {1: 'Below College', 2: 'College', 3: 'Bachelor', 4: 'Master', 5: 'Doctor'}\n",
    "data.replace({'Education': change_dict}, inplace=True)\n",
    "data['Education'].unique()"
   ]
  },
  {
   "cell_type": "code",
   "execution_count": 297,
   "id": "c0cd70c8",
   "metadata": {},
   "outputs": [
    {
     "data": {
      "text/plain": [
       "array(['Medium', 'High', 'Very High', 'Low'], dtype=object)"
      ]
     },
     "execution_count": 297,
     "metadata": {},
     "output_type": "execute_result"
    }
   ],
   "source": [
    "change_dict = {1: 'Low', 2: 'Medium', 3: 'High', 4: 'Very High'}\n",
    "data.replace({'EnvironmentSatisfaction': change_dict}, inplace=True)\n",
    "data['EnvironmentSatisfaction'].unique()"
   ]
  },
  {
   "cell_type": "code",
   "execution_count": 298,
   "id": "d89615f7",
   "metadata": {},
   "outputs": [
    {
     "data": {
      "text/plain": [
       "array(['High', 'Medium', 'Very High', 'Low'], dtype=object)"
      ]
     },
     "execution_count": 298,
     "metadata": {},
     "output_type": "execute_result"
    }
   ],
   "source": [
    "change_dict = {1: 'Low', 2: 'Medium', 3: 'High', 4: 'Very High'}\n",
    "data.replace({'JobInvolvement': change_dict}, inplace=True)\n",
    "data['JobInvolvement'].unique()"
   ]
  },
  {
   "cell_type": "code",
   "execution_count": 299,
   "id": "286f2f8d",
   "metadata": {},
   "outputs": [
    {
     "data": {
      "text/plain": [
       "array(['Very High', 'Medium', 'High', 'Low'], dtype=object)"
      ]
     },
     "execution_count": 299,
     "metadata": {},
     "output_type": "execute_result"
    }
   ],
   "source": [
    "change_dict = {1: 'Low', 2: 'Medium', 3: 'High', 4: 'Very High'}\n",
    "data.replace({'JobSatisfaction': change_dict}, inplace=True)\n",
    "data['JobSatisfaction'].unique()"
   ]
  },
  {
   "cell_type": "code",
   "execution_count": 300,
   "id": "29d5641e",
   "metadata": {},
   "outputs": [
    {
     "data": {
      "text/plain": [
       "array(['Excellent', 'Outstanding'], dtype=object)"
      ]
     },
     "execution_count": 300,
     "metadata": {},
     "output_type": "execute_result"
    }
   ],
   "source": [
    "change_dict = {1: 'Low', 2: 'Good', 3: 'Excellent', 4: 'Outstanding'}\n",
    "data.replace({'PerformanceRating': change_dict}, inplace=True)\n",
    "data['PerformanceRating'].unique()"
   ]
  },
  {
   "cell_type": "code",
   "execution_count": 301,
   "id": "58ca79a6",
   "metadata": {},
   "outputs": [
    {
     "data": {
      "text/plain": [
       "array(['Low', 'Very High', 'Medium', 'High'], dtype=object)"
      ]
     },
     "execution_count": 301,
     "metadata": {},
     "output_type": "execute_result"
    }
   ],
   "source": [
    "change_dict = {1: 'Low', 2: 'Medium', 3: 'High', 4: 'Very High'}\n",
    "data.replace({'RelationshipSatisfaction': change_dict}, inplace=True)\n",
    "data['RelationshipSatisfaction'].unique()"
   ]
  },
  {
   "cell_type": "code",
   "execution_count": 302,
   "id": "c21a0b14",
   "metadata": {},
   "outputs": [
    {
     "data": {
      "text/plain": [
       "array(['Bad', 'Better', 'Good', 'Best'], dtype=object)"
      ]
     },
     "execution_count": 302,
     "metadata": {},
     "output_type": "execute_result"
    }
   ],
   "source": [
    "change_dict = {1: 'Bad', 2: 'Good', 3: 'Better', 4: 'Best'}\n",
    "data.replace({'WorkLifeBalance': change_dict}, inplace=True)\n",
    "data['WorkLifeBalance'].unique()"
   ]
  },
  {
   "cell_type": "code",
   "execution_count": 303,
   "id": "96764874",
   "metadata": {},
   "outputs": [
    {
     "name": "stdout",
     "output_type": "stream",
     "text": [
      "<class 'pandas.core.frame.DataFrame'>\n",
      "RangeIndex: 1470 entries, 0 to 1469\n",
      "Data columns (total 31 columns):\n",
      " #   Column                    Non-Null Count  Dtype \n",
      "---  ------                    --------------  ----- \n",
      " 0   Age                       1470 non-null   int64 \n",
      " 1   Attrition                 1470 non-null   object\n",
      " 2   BusinessTravel            1470 non-null   object\n",
      " 3   DailyRate                 1470 non-null   int64 \n",
      " 4   Department                1470 non-null   object\n",
      " 5   DistanceFromHome          1470 non-null   int64 \n",
      " 6   Education                 1470 non-null   object\n",
      " 7   EducationField            1470 non-null   object\n",
      " 8   EnvironmentSatisfaction   1470 non-null   object\n",
      " 9   Gender                    1470 non-null   object\n",
      " 10  HourlyRate                1470 non-null   int64 \n",
      " 11  JobInvolvement            1470 non-null   object\n",
      " 12  JobLevel                  1470 non-null   object\n",
      " 13  JobRole                   1470 non-null   object\n",
      " 14  JobSatisfaction           1470 non-null   object\n",
      " 15  MaritalStatus             1470 non-null   object\n",
      " 16  MonthlyIncome             1470 non-null   int64 \n",
      " 17  MonthlyRate               1470 non-null   int64 \n",
      " 18  NumCompaniesWorked        1470 non-null   object\n",
      " 19  OverTime                  1470 non-null   object\n",
      " 20  PercentSalaryHike         1470 non-null   int64 \n",
      " 21  PerformanceRating         1470 non-null   object\n",
      " 22  RelationshipSatisfaction  1470 non-null   object\n",
      " 23  StockOptionLevel          1470 non-null   object\n",
      " 24  TotalWorkingYears         1470 non-null   int64 \n",
      " 25  TrainingTimesLastYear     1470 non-null   int64 \n",
      " 26  WorkLifeBalance           1470 non-null   object\n",
      " 27  YearsAtCompany            1470 non-null   int64 \n",
      " 28  YearsInCurrentRole        1470 non-null   int64 \n",
      " 29  YearsSinceLastPromotion   1470 non-null   int64 \n",
      " 30  YearsWithCurrManager      1470 non-null   int64 \n",
      "dtypes: int64(13), object(18)\n",
      "memory usage: 356.1+ KB\n"
     ]
    }
   ],
   "source": [
    "data = data.astype({'JobLevel': object, 'StockOptionLevel': object, 'NumCompaniesWorked': object})\n",
    "data.info()"
   ]
  },
  {
   "cell_type": "code",
   "execution_count": 304,
   "id": "9c813dd1",
   "metadata": {},
   "outputs": [
    {
     "data": {
      "text/plain": [
       "Age                         0\n",
       "Attrition                   0\n",
       "BusinessTravel              0\n",
       "DailyRate                   0\n",
       "Department                  0\n",
       "DistanceFromHome            0\n",
       "Education                   0\n",
       "EducationField              0\n",
       "EnvironmentSatisfaction     0\n",
       "Gender                      0\n",
       "HourlyRate                  0\n",
       "JobInvolvement              0\n",
       "JobLevel                    0\n",
       "JobRole                     0\n",
       "JobSatisfaction             0\n",
       "MaritalStatus               0\n",
       "MonthlyIncome               0\n",
       "MonthlyRate                 0\n",
       "NumCompaniesWorked          0\n",
       "OverTime                    0\n",
       "PercentSalaryHike           0\n",
       "PerformanceRating           0\n",
       "RelationshipSatisfaction    0\n",
       "StockOptionLevel            0\n",
       "TotalWorkingYears           0\n",
       "TrainingTimesLastYear       0\n",
       "WorkLifeBalance             0\n",
       "YearsAtCompany              0\n",
       "YearsInCurrentRole          0\n",
       "YearsSinceLastPromotion     0\n",
       "YearsWithCurrManager        0\n",
       "dtype: int64"
      ]
     },
     "execution_count": 304,
     "metadata": {},
     "output_type": "execute_result"
    }
   ],
   "source": [
    "data.isna().sum()"
   ]
  },
  {
   "cell_type": "markdown",
   "id": "e0dfbb8e",
   "metadata": {
    "id": "0bouXLxGkSSd"
   },
   "source": [
    "## 1.가설수립"
   ]
  },
  {
   "cell_type": "markdown",
   "id": "a35a30a7",
   "metadata": {},
   "source": [
    "* 집과 회사의 거리가 먼 사람들이 퇴사를 많이 할 것이다.\n",
    "* 월급여가 낮은 사람이 퇴사를 많이 할 것이다.\n",
    "* 업무환경이 안좋은 사람이 퇴사를 많이 할것이다.\n",
    "* 워라벨이 안좋은 사람이 퇴사를 많이 할 것이다.\n",
    "* 근무부서에 따라 퇴사율이 다를것이다.\n",
    "* 초기 경력자들이 퇴사를 많이 할 것이다."
   ]
  },
  {
   "cell_type": "markdown",
   "id": "52c5fbf8",
   "metadata": {},
   "source": []
  },
  {
   "cell_type": "markdown",
   "id": "f603d281",
   "metadata": {
    "id": "1hYPpnplEedX"
   },
   "source": [
    "## 2.단변량 분석"
   ]
  },
  {
   "cell_type": "markdown",
   "id": "4efdd897",
   "metadata": {},
   "source": [
    "1) Age"
   ]
  },
  {
   "cell_type": "code",
   "execution_count": 305,
   "id": "c2f26941",
   "metadata": {},
   "outputs": [],
   "source": [
    "var='Age'"
   ]
  },
  {
   "cell_type": "markdown",
   "id": "e9437607",
   "metadata": {},
   "source": [
    "① 변수의 비즈니스 의미"
   ]
  },
  {
   "cell_type": "markdown",
   "id": "38a486e8",
   "metadata": {},
   "source": [
    "해당 직원의 나이"
   ]
  },
  {
   "cell_type": "markdown",
   "id": "dc90dc32",
   "metadata": {},
   "source": [
    "② 기초통계량 "
   ]
  },
  {
   "cell_type": "code",
   "execution_count": 306,
   "id": "9bf7e0f7",
   "metadata": {},
   "outputs": [
    {
     "data": {
      "text/plain": [
       "count    1470.000000\n",
       "mean       36.923810\n",
       "std         9.135373\n",
       "min        18.000000\n",
       "25%        30.000000\n",
       "50%        36.000000\n",
       "75%        43.000000\n",
       "max        60.000000\n",
       "Name: Age, dtype: float64"
      ]
     },
     "execution_count": 306,
     "metadata": {},
     "output_type": "execute_result"
    }
   ],
   "source": [
    "data[var].describe()"
   ]
  },
  {
   "cell_type": "markdown",
   "id": "df5b8044",
   "metadata": {},
   "source": [
    "③ 분포 "
   ]
  },
  {
   "cell_type": "code",
   "execution_count": 307,
   "id": "77aee852",
   "metadata": {},
   "outputs": [
    {
     "data": {
      "image/png": "[encoded data removed]",
      "text/plain": [
       "<Figure size 432x288 with 1 Axes>"
      ]
     },
     "metadata": {
      "needs_background": "light"
     },
     "output_type": "display_data"
    }
   ],
   "source": [
    "sns.histplot(data[var],bins=40)\n",
    "plt.show()"
   ]
  },
  {
   "cell_type": "markdown",
   "id": "e68f4a3f",
   "metadata": {},
   "source": [
    "2) Attrition"
   ]
  },
  {
   "cell_type": "code",
   "execution_count": 308,
   "id": "9bd956b4",
   "metadata": {},
   "outputs": [],
   "source": [
    "var='Attrition'"
   ]
  },
  {
   "cell_type": "markdown",
   "id": "fd56f8e4",
   "metadata": {},
   "source": [
    "① 변수의 비즈니스 의미"
   ]
  },
  {
   "cell_type": "markdown",
   "id": "5fa1bad4",
   "metadata": {},
   "source": [
    "퇴직 여부 Target값"
   ]
  },
  {
   "cell_type": "markdown",
   "id": "72f45f79",
   "metadata": {},
   "source": [
    "② 기초통계량 "
   ]
  },
  {
   "cell_type": "code",
   "execution_count": 309,
   "id": "f86573e6",
   "metadata": {},
   "outputs": [
    {
     "data": {
      "text/plain": [
       "0    1233\n",
       "1     237\n",
       "Name: Attrition, dtype: int64"
      ]
     },
     "execution_count": 309,
     "metadata": {},
     "output_type": "execute_result"
    }
   ],
   "source": [
    "data[var].value_counts()"
   ]
  },
  {
   "cell_type": "markdown",
   "id": "0376ca38",
   "metadata": {},
   "source": [
    "③ 분포 "
   ]
  },
  {
   "cell_type": "code",
   "execution_count": 310,
   "id": "02e54295",
   "metadata": {},
   "outputs": [
    {
     "name": "stderr",
     "output_type": "stream",
     "text": [
      "C:\\Users\\User\\anaconda3\\lib\\site-packages\\seaborn\\_decorators.py:36: FutureWarning: Pass the following variable as a keyword arg: x. From version 0.12, the only valid positional argument will be `data`, and passing other arguments without an explicit keyword will result in an error or misinterpretation.\n",
      "  warnings.warn(\n"
     ]
    },
    {
     "data": {
      "image/png": "[encoded data removed]",
      "text/plain": [
       "<Figure size 432x288 with 1 Axes>"
      ]
     },
     "metadata": {
      "needs_background": "light"
     },
     "output_type": "display_data"
    }
   ],
   "source": [
    "sns.countplot(data[var])\n",
    "plt.show()"
   ]
  },
  {
   "cell_type": "markdown",
   "id": "eaadce42",
   "metadata": {},
   "source": [
    "3) BusinessTravel"
   ]
  },
  {
   "cell_type": "code",
   "execution_count": 311,
   "id": "23702a77",
   "metadata": {},
   "outputs": [],
   "source": [
    "var='BusinessTravel'"
   ]
  },
  {
   "cell_type": "markdown",
   "id": "8b28a3d6",
   "metadata": {},
   "source": [
    "① 변수의 비즈니스 의미"
   ]
  },
  {
   "cell_type": "markdown",
   "id": "21f3c078",
   "metadata": {},
   "source": [
    "출장의 빈도"
   ]
  },
  {
   "cell_type": "markdown",
   "id": "e87fd528",
   "metadata": {},
   "source": [
    "② 기초통계량 "
   ]
  },
  {
   "cell_type": "code",
   "execution_count": 312,
   "id": "740b8109",
   "metadata": {},
   "outputs": [
    {
     "data": {
      "text/plain": [
       "Travel_Rarely        1043\n",
       "Travel_Frequently     277\n",
       "Non-Travel            150\n",
       "Name: BusinessTravel, dtype: int64"
      ]
     },
     "execution_count": 312,
     "metadata": {},
     "output_type": "execute_result"
    }
   ],
   "source": [
    "data[var].value_counts()"
   ]
  },
  {
   "cell_type": "markdown",
   "id": "6a8e2cb2",
   "metadata": {},
   "source": [
    "③ 분포 "
   ]
  },
  {
   "cell_type": "code",
   "execution_count": 313,
   "id": "b7959cbe",
   "metadata": {},
   "outputs": [
    {
     "name": "stderr",
     "output_type": "stream",
     "text": [
      "C:\\Users\\User\\anaconda3\\lib\\site-packages\\seaborn\\_decorators.py:36: FutureWarning: Pass the following variable as a keyword arg: x. From version 0.12, the only valid positional argument will be `data`, and passing other arguments without an explicit keyword will result in an error or misinterpretation.\n",
      "  warnings.warn(\n"
     ]
    },
    {
     "data": {
      "image/png": "[encoded data removed]",
      "text/plain": [
       "<Figure size 432x288 with 1 Axes>"
      ]
     },
     "metadata": {
      "needs_background": "light"
     },
     "output_type": "display_data"
    }
   ],
   "source": [
    "sns.countplot(data[var])\n",
    "plt.show()"
   ]
  },
  {
   "cell_type": "markdown",
   "id": "dbc1ac0f",
   "metadata": {},
   "source": [
    "4) DailyRate"
   ]
  },
  {
   "cell_type": "code",
   "execution_count": 314,
   "id": "bad6b4cb",
   "metadata": {},
   "outputs": [],
   "source": [
    "var='DailyRate'"
   ]
  },
  {
   "cell_type": "markdown",
   "id": "794c3429",
   "metadata": {},
   "source": [
    "① 변수의 비즈니스 의미"
   ]
  },
  {
   "cell_type": "markdown",
   "id": "bc0a8e62",
   "metadata": {},
   "source": [
    "일 대비 급여의 수준"
   ]
  },
  {
   "cell_type": "markdown",
   "id": "9407bcdb",
   "metadata": {},
   "source": [
    "② 기초통계량 "
   ]
  },
  {
   "cell_type": "code",
   "execution_count": 315,
   "id": "4e3af36e",
   "metadata": {},
   "outputs": [
    {
     "data": {
      "text/plain": [
       "count    1470.000000\n",
       "mean      802.485714\n",
       "std       403.509100\n",
       "min       102.000000\n",
       "25%       465.000000\n",
       "50%       802.000000\n",
       "75%      1157.000000\n",
       "max      1499.000000\n",
       "Name: DailyRate, dtype: float64"
      ]
     },
     "execution_count": 315,
     "metadata": {},
     "output_type": "execute_result"
    }
   ],
   "source": [
    "data[var].describe()"
   ]
  },
  {
   "cell_type": "markdown",
   "id": "5f3b93d3",
   "metadata": {},
   "source": [
    "③ 분포 "
   ]
  },
  {
   "cell_type": "code",
   "execution_count": 316,
   "id": "de7a4e14",
   "metadata": {},
   "outputs": [
    {
     "data": {
      "image/png": "[encoded data removed]",
      "text/plain": [
       "<Figure size 432x288 with 1 Axes>"
      ]
     },
     "metadata": {
      "needs_background": "light"
     },
     "output_type": "display_data"
    }
   ],
   "source": [
    "sns.histplot(data[var],bins=50)\n",
    "plt.show()"
   ]
  },
  {
   "cell_type": "markdown",
   "id": "ecb82002",
   "metadata": {},
   "source": [
    "5) Department"
   ]
  },
  {
   "cell_type": "code",
   "execution_count": 317,
   "id": "e536897f",
   "metadata": {},
   "outputs": [],
   "source": [
    "var='Department'"
   ]
  },
  {
   "cell_type": "markdown",
   "id": "9bf557c9",
   "metadata": {},
   "source": [
    "① 변수의 비즈니스 의미"
   ]
  },
  {
   "cell_type": "markdown",
   "id": "cd416ecb",
   "metadata": {},
   "source": [
    "업무분야"
   ]
  },
  {
   "cell_type": "markdown",
   "id": "1758af18",
   "metadata": {},
   "source": [
    "② 기초통계량 "
   ]
  },
  {
   "cell_type": "code",
   "execution_count": 318,
   "id": "44ab8a61",
   "metadata": {},
   "outputs": [
    {
     "data": {
      "text/plain": [
       "Research & Development    961\n",
       "Sales                     446\n",
       "Human Resources            63\n",
       "Name: Department, dtype: int64"
      ]
     },
     "execution_count": 318,
     "metadata": {},
     "output_type": "execute_result"
    }
   ],
   "source": [
    "data[var].value_counts()"
   ]
  },
  {
   "cell_type": "markdown",
   "id": "6c0785e9",
   "metadata": {},
   "source": [
    "③ 분포 "
   ]
  },
  {
   "cell_type": "code",
   "execution_count": 319,
   "id": "57245a61",
   "metadata": {},
   "outputs": [
    {
     "name": "stderr",
     "output_type": "stream",
     "text": [
      "C:\\Users\\User\\anaconda3\\lib\\site-packages\\seaborn\\_decorators.py:36: FutureWarning: Pass the following variable as a keyword arg: x. From version 0.12, the only valid positional argument will be `data`, and passing other arguments without an explicit keyword will result in an error or misinterpretation.\n",
      "  warnings.warn(\n"
     ]
    },
    {
     "data": {
      "image/png": "[encoded data removed]",
      "text/plain": [
       "<Figure size 432x288 with 1 Axes>"
      ]
     },
     "metadata": {
      "needs_background": "light"
     },
     "output_type": "display_data"
    }
   ],
   "source": [
    "sns.countplot(data[var])\n",
    "plt.show()"
   ]
  },
  {
   "cell_type": "markdown",
   "id": "6e4b37ab",
   "metadata": {},
   "source": [
    "6) DistanceFromHome"
   ]
  },
  {
   "cell_type": "code",
   "execution_count": 320,
   "id": "5500dab4",
   "metadata": {},
   "outputs": [],
   "source": [
    "var='DistanceFromHome'"
   ]
  },
  {
   "cell_type": "markdown",
   "id": "852b7a66",
   "metadata": {},
   "source": [
    "① 변수의 비즈니스 의미"
   ]
  },
  {
   "cell_type": "markdown",
   "id": "4e5a0223",
   "metadata": {},
   "source": [
    "집과의 거리"
   ]
  },
  {
   "cell_type": "markdown",
   "id": "c4341b5e",
   "metadata": {},
   "source": [
    "② 기초통계량 "
   ]
  },
  {
   "cell_type": "code",
   "execution_count": 321,
   "id": "d8789323",
   "metadata": {},
   "outputs": [
    {
     "data": {
      "text/plain": [
       "count    1470.000000\n",
       "mean        9.192517\n",
       "std         8.106864\n",
       "min         1.000000\n",
       "25%         2.000000\n",
       "50%         7.000000\n",
       "75%        14.000000\n",
       "max        29.000000\n",
       "Name: DistanceFromHome, dtype: float64"
      ]
     },
     "execution_count": 321,
     "metadata": {},
     "output_type": "execute_result"
    }
   ],
   "source": [
    "data[var].describe()"
   ]
  },
  {
   "cell_type": "markdown",
   "id": "63b42f26",
   "metadata": {},
   "source": [
    "③ 분포 "
   ]
  },
  {
   "cell_type": "code",
   "execution_count": 322,
   "id": "393d795d",
   "metadata": {},
   "outputs": [
    {
     "data": {
      "image/png": "[encoded data removed]",
      "text/plain": [
       "<Figure size 432x288 with 1 Axes>"
      ]
     },
     "metadata": {
      "needs_background": "light"
     },
     "output_type": "display_data"
    }
   ],
   "source": [
    "sns.histplot(data[var],bins=50)\n",
    "plt.show()"
   ]
  },
  {
   "cell_type": "markdown",
   "id": "03f8c85e",
   "metadata": {},
   "source": [
    "7) Education"
   ]
  },
  {
   "cell_type": "code",
   "execution_count": 323,
   "id": "bd0534fa",
   "metadata": {},
   "outputs": [],
   "source": [
    "var='Education'"
   ]
  },
  {
   "cell_type": "markdown",
   "id": "f07fc246",
   "metadata": {},
   "source": [
    "① 변수의 비즈니스 의미"
   ]
  },
  {
   "cell_type": "markdown",
   "id": "e4d317bb",
   "metadata": {},
   "source": [
    "교육의 정도\n",
    "*\t1 : ‘Below College’ : 대학 이하\t\n",
    "*\t2 : ‘College’ : 전문대\t\t\t\n",
    "*\t3 : ‘Bachelor’ : 학사\n",
    "*\t4 : ‘Master’ : 석사\n",
    "*\t5 : ‘Doctor’ : 박사"
   ]
  },
  {
   "cell_type": "markdown",
   "id": "6562259f",
   "metadata": {},
   "source": [
    "② 기초통계량 "
   ]
  },
  {
   "cell_type": "code",
   "execution_count": 324,
   "id": "4abfb145",
   "metadata": {},
   "outputs": [
    {
     "data": {
      "text/plain": [
       "Bachelor         572\n",
       "Master           398\n",
       "College          282\n",
       "Below College    170\n",
       "Doctor            48\n",
       "Name: Education, dtype: int64"
      ]
     },
     "execution_count": 324,
     "metadata": {},
     "output_type": "execute_result"
    }
   ],
   "source": [
    "data[var].value_counts()"
   ]
  },
  {
   "cell_type": "markdown",
   "id": "72069732",
   "metadata": {},
   "source": [
    "③ 분포 "
   ]
  },
  {
   "cell_type": "code",
   "execution_count": 325,
   "id": "58566193",
   "metadata": {},
   "outputs": [
    {
     "name": "stderr",
     "output_type": "stream",
     "text": [
      "C:\\Users\\User\\anaconda3\\lib\\site-packages\\seaborn\\_decorators.py:36: FutureWarning: Pass the following variable as a keyword arg: x. From version 0.12, the only valid positional argument will be `data`, and passing other arguments without an explicit keyword will result in an error or misinterpretation.\n",
      "  warnings.warn(\n"
     ]
    },
    {
     "data": {
      "text/plain": [
       "<AxesSubplot:xlabel='Education', ylabel='count'>"
      ]
     },
     "execution_count": 325,
     "metadata": {},
     "output_type": "execute_result"
    },
    {
     "data": {
      "image/png": "[encoded data removed]",
      "text/plain": [
       "<Figure size 432x288 with 1 Axes>"
      ]
     },
     "metadata": {
      "needs_background": "light"
     },
     "output_type": "display_data"
    }
   ],
   "source": [
    "sns.countplot(data[var])"
   ]
  },
  {
   "cell_type": "markdown",
   "id": "67dd9ff4",
   "metadata": {},
   "source": [
    "8) EducationField"
   ]
  },
  {
   "cell_type": "code",
   "execution_count": 326,
   "id": "4b2487f2",
   "metadata": {},
   "outputs": [],
   "source": [
    "var='EducationField'"
   ]
  },
  {
   "cell_type": "markdown",
   "id": "394dfb3c",
   "metadata": {},
   "source": [
    "① 변수의 비즈니스 의미"
   ]
  },
  {
   "cell_type": "markdown",
   "id": "3a16be62",
   "metadata": {},
   "source": [
    "전공"
   ]
  },
  {
   "cell_type": "markdown",
   "id": "cd7c1727",
   "metadata": {},
   "source": [
    "② 기초통계량 "
   ]
  },
  {
   "cell_type": "code",
   "execution_count": 327,
   "id": "7d9c39d6",
   "metadata": {},
   "outputs": [
    {
     "data": {
      "text/plain": [
       "Life Sciences       606\n",
       "Medical             464\n",
       "Marketing           159\n",
       "Technical Degree    132\n",
       "Other                82\n",
       "Human Resources      27\n",
       "Name: EducationField, dtype: int64"
      ]
     },
     "execution_count": 327,
     "metadata": {},
     "output_type": "execute_result"
    }
   ],
   "source": [
    "data[var].value_counts()"
   ]
  },
  {
   "cell_type": "markdown",
   "id": "97382ace",
   "metadata": {},
   "source": [
    "③ 분포 "
   ]
  },
  {
   "cell_type": "code",
   "execution_count": 328,
   "id": "5d182d04",
   "metadata": {},
   "outputs": [
    {
     "name": "stderr",
     "output_type": "stream",
     "text": [
      "C:\\Users\\User\\anaconda3\\lib\\site-packages\\seaborn\\_decorators.py:36: FutureWarning: Pass the following variable as a keyword arg: x. From version 0.12, the only valid positional argument will be `data`, and passing other arguments without an explicit keyword will result in an error or misinterpretation.\n",
      "  warnings.warn(\n"
     ]
    },
    {
     "data": {
      "text/plain": [
       "<AxesSubplot:xlabel='EducationField', ylabel='count'>"
      ]
     },
     "execution_count": 328,
     "metadata": {},
     "output_type": "execute_result"
    },
    {
     "data": {
      "image/png": "[encoded data removed]",
      "text/plain": [
       "<Figure size 432x288 with 1 Axes>"
      ]
     },
     "metadata": {
      "needs_background": "light"
     },
     "output_type": "display_data"
    }
   ],
   "source": [
    "sns.countplot(data[var])"
   ]
  },
  {
   "cell_type": "markdown",
   "id": "9838fa17",
   "metadata": {},
   "source": [
    "9) EnvironmentSatisfaction"
   ]
  },
  {
   "cell_type": "code",
   "execution_count": 329,
   "id": "9f50cf5e",
   "metadata": {},
   "outputs": [],
   "source": [
    "var='EnvironmentSatisfaction'"
   ]
  },
  {
   "cell_type": "markdown",
   "id": "add5683e",
   "metadata": {},
   "source": [
    "① 변수의 비즈니스 의미"
   ]
  },
  {
   "cell_type": "markdown",
   "id": "b2b59c59",
   "metadata": {},
   "source": [
    "업무 환경에 대한 만족도"
   ]
  },
  {
   "cell_type": "markdown",
   "id": "53b17c0f",
   "metadata": {},
   "source": [
    "② 기초통계량 "
   ]
  },
  {
   "cell_type": "code",
   "execution_count": 330,
   "id": "bc51273c",
   "metadata": {},
   "outputs": [
    {
     "data": {
      "text/plain": [
       "High         453\n",
       "Very High    446\n",
       "Medium       287\n",
       "Low          284\n",
       "Name: EnvironmentSatisfaction, dtype: int64"
      ]
     },
     "execution_count": 330,
     "metadata": {},
     "output_type": "execute_result"
    }
   ],
   "source": [
    "data[var].value_counts()"
   ]
  },
  {
   "cell_type": "markdown",
   "id": "18e02f3b",
   "metadata": {},
   "source": [
    "③ 분포 "
   ]
  },
  {
   "cell_type": "code",
   "execution_count": 331,
   "id": "3a4488e7",
   "metadata": {},
   "outputs": [
    {
     "name": "stderr",
     "output_type": "stream",
     "text": [
      "C:\\Users\\User\\anaconda3\\lib\\site-packages\\seaborn\\_decorators.py:36: FutureWarning: Pass the following variable as a keyword arg: x. From version 0.12, the only valid positional argument will be `data`, and passing other arguments without an explicit keyword will result in an error or misinterpretation.\n",
      "  warnings.warn(\n"
     ]
    },
    {
     "data": {
      "text/plain": [
       "<AxesSubplot:xlabel='EnvironmentSatisfaction', ylabel='count'>"
      ]
     },
     "execution_count": 331,
     "metadata": {},
     "output_type": "execute_result"
    },
    {
     "data": {
      "image/png": "[encoded data removed]",
      "text/plain": [
       "<Figure size 432x288 with 1 Axes>"
      ]
     },
     "metadata": {
      "needs_background": "light"
     },
     "output_type": "display_data"
    }
   ],
   "source": [
    "sns.countplot(data[var])"
   ]
  },
  {
   "cell_type": "markdown",
   "id": "74e631e6",
   "metadata": {},
   "source": [
    "10) Gender"
   ]
  },
  {
   "cell_type": "code",
   "execution_count": 332,
   "id": "4b5620c0",
   "metadata": {},
   "outputs": [],
   "source": [
    "var='Gender'"
   ]
  },
  {
   "cell_type": "markdown",
   "id": "92dec174",
   "metadata": {},
   "source": [
    "① 변수의 비즈니스 의미"
   ]
  },
  {
   "cell_type": "markdown",
   "id": "32e5ad37",
   "metadata": {},
   "source": [
    "성별"
   ]
  },
  {
   "cell_type": "markdown",
   "id": "67298b11",
   "metadata": {},
   "source": [
    "② 기초통계량 "
   ]
  },
  {
   "cell_type": "code",
   "execution_count": 333,
   "id": "21911839",
   "metadata": {},
   "outputs": [
    {
     "data": {
      "text/plain": [
       "Male      882\n",
       "Female    588\n",
       "Name: Gender, dtype: int64"
      ]
     },
     "execution_count": 333,
     "metadata": {},
     "output_type": "execute_result"
    }
   ],
   "source": [
    "data[var].value_counts()"
   ]
  },
  {
   "cell_type": "markdown",
   "id": "4974dfec",
   "metadata": {},
   "source": [
    "③ 분포 "
   ]
  },
  {
   "cell_type": "code",
   "execution_count": 334,
   "id": "90e583e6",
   "metadata": {},
   "outputs": [
    {
     "name": "stderr",
     "output_type": "stream",
     "text": [
      "C:\\Users\\User\\anaconda3\\lib\\site-packages\\seaborn\\_decorators.py:36: FutureWarning: Pass the following variable as a keyword arg: x. From version 0.12, the only valid positional argument will be `data`, and passing other arguments without an explicit keyword will result in an error or misinterpretation.\n",
      "  warnings.warn(\n"
     ]
    },
    {
     "data": {
      "text/plain": [
       "<AxesSubplot:xlabel='Gender', ylabel='count'>"
      ]
     },
     "execution_count": 334,
     "metadata": {},
     "output_type": "execute_result"
    },
    {
     "data": {
      "image/png": "[encoded data removed]",
      "text/plain": [
       "<Figure size 432x288 with 1 Axes>"
      ]
     },
     "metadata": {
      "needs_background": "light"
     },
     "output_type": "display_data"
    }
   ],
   "source": [
    "sns.countplot(data[var])"
   ]
  },
  {
   "cell_type": "markdown",
   "id": "7a55b935",
   "metadata": {},
   "source": [
    "11) HourlyRate"
   ]
  },
  {
   "cell_type": "code",
   "execution_count": 335,
   "id": "32f9042c",
   "metadata": {},
   "outputs": [],
   "source": [
    "var='HourlyRate'"
   ]
  },
  {
   "cell_type": "markdown",
   "id": "dd3e861f",
   "metadata": {},
   "source": [
    "① 변수의 비즈니스 의미"
   ]
  },
  {
   "cell_type": "markdown",
   "id": "3b5bd699",
   "metadata": {},
   "source": [
    "시간 대비 급여의 수준"
   ]
  },
  {
   "cell_type": "markdown",
   "id": "d0a8853e",
   "metadata": {},
   "source": [
    "② 기초통계량 "
   ]
  },
  {
   "cell_type": "code",
   "execution_count": 336,
   "id": "63708131",
   "metadata": {},
   "outputs": [
    {
     "data": {
      "text/plain": [
       "count    1470.000000\n",
       "mean       65.891156\n",
       "std        20.329428\n",
       "min        30.000000\n",
       "25%        48.000000\n",
       "50%        66.000000\n",
       "75%        83.750000\n",
       "max       100.000000\n",
       "Name: HourlyRate, dtype: float64"
      ]
     },
     "execution_count": 336,
     "metadata": {},
     "output_type": "execute_result"
    }
   ],
   "source": [
    "data[var].describe()"
   ]
  },
  {
   "cell_type": "markdown",
   "id": "f017a030",
   "metadata": {},
   "source": [
    "③ 분포 "
   ]
  },
  {
   "cell_type": "code",
   "execution_count": 337,
   "id": "80259979",
   "metadata": {},
   "outputs": [
    {
     "data": {
      "text/plain": [
       "<AxesSubplot:xlabel='HourlyRate', ylabel='Count'>"
      ]
     },
     "execution_count": 337,
     "metadata": {},
     "output_type": "execute_result"
    },
    {
     "data": {
      "image/png": "[encoded data removed]",
      "text/plain": [
       "<Figure size 432x288 with 1 Axes>"
      ]
     },
     "metadata": {
      "needs_background": "light"
     },
     "output_type": "display_data"
    }
   ],
   "source": [
    "sns.histplot(data[var],bins=50)"
   ]
  },
  {
   "cell_type": "markdown",
   "id": "f0020994",
   "metadata": {},
   "source": [
    "12) JobInvolvement"
   ]
  },
  {
   "cell_type": "code",
   "execution_count": 338,
   "id": "01881ac9",
   "metadata": {},
   "outputs": [],
   "source": [
    "var='JobInvolvement'"
   ]
  },
  {
   "cell_type": "markdown",
   "id": "efad087c",
   "metadata": {},
   "source": [
    "① 변수의 비즈니스 의미"
   ]
  },
  {
   "cell_type": "markdown",
   "id": "a396b658",
   "metadata": {},
   "source": [
    "업무 참여도"
   ]
  },
  {
   "cell_type": "markdown",
   "id": "bb44f023",
   "metadata": {},
   "source": [
    "② 기초통계량 "
   ]
  },
  {
   "cell_type": "code",
   "execution_count": 339,
   "id": "0db657c6",
   "metadata": {},
   "outputs": [
    {
     "data": {
      "text/plain": [
       "High         868\n",
       "Medium       375\n",
       "Very High    144\n",
       "Low           83\n",
       "Name: JobInvolvement, dtype: int64"
      ]
     },
     "execution_count": 339,
     "metadata": {},
     "output_type": "execute_result"
    }
   ],
   "source": [
    "data[var].value_counts()"
   ]
  },
  {
   "cell_type": "markdown",
   "id": "fe9f8ebb",
   "metadata": {},
   "source": [
    "③ 분포 "
   ]
  },
  {
   "cell_type": "code",
   "execution_count": 340,
   "id": "1e5b9b08",
   "metadata": {},
   "outputs": [
    {
     "name": "stderr",
     "output_type": "stream",
     "text": [
      "C:\\Users\\User\\anaconda3\\lib\\site-packages\\seaborn\\_decorators.py:36: FutureWarning: Pass the following variable as a keyword arg: x. From version 0.12, the only valid positional argument will be `data`, and passing other arguments without an explicit keyword will result in an error or misinterpretation.\n",
      "  warnings.warn(\n"
     ]
    },
    {
     "data": {
      "text/plain": [
       "<AxesSubplot:xlabel='JobInvolvement', ylabel='count'>"
      ]
     },
     "execution_count": 340,
     "metadata": {},
     "output_type": "execute_result"
    },
    {
     "data": {
      "image/png": "[encoded data removed]",
      "text/plain": [
       "<Figure size 432x288 with 1 Axes>"
      ]
     },
     "metadata": {
      "needs_background": "light"
     },
     "output_type": "display_data"
    }
   ],
   "source": [
    "sns.countplot(data[var])"
   ]
  },
  {
   "cell_type": "markdown",
   "id": "1e9981d9",
   "metadata": {},
   "source": [
    "13) JobLevel"
   ]
  },
  {
   "cell_type": "code",
   "execution_count": 341,
   "id": "9a4feaee",
   "metadata": {},
   "outputs": [],
   "source": [
    "var='JobLevel'"
   ]
  },
  {
   "cell_type": "markdown",
   "id": "b8e45c82",
   "metadata": {},
   "source": [
    "① 변수의 비즈니스 의미"
   ]
  },
  {
   "cell_type": "markdown",
   "id": "d4bd9a7f",
   "metadata": {},
   "source": [
    "업무의 수준"
   ]
  },
  {
   "cell_type": "markdown",
   "id": "34c3b7ba",
   "metadata": {},
   "source": [
    "② 기초통계량 "
   ]
  },
  {
   "cell_type": "code",
   "execution_count": 342,
   "id": "d590ef9a",
   "metadata": {},
   "outputs": [
    {
     "data": {
      "text/plain": [
       "1    543\n",
       "2    534\n",
       "3    218\n",
       "4    106\n",
       "5     69\n",
       "Name: JobLevel, dtype: int64"
      ]
     },
     "execution_count": 342,
     "metadata": {},
     "output_type": "execute_result"
    }
   ],
   "source": [
    "data[var].value_counts()"
   ]
  },
  {
   "cell_type": "markdown",
   "id": "99242c21",
   "metadata": {},
   "source": [
    "③ 분포 "
   ]
  },
  {
   "cell_type": "code",
   "execution_count": 343,
   "id": "3c4af54f",
   "metadata": {},
   "outputs": [
    {
     "name": "stderr",
     "output_type": "stream",
     "text": [
      "C:\\Users\\User\\anaconda3\\lib\\site-packages\\seaborn\\_decorators.py:36: FutureWarning: Pass the following variable as a keyword arg: x. From version 0.12, the only valid positional argument will be `data`, and passing other arguments without an explicit keyword will result in an error or misinterpretation.\n",
      "  warnings.warn(\n"
     ]
    },
    {
     "data": {
      "text/plain": [
       "<AxesSubplot:xlabel='JobLevel', ylabel='count'>"
      ]
     },
     "execution_count": 343,
     "metadata": {},
     "output_type": "execute_result"
    },
    {
     "data": {
      "image/png": "[encoded data removed]",
      "text/plain": [
       "<Figure size 432x288 with 1 Axes>"
      ]
     },
     "metadata": {
      "needs_background": "light"
     },
     "output_type": "display_data"
    }
   ],
   "source": [
    "sns.countplot(data[var])"
   ]
  },
  {
   "cell_type": "markdown",
   "id": "5c4c3062",
   "metadata": {},
   "source": [
    "14) JobRole"
   ]
  },
  {
   "cell_type": "code",
   "execution_count": 344,
   "id": "4f229c9a",
   "metadata": {},
   "outputs": [],
   "source": [
    "var='JobRole'"
   ]
  },
  {
   "cell_type": "markdown",
   "id": "159b932f",
   "metadata": {},
   "source": [
    "① 변수의 비즈니스 의미"
   ]
  },
  {
   "cell_type": "markdown",
   "id": "56ce6e73",
   "metadata": {},
   "source": [
    "업무 종류"
   ]
  },
  {
   "cell_type": "markdown",
   "id": "3d4637ab",
   "metadata": {},
   "source": [
    "② 기초통계량 "
   ]
  },
  {
   "cell_type": "code",
   "execution_count": 345,
   "id": "ec34cbcd",
   "metadata": {},
   "outputs": [
    {
     "data": {
      "text/plain": [
       "Sales Executive              326\n",
       "Research Scientist           292\n",
       "Laboratory Technician        259\n",
       "Manufacturing Director       145\n",
       "Healthcare Representative    131\n",
       "Manager                      102\n",
       "Sales Representative          83\n",
       "Research Director             80\n",
       "Human Resources               52\n",
       "Name: JobRole, dtype: int64"
      ]
     },
     "execution_count": 345,
     "metadata": {},
     "output_type": "execute_result"
    }
   ],
   "source": [
    "data[var].value_counts()"
   ]
  },
  {
   "cell_type": "markdown",
   "id": "8319c4a3",
   "metadata": {},
   "source": [
    "③ 분포 "
   ]
  },
  {
   "cell_type": "code",
   "execution_count": 346,
   "id": "4ce659d8",
   "metadata": {},
   "outputs": [
    {
     "name": "stderr",
     "output_type": "stream",
     "text": [
      "C:\\Users\\User\\anaconda3\\lib\\site-packages\\seaborn\\_decorators.py:36: FutureWarning: Pass the following variable as a keyword arg: x. From version 0.12, the only valid positional argument will be `data`, and passing other arguments without an explicit keyword will result in an error or misinterpretation.\n",
      "  warnings.warn(\n"
     ]
    },
    {
     "data": {
      "text/plain": [
       "<AxesSubplot:xlabel='JobRole', ylabel='count'>"
      ]
     },
     "execution_count": 346,
     "metadata": {},
     "output_type": "execute_result"
    },
    {
     "data": {
      "image/png": "[encoded data removed]",
      "text/plain": [
       "<Figure size 432x288 with 1 Axes>"
      ]
     },
     "metadata": {
      "needs_background": "light"
     },
     "output_type": "display_data"
    }
   ],
   "source": [
    "sns.countplot(data[var])"
   ]
  },
  {
   "cell_type": "markdown",
   "id": "41be6513",
   "metadata": {},
   "source": [
    "15) JobSatisfaction"
   ]
  },
  {
   "cell_type": "code",
   "execution_count": 347,
   "id": "e345d974",
   "metadata": {},
   "outputs": [],
   "source": [
    "var='JobSatisfaction'"
   ]
  },
  {
   "cell_type": "markdown",
   "id": "33c7d99d",
   "metadata": {},
   "source": [
    "① 변수의 비즈니스 의미"
   ]
  },
  {
   "cell_type": "markdown",
   "id": "cfad636d",
   "metadata": {},
   "source": [
    "업무 만족도"
   ]
  },
  {
   "cell_type": "markdown",
   "id": "f19e94bd",
   "metadata": {},
   "source": [
    "② 기초통계량 "
   ]
  },
  {
   "cell_type": "code",
   "execution_count": 348,
   "id": "4a3d48e7",
   "metadata": {},
   "outputs": [
    {
     "data": {
      "text/plain": [
       "Very High    459\n",
       "High         442\n",
       "Low          289\n",
       "Medium       280\n",
       "Name: JobSatisfaction, dtype: int64"
      ]
     },
     "execution_count": 348,
     "metadata": {},
     "output_type": "execute_result"
    }
   ],
   "source": [
    "data[var].value_counts()"
   ]
  },
  {
   "cell_type": "markdown",
   "id": "776e444c",
   "metadata": {},
   "source": [
    "③ 분포 "
   ]
  },
  {
   "cell_type": "code",
   "execution_count": 349,
   "id": "bacb4927",
   "metadata": {},
   "outputs": [
    {
     "name": "stderr",
     "output_type": "stream",
     "text": [
      "C:\\Users\\User\\anaconda3\\lib\\site-packages\\seaborn\\_decorators.py:36: FutureWarning: Pass the following variable as a keyword arg: x. From version 0.12, the only valid positional argument will be `data`, and passing other arguments without an explicit keyword will result in an error or misinterpretation.\n",
      "  warnings.warn(\n"
     ]
    },
    {
     "data": {
      "text/plain": [
       "<AxesSubplot:xlabel='JobSatisfaction', ylabel='count'>"
      ]
     },
     "execution_count": 349,
     "metadata": {},
     "output_type": "execute_result"
    },
    {
     "data": {
      "image/png": "[encoded data removed]",
      "text/plain": [
       "<Figure size 432x288 with 1 Axes>"
      ]
     },
     "metadata": {
      "needs_background": "light"
     },
     "output_type": "display_data"
    }
   ],
   "source": [
    "sns.countplot(data[var])"
   ]
  },
  {
   "cell_type": "markdown",
   "id": "45b1f38f",
   "metadata": {},
   "source": [
    "16) MaritalStatus"
   ]
  },
  {
   "cell_type": "code",
   "execution_count": 350,
   "id": "0e53ff97",
   "metadata": {},
   "outputs": [],
   "source": [
    "var='MaritalStatus'"
   ]
  },
  {
   "cell_type": "markdown",
   "id": "e9d5f516",
   "metadata": {},
   "source": [
    "① 변수의 비즈니스 의미"
   ]
  },
  {
   "cell_type": "markdown",
   "id": "6cc3c075",
   "metadata": {},
   "source": [
    "결혼 여부"
   ]
  },
  {
   "cell_type": "markdown",
   "id": "85239825",
   "metadata": {},
   "source": [
    "② 기초통계량 "
   ]
  },
  {
   "cell_type": "code",
   "execution_count": 351,
   "id": "710cbb7d",
   "metadata": {},
   "outputs": [
    {
     "data": {
      "text/plain": [
       "Married     673\n",
       "Single      470\n",
       "Divorced    327\n",
       "Name: MaritalStatus, dtype: int64"
      ]
     },
     "execution_count": 351,
     "metadata": {},
     "output_type": "execute_result"
    }
   ],
   "source": [
    "data[var].value_counts()"
   ]
  },
  {
   "cell_type": "markdown",
   "id": "7b7f9669",
   "metadata": {},
   "source": [
    "③ 분포 "
   ]
  },
  {
   "cell_type": "code",
   "execution_count": 352,
   "id": "eab6611d",
   "metadata": {},
   "outputs": [
    {
     "name": "stderr",
     "output_type": "stream",
     "text": [
      "C:\\Users\\User\\anaconda3\\lib\\site-packages\\seaborn\\_decorators.py:36: FutureWarning: Pass the following variable as a keyword arg: x. From version 0.12, the only valid positional argument will be `data`, and passing other arguments without an explicit keyword will result in an error or misinterpretation.\n",
      "  warnings.warn(\n"
     ]
    },
    {
     "data": {
      "text/plain": [
       "<AxesSubplot:xlabel='MaritalStatus', ylabel='count'>"
      ]
     },
     "execution_count": 352,
     "metadata": {},
     "output_type": "execute_result"
    },
    {
     "data": {
      "image/png": "[encoded data removed]",
      "text/plain": [
       "<Figure size 432x288 with 1 Axes>"
      ]
     },
     "metadata": {
      "needs_background": "light"
     },
     "output_type": "display_data"
    }
   ],
   "source": [
    "sns.countplot(data[var])"
   ]
  },
  {
   "cell_type": "markdown",
   "id": "f4e0a803",
   "metadata": {},
   "source": [
    "17) MonthlyIncome"
   ]
  },
  {
   "cell_type": "code",
   "execution_count": 353,
   "id": "449e46fa",
   "metadata": {},
   "outputs": [],
   "source": [
    "var='MonthlyIncome'"
   ]
  },
  {
   "cell_type": "markdown",
   "id": "74a4aa7c",
   "metadata": {},
   "source": [
    "① 변수의 비즈니스 의미"
   ]
  },
  {
   "cell_type": "markdown",
   "id": "60424114",
   "metadata": {},
   "source": [
    "월 소득"
   ]
  },
  {
   "cell_type": "markdown",
   "id": "162a8288",
   "metadata": {},
   "source": [
    "② 기초통계량 "
   ]
  },
  {
   "cell_type": "code",
   "execution_count": 354,
   "id": "e81b5807",
   "metadata": {},
   "outputs": [
    {
     "data": {
      "text/plain": [
       "count     1470.000000\n",
       "mean      6502.931293\n",
       "std       4707.956783\n",
       "min       1009.000000\n",
       "25%       2911.000000\n",
       "50%       4919.000000\n",
       "75%       8379.000000\n",
       "max      19999.000000\n",
       "Name: MonthlyIncome, dtype: float64"
      ]
     },
     "execution_count": 354,
     "metadata": {},
     "output_type": "execute_result"
    }
   ],
   "source": [
    "data[var].describe()"
   ]
  },
  {
   "cell_type": "markdown",
   "id": "1d64aa91",
   "metadata": {},
   "source": [
    "③ 분포 "
   ]
  },
  {
   "cell_type": "code",
   "execution_count": 355,
   "id": "b40f0f14",
   "metadata": {},
   "outputs": [
    {
     "data": {
      "text/plain": [
       "<AxesSubplot:xlabel='MonthlyIncome', ylabel='Count'>"
      ]
     },
     "execution_count": 355,
     "metadata": {},
     "output_type": "execute_result"
    },
    {
     "data": {
      "image/png": "[encoded data removed]",
      "text/plain": [
       "<Figure size 432x288 with 1 Axes>"
      ]
     },
     "metadata": {
      "needs_background": "light"
     },
     "output_type": "display_data"
    }
   ],
   "source": [
    "sns.histplot(data[var],bins=50)"
   ]
  },
  {
   "cell_type": "markdown",
   "id": "09bed790",
   "metadata": {},
   "source": [
    "18) MonthlyRate"
   ]
  },
  {
   "cell_type": "code",
   "execution_count": 356,
   "id": "c56b156f",
   "metadata": {},
   "outputs": [],
   "source": [
    "var='MonthlyRate'"
   ]
  },
  {
   "cell_type": "markdown",
   "id": "34e90447",
   "metadata": {},
   "source": [
    "① 변수의 비즈니스 의미"
   ]
  },
  {
   "cell_type": "markdown",
   "id": "ec96e10c",
   "metadata": {},
   "source": [
    "월 대비 급여 수준"
   ]
  },
  {
   "cell_type": "markdown",
   "id": "a6aef4a5",
   "metadata": {},
   "source": [
    "② 기초통계량 "
   ]
  },
  {
   "cell_type": "code",
   "execution_count": 357,
   "id": "4bfad50c",
   "metadata": {},
   "outputs": [
    {
     "data": {
      "text/plain": [
       "count     1470.000000\n",
       "mean     14313.103401\n",
       "std       7117.786044\n",
       "min       2094.000000\n",
       "25%       8047.000000\n",
       "50%      14235.500000\n",
       "75%      20461.500000\n",
       "max      26999.000000\n",
       "Name: MonthlyRate, dtype: float64"
      ]
     },
     "execution_count": 357,
     "metadata": {},
     "output_type": "execute_result"
    }
   ],
   "source": [
    "data[var].describe()"
   ]
  },
  {
   "cell_type": "markdown",
   "id": "1d130544",
   "metadata": {},
   "source": [
    "③ 분포 "
   ]
  },
  {
   "cell_type": "code",
   "execution_count": 358,
   "id": "bfa5e2b0",
   "metadata": {},
   "outputs": [
    {
     "data": {
      "text/plain": [
       "<AxesSubplot:xlabel='MonthlyRate', ylabel='Count'>"
      ]
     },
     "execution_count": 358,
     "metadata": {},
     "output_type": "execute_result"
    },
    {
     "data": {
      "image/png": "[encoded data removed]",
      "text/plain": [
       "<Figure size 432x288 with 1 Axes>"
      ]
     },
     "metadata": {
      "needs_background": "light"
     },
     "output_type": "display_data"
    }
   ],
   "source": [
    "sns.histplot(data[var],bins=50)"
   ]
  },
  {
   "cell_type": "markdown",
   "id": "97ac5995",
   "metadata": {},
   "source": [
    "19) NumCompaniesWorked"
   ]
  },
  {
   "cell_type": "code",
   "execution_count": 359,
   "id": "719df84e",
   "metadata": {},
   "outputs": [],
   "source": [
    "var='NumCompaniesWorked'"
   ]
  },
  {
   "cell_type": "markdown",
   "id": "e859a41c",
   "metadata": {},
   "source": [
    "① 변수의 비즈니스 의미"
   ]
  },
  {
   "cell_type": "markdown",
   "id": "fe35499d",
   "metadata": {},
   "source": [
    "일한 회사의 수"
   ]
  },
  {
   "cell_type": "markdown",
   "id": "4c9c2802",
   "metadata": {},
   "source": [
    "② 기초통계량 "
   ]
  },
  {
   "cell_type": "code",
   "execution_count": 360,
   "id": "69703b18",
   "metadata": {},
   "outputs": [
    {
     "data": {
      "text/plain": [
       "1    521\n",
       "0    197\n",
       "3    159\n",
       "2    146\n",
       "4    139\n",
       "7     74\n",
       "6     70\n",
       "5     63\n",
       "9     52\n",
       "8     49\n",
       "Name: NumCompaniesWorked, dtype: int64"
      ]
     },
     "execution_count": 360,
     "metadata": {},
     "output_type": "execute_result"
    }
   ],
   "source": [
    "data[var].value_counts()"
   ]
  },
  {
   "cell_type": "markdown",
   "id": "7275face",
   "metadata": {},
   "source": [
    "③ 분포 "
   ]
  },
  {
   "cell_type": "code",
   "execution_count": 361,
   "id": "4820e79b",
   "metadata": {},
   "outputs": [
    {
     "name": "stderr",
     "output_type": "stream",
     "text": [
      "C:\\Users\\User\\anaconda3\\lib\\site-packages\\seaborn\\_decorators.py:36: FutureWarning: Pass the following variable as a keyword arg: x. From version 0.12, the only valid positional argument will be `data`, and passing other arguments without an explicit keyword will result in an error or misinterpretation.\n",
      "  warnings.warn(\n"
     ]
    },
    {
     "data": {
      "text/plain": [
       "<AxesSubplot:xlabel='NumCompaniesWorked', ylabel='count'>"
      ]
     },
     "execution_count": 361,
     "metadata": {},
     "output_type": "execute_result"
    },
    {
     "data": {
      "image/png": "[encoded data removed]",
      "text/plain": [
       "<Figure size 432x288 with 1 Axes>"
      ]
     },
     "metadata": {
      "needs_background": "light"
     },
     "output_type": "display_data"
    }
   ],
   "source": [
    "sns.countplot(data[var])"
   ]
  },
  {
   "cell_type": "markdown",
   "id": "df156bd8",
   "metadata": {},
   "source": [
    "20) OverTime"
   ]
  },
  {
   "cell_type": "code",
   "execution_count": 362,
   "id": "d0d95cf0",
   "metadata": {},
   "outputs": [],
   "source": [
    "var='OverTime'"
   ]
  },
  {
   "cell_type": "markdown",
   "id": "9e80858a",
   "metadata": {},
   "source": [
    "① 변수의 비즈니스 의미"
   ]
  },
  {
   "cell_type": "markdown",
   "id": "dbd0e677",
   "metadata": {},
   "source": [
    "규정외 노동시간"
   ]
  },
  {
   "cell_type": "markdown",
   "id": "980c1d3e",
   "metadata": {},
   "source": [
    "② 기초통계량 "
   ]
  },
  {
   "cell_type": "code",
   "execution_count": 363,
   "id": "d405aa07",
   "metadata": {},
   "outputs": [
    {
     "data": {
      "text/plain": [
       "No     1054\n",
       "Yes     416\n",
       "Name: OverTime, dtype: int64"
      ]
     },
     "execution_count": 363,
     "metadata": {},
     "output_type": "execute_result"
    }
   ],
   "source": [
    "data[var].value_counts()"
   ]
  },
  {
   "cell_type": "markdown",
   "id": "5d47b6f3",
   "metadata": {},
   "source": [
    "③ 분포 "
   ]
  },
  {
   "cell_type": "code",
   "execution_count": 364,
   "id": "89aa82b1",
   "metadata": {},
   "outputs": [
    {
     "name": "stderr",
     "output_type": "stream",
     "text": [
      "C:\\Users\\User\\anaconda3\\lib\\site-packages\\seaborn\\_decorators.py:36: FutureWarning: Pass the following variable as a keyword arg: x. From version 0.12, the only valid positional argument will be `data`, and passing other arguments without an explicit keyword will result in an error or misinterpretation.\n",
      "  warnings.warn(\n"
     ]
    },
    {
     "data": {
      "text/plain": [
       "<AxesSubplot:xlabel='OverTime', ylabel='count'>"
      ]
     },
     "execution_count": 364,
     "metadata": {},
     "output_type": "execute_result"
    },
    {
     "data": {
      "image/png": "[encoded data removed]",
      "text/plain": [
       "<Figure size 432x288 with 1 Axes>"
      ]
     },
     "metadata": {
      "needs_background": "light"
     },
     "output_type": "display_data"
    }
   ],
   "source": [
    "sns.countplot(data[var])"
   ]
  },
  {
   "cell_type": "markdown",
   "id": "d16dba4f",
   "metadata": {},
   "source": [
    "21) PercentSalaryHike"
   ]
  },
  {
   "cell_type": "code",
   "execution_count": 365,
   "id": "2c479f23",
   "metadata": {},
   "outputs": [],
   "source": [
    "var='PercentSalaryHike'"
   ]
  },
  {
   "cell_type": "markdown",
   "id": "4b9e1308",
   "metadata": {},
   "source": [
    "① 변수의 비즈니스 의미"
   ]
  },
  {
   "cell_type": "markdown",
   "id": "e57f1e7e",
   "metadata": {},
   "source": [
    "급여의 증가분 백분율"
   ]
  },
  {
   "cell_type": "markdown",
   "id": "d380837b",
   "metadata": {},
   "source": [
    "② 기초통계량 "
   ]
  },
  {
   "cell_type": "code",
   "execution_count": 366,
   "id": "c9432102",
   "metadata": {},
   "outputs": [
    {
     "data": {
      "text/plain": [
       "count    1470.000000\n",
       "mean       15.209524\n",
       "std         3.659938\n",
       "min        11.000000\n",
       "25%        12.000000\n",
       "50%        14.000000\n",
       "75%        18.000000\n",
       "max        25.000000\n",
       "Name: PercentSalaryHike, dtype: float64"
      ]
     },
     "execution_count": 366,
     "metadata": {},
     "output_type": "execute_result"
    }
   ],
   "source": [
    "data[var].describe()"
   ]
  },
  {
   "cell_type": "markdown",
   "id": "f17623cc",
   "metadata": {},
   "source": [
    "③ 분포 "
   ]
  },
  {
   "cell_type": "code",
   "execution_count": 367,
   "id": "cd55ddca",
   "metadata": {},
   "outputs": [
    {
     "data": {
      "text/plain": [
       "<AxesSubplot:xlabel='PercentSalaryHike', ylabel='Count'>"
      ]
     },
     "execution_count": 367,
     "metadata": {},
     "output_type": "execute_result"
    },
    {
     "data": {
      "image/png": "[encoded data removed]",
      "text/plain": [
       "<Figure size 432x288 with 1 Axes>"
      ]
     },
     "metadata": {
      "needs_background": "light"
     },
     "output_type": "display_data"
    }
   ],
   "source": [
    "sns.histplot(data[var],bins=20)"
   ]
  },
  {
   "cell_type": "markdown",
   "id": "9fcd5a06",
   "metadata": {},
   "source": [
    "22) PerformanceRating"
   ]
  },
  {
   "cell_type": "code",
   "execution_count": 368,
   "id": "9bd769b8",
   "metadata": {},
   "outputs": [],
   "source": [
    "var='PerformanceRating'"
   ]
  },
  {
   "cell_type": "markdown",
   "id": "4309d853",
   "metadata": {},
   "source": [
    "① 변수의 비즈니스 의미"
   ]
  },
  {
   "cell_type": "markdown",
   "id": "90d2f8b0",
   "metadata": {},
   "source": [
    "업무 성과"
   ]
  },
  {
   "cell_type": "markdown",
   "id": "a326f83f",
   "metadata": {},
   "source": [
    "② 기초통계량 "
   ]
  },
  {
   "cell_type": "code",
   "execution_count": 369,
   "id": "451ee635",
   "metadata": {},
   "outputs": [
    {
     "data": {
      "text/plain": [
       "Excellent      1244\n",
       "Outstanding     226\n",
       "Name: PerformanceRating, dtype: int64"
      ]
     },
     "execution_count": 369,
     "metadata": {},
     "output_type": "execute_result"
    }
   ],
   "source": [
    "data[var].value_counts()"
   ]
  },
  {
   "cell_type": "markdown",
   "id": "fc08b3cf",
   "metadata": {},
   "source": [
    "③ 분포 "
   ]
  },
  {
   "cell_type": "code",
   "execution_count": 370,
   "id": "e5b8e8dd",
   "metadata": {},
   "outputs": [
    {
     "name": "stderr",
     "output_type": "stream",
     "text": [
      "C:\\Users\\User\\anaconda3\\lib\\site-packages\\seaborn\\_decorators.py:36: FutureWarning: Pass the following variable as a keyword arg: x. From version 0.12, the only valid positional argument will be `data`, and passing other arguments without an explicit keyword will result in an error or misinterpretation.\n",
      "  warnings.warn(\n"
     ]
    },
    {
     "data": {
      "text/plain": [
       "<AxesSubplot:xlabel='PerformanceRating', ylabel='count'>"
      ]
     },
     "execution_count": 370,
     "metadata": {},
     "output_type": "execute_result"
    },
    {
     "data": {
      "image/png": "[encoded data removed]",
      "text/plain": [
       "<Figure size 432x288 with 1 Axes>"
      ]
     },
     "metadata": {
      "needs_background": "light"
     },
     "output_type": "display_data"
    }
   ],
   "source": [
    "sns.countplot(data[var])"
   ]
  },
  {
   "cell_type": "markdown",
   "id": "d8e2524a",
   "metadata": {},
   "source": [
    "23) RelationshipSatisfaction"
   ]
  },
  {
   "cell_type": "code",
   "execution_count": 371,
   "id": "b5016a81",
   "metadata": {},
   "outputs": [],
   "source": [
    "var='RelationshipSatisfaction'"
   ]
  },
  {
   "cell_type": "markdown",
   "id": "5c8cdb37",
   "metadata": {},
   "source": [
    "① 변수의 비즈니스 의미"
   ]
  },
  {
   "cell_type": "markdown",
   "id": "053209f6",
   "metadata": {},
   "source": [
    "대인관계 만족도"
   ]
  },
  {
   "cell_type": "markdown",
   "id": "c80c0a12",
   "metadata": {},
   "source": [
    "② 기초통계량 "
   ]
  },
  {
   "cell_type": "code",
   "execution_count": 372,
   "id": "a3750213",
   "metadata": {},
   "outputs": [
    {
     "data": {
      "text/plain": [
       "High         459\n",
       "Very High    432\n",
       "Medium       303\n",
       "Low          276\n",
       "Name: RelationshipSatisfaction, dtype: int64"
      ]
     },
     "execution_count": 372,
     "metadata": {},
     "output_type": "execute_result"
    }
   ],
   "source": [
    "data[var].value_counts()"
   ]
  },
  {
   "cell_type": "markdown",
   "id": "f7852765",
   "metadata": {},
   "source": [
    "③ 분포 "
   ]
  },
  {
   "cell_type": "code",
   "execution_count": 373,
   "id": "154e3443",
   "metadata": {},
   "outputs": [
    {
     "name": "stderr",
     "output_type": "stream",
     "text": [
      "C:\\Users\\User\\anaconda3\\lib\\site-packages\\seaborn\\_decorators.py:36: FutureWarning: Pass the following variable as a keyword arg: x. From version 0.12, the only valid positional argument will be `data`, and passing other arguments without an explicit keyword will result in an error or misinterpretation.\n",
      "  warnings.warn(\n"
     ]
    },
    {
     "data": {
      "text/plain": [
       "<AxesSubplot:xlabel='RelationshipSatisfaction', ylabel='count'>"
      ]
     },
     "execution_count": 373,
     "metadata": {},
     "output_type": "execute_result"
    },
    {
     "data": {
      "image/png": "[encoded data removed]",
      "text/plain": [
       "<Figure size 432x288 with 1 Axes>"
      ]
     },
     "metadata": {
      "needs_background": "light"
     },
     "output_type": "display_data"
    }
   ],
   "source": [
    "sns.countplot(data[var])"
   ]
  },
  {
   "cell_type": "markdown",
   "id": "ccb62dd2",
   "metadata": {},
   "source": [
    "24) StockOptionLevel"
   ]
  },
  {
   "cell_type": "code",
   "execution_count": 374,
   "id": "ad814f23",
   "metadata": {},
   "outputs": [],
   "source": [
    "var='StockOptionLevel'"
   ]
  },
  {
   "cell_type": "markdown",
   "id": "22c38a29",
   "metadata": {},
   "source": [
    "① 변수의 비즈니스 의미"
   ]
  },
  {
   "cell_type": "markdown",
   "id": "6e059192",
   "metadata": {},
   "source": [
    "스톡옵션 정도"
   ]
  },
  {
   "cell_type": "markdown",
   "id": "d591f8fe",
   "metadata": {},
   "source": [
    "② 기초통계량 "
   ]
  },
  {
   "cell_type": "code",
   "execution_count": 375,
   "id": "92afa46f",
   "metadata": {},
   "outputs": [
    {
     "data": {
      "text/plain": [
       "0    631\n",
       "1    596\n",
       "2    158\n",
       "3     85\n",
       "Name: StockOptionLevel, dtype: int64"
      ]
     },
     "execution_count": 375,
     "metadata": {},
     "output_type": "execute_result"
    }
   ],
   "source": [
    "data[var].value_counts()"
   ]
  },
  {
   "cell_type": "markdown",
   "id": "a0376136",
   "metadata": {},
   "source": [
    "③ 분포 "
   ]
  },
  {
   "cell_type": "code",
   "execution_count": 376,
   "id": "5d1357df",
   "metadata": {},
   "outputs": [
    {
     "name": "stderr",
     "output_type": "stream",
     "text": [
      "C:\\Users\\User\\anaconda3\\lib\\site-packages\\seaborn\\_decorators.py:36: FutureWarning: Pass the following variable as a keyword arg: x. From version 0.12, the only valid positional argument will be `data`, and passing other arguments without an explicit keyword will result in an error or misinterpretation.\n",
      "  warnings.warn(\n"
     ]
    },
    {
     "data": {
      "text/plain": [
       "<AxesSubplot:xlabel='StockOptionLevel', ylabel='count'>"
      ]
     },
     "execution_count": 376,
     "metadata": {},
     "output_type": "execute_result"
    },
    {
     "data": {
      "image/png": "[encoded data removed]",
      "text/plain": [
       "<Figure size 432x288 with 1 Axes>"
      ]
     },
     "metadata": {
      "needs_background": "light"
     },
     "output_type": "display_data"
    }
   ],
   "source": [
    "sns.countplot(data[var])"
   ]
  },
  {
   "cell_type": "markdown",
   "id": "0b38843a",
   "metadata": {},
   "source": [
    "25) TotalWorkingYears"
   ]
  },
  {
   "cell_type": "code",
   "execution_count": 377,
   "id": "fb28b3ed",
   "metadata": {},
   "outputs": [],
   "source": [
    "var='TotalWorkingYears'"
   ]
  },
  {
   "cell_type": "markdown",
   "id": "ad3dec35",
   "metadata": {},
   "source": [
    "① 변수의 비즈니스 의미"
   ]
  },
  {
   "cell_type": "markdown",
   "id": "0b734a24",
   "metadata": {},
   "source": [
    "경력 기간"
   ]
  },
  {
   "cell_type": "markdown",
   "id": "74371040",
   "metadata": {},
   "source": [
    "② 기초통계량 "
   ]
  },
  {
   "cell_type": "code",
   "execution_count": 378,
   "id": "fc7f5233",
   "metadata": {},
   "outputs": [
    {
     "data": {
      "text/plain": [
       "count    1470.000000\n",
       "mean       11.279592\n",
       "std         7.780782\n",
       "min         0.000000\n",
       "25%         6.000000\n",
       "50%        10.000000\n",
       "75%        15.000000\n",
       "max        40.000000\n",
       "Name: TotalWorkingYears, dtype: float64"
      ]
     },
     "execution_count": 378,
     "metadata": {},
     "output_type": "execute_result"
    }
   ],
   "source": [
    "data[var].describe()"
   ]
  },
  {
   "cell_type": "markdown",
   "id": "31bed7c1",
   "metadata": {},
   "source": [
    "③ 분포 "
   ]
  },
  {
   "cell_type": "code",
   "execution_count": 379,
   "id": "ed57e390",
   "metadata": {},
   "outputs": [
    {
     "data": {
      "text/plain": [
       "<AxesSubplot:xlabel='TotalWorkingYears', ylabel='Count'>"
      ]
     },
     "execution_count": 379,
     "metadata": {},
     "output_type": "execute_result"
    },
    {
     "data": {
      "image/png": "[encoded data removed]",
      "text/plain": [
       "<Figure size 432x288 with 1 Axes>"
      ]
     },
     "metadata": {
      "needs_background": "light"
     },
     "output_type": "display_data"
    }
   ],
   "source": [
    "sns.histplot(data[var],bins=50)"
   ]
  },
  {
   "cell_type": "markdown",
   "id": "032261d8",
   "metadata": {},
   "source": [
    "26) TrainingTimesLastYear"
   ]
  },
  {
   "cell_type": "code",
   "execution_count": 380,
   "id": "9a193d5f",
   "metadata": {},
   "outputs": [],
   "source": [
    "var='TrainingTimesLastYear'"
   ]
  },
  {
   "cell_type": "markdown",
   "id": "1f6994ee",
   "metadata": {},
   "source": [
    "① 변수의 비즈니스 의미"
   ]
  },
  {
   "cell_type": "markdown",
   "id": "25003162",
   "metadata": {},
   "source": [
    "교육 시간"
   ]
  },
  {
   "cell_type": "markdown",
   "id": "d8044545",
   "metadata": {},
   "source": [
    "② 기초통계량 "
   ]
  },
  {
   "cell_type": "code",
   "execution_count": 381,
   "id": "42e6cb05",
   "metadata": {},
   "outputs": [
    {
     "data": {
      "text/plain": [
       "2    547\n",
       "3    491\n",
       "4    123\n",
       "5    119\n",
       "1     71\n",
       "6     65\n",
       "0     54\n",
       "Name: TrainingTimesLastYear, dtype: int64"
      ]
     },
     "execution_count": 381,
     "metadata": {},
     "output_type": "execute_result"
    }
   ],
   "source": [
    "data[var].value_counts()"
   ]
  },
  {
   "cell_type": "markdown",
   "id": "7a7f01fa",
   "metadata": {},
   "source": [
    "③ 분포 "
   ]
  },
  {
   "cell_type": "code",
   "execution_count": 382,
   "id": "11239dd5",
   "metadata": {},
   "outputs": [
    {
     "name": "stderr",
     "output_type": "stream",
     "text": [
      "C:\\Users\\User\\anaconda3\\lib\\site-packages\\seaborn\\_decorators.py:36: FutureWarning: Pass the following variable as a keyword arg: x. From version 0.12, the only valid positional argument will be `data`, and passing other arguments without an explicit keyword will result in an error or misinterpretation.\n",
      "  warnings.warn(\n"
     ]
    },
    {
     "data": {
      "text/plain": [
       "<AxesSubplot:xlabel='TrainingTimesLastYear', ylabel='count'>"
      ]
     },
     "execution_count": 382,
     "metadata": {},
     "output_type": "execute_result"
    },
    {
     "data": {
      "image/png": "[encoded data removed]",
      "text/plain": [
       "<Figure size 432x288 with 1 Axes>"
      ]
     },
     "metadata": {
      "needs_background": "light"
     },
     "output_type": "display_data"
    }
   ],
   "source": [
    "sns.countplot(data[var])"
   ]
  },
  {
   "cell_type": "markdown",
   "id": "3da9f4c1",
   "metadata": {},
   "source": [
    "27) WorkLifeBalance"
   ]
  },
  {
   "cell_type": "code",
   "execution_count": 383,
   "id": "2e849422",
   "metadata": {},
   "outputs": [],
   "source": [
    "var='WorkLifeBalance'"
   ]
  },
  {
   "cell_type": "markdown",
   "id": "ff4f8fd4",
   "metadata": {},
   "source": [
    "① 변수의 비즈니스 의미"
   ]
  },
  {
   "cell_type": "markdown",
   "id": "cdb88704",
   "metadata": {},
   "source": [
    "일과 생활의 균형 정도"
   ]
  },
  {
   "cell_type": "markdown",
   "id": "5a7df1dc",
   "metadata": {},
   "source": [
    "② 기초통계량 "
   ]
  },
  {
   "cell_type": "code",
   "execution_count": 384,
   "id": "788b0bb8",
   "metadata": {},
   "outputs": [
    {
     "data": {
      "text/plain": [
       "Better    893\n",
       "Good      344\n",
       "Best      153\n",
       "Bad        80\n",
       "Name: WorkLifeBalance, dtype: int64"
      ]
     },
     "execution_count": 384,
     "metadata": {},
     "output_type": "execute_result"
    }
   ],
   "source": [
    "data[var].value_counts()"
   ]
  },
  {
   "cell_type": "markdown",
   "id": "d8262e85",
   "metadata": {},
   "source": [
    "③ 분포 "
   ]
  },
  {
   "cell_type": "code",
   "execution_count": 385,
   "id": "4cae878e",
   "metadata": {},
   "outputs": [
    {
     "name": "stderr",
     "output_type": "stream",
     "text": [
      "C:\\Users\\User\\anaconda3\\lib\\site-packages\\seaborn\\_decorators.py:36: FutureWarning: Pass the following variable as a keyword arg: x. From version 0.12, the only valid positional argument will be `data`, and passing other arguments without an explicit keyword will result in an error or misinterpretation.\n",
      "  warnings.warn(\n"
     ]
    },
    {
     "data": {
      "text/plain": [
       "<AxesSubplot:xlabel='WorkLifeBalance', ylabel='count'>"
      ]
     },
     "execution_count": 385,
     "metadata": {},
     "output_type": "execute_result"
    },
    {
     "data": {
      "image/png": "[encoded data removed]",
      "text/plain": [
       "<Figure size 432x288 with 1 Axes>"
      ]
     },
     "metadata": {
      "needs_background": "light"
     },
     "output_type": "display_data"
    }
   ],
   "source": [
    "sns.countplot(data[var])"
   ]
  },
  {
   "cell_type": "markdown",
   "id": "ad5e8991",
   "metadata": {},
   "source": [
    "28) YearsAtCompany"
   ]
  },
  {
   "cell_type": "code",
   "execution_count": 386,
   "id": "8c6b20ce",
   "metadata": {},
   "outputs": [],
   "source": [
    "var='YearsAtCompany'"
   ]
  },
  {
   "cell_type": "markdown",
   "id": "002b0019",
   "metadata": {},
   "source": [
    "① 변수의 비즈니스 의미"
   ]
  },
  {
   "cell_type": "markdown",
   "id": "4679f8f9",
   "metadata": {},
   "source": [
    "근속 연수"
   ]
  },
  {
   "cell_type": "markdown",
   "id": "97cb2a35",
   "metadata": {},
   "source": [
    "② 기초통계량 "
   ]
  },
  {
   "cell_type": "code",
   "execution_count": 387,
   "id": "757b5883",
   "metadata": {},
   "outputs": [
    {
     "data": {
      "text/plain": [
       "count    1470.000000\n",
       "mean        7.008163\n",
       "std         6.126525\n",
       "min         0.000000\n",
       "25%         3.000000\n",
       "50%         5.000000\n",
       "75%         9.000000\n",
       "max        40.000000\n",
       "Name: YearsAtCompany, dtype: float64"
      ]
     },
     "execution_count": 387,
     "metadata": {},
     "output_type": "execute_result"
    }
   ],
   "source": [
    "data[var].describe()"
   ]
  },
  {
   "cell_type": "markdown",
   "id": "10f4d538",
   "metadata": {},
   "source": [
    "③ 분포 "
   ]
  },
  {
   "cell_type": "code",
   "execution_count": 388,
   "id": "8006d9df",
   "metadata": {},
   "outputs": [
    {
     "data": {
      "text/plain": [
       "<AxesSubplot:xlabel='YearsAtCompany', ylabel='Count'>"
      ]
     },
     "execution_count": 388,
     "metadata": {},
     "output_type": "execute_result"
    },
    {
     "data": {
      "image/png": "[encoded data removed]",
      "text/plain": [
       "<Figure size 432x288 with 1 Axes>"
      ]
     },
     "metadata": {
      "needs_background": "light"
     },
     "output_type": "display_data"
    }
   ],
   "source": [
    "sns.histplot(data[var],bins=50)"
   ]
  },
  {
   "cell_type": "markdown",
   "id": "2a72c9b6",
   "metadata": {},
   "source": [
    "29) YearsInCurrentRole"
   ]
  },
  {
   "cell_type": "code",
   "execution_count": 389,
   "id": "6b774da6",
   "metadata": {},
   "outputs": [],
   "source": [
    "var='YearsInCurrentRole'"
   ]
  },
  {
   "cell_type": "markdown",
   "id": "add25bfa",
   "metadata": {},
   "source": [
    "① 변수의 비즈니스 의미"
   ]
  },
  {
   "cell_type": "markdown",
   "id": "4cff9b6d",
   "metadata": {},
   "source": [
    "현재 역할의 년수"
   ]
  },
  {
   "cell_type": "markdown",
   "id": "f88ff412",
   "metadata": {},
   "source": [
    "② 기초통계량 "
   ]
  },
  {
   "cell_type": "code",
   "execution_count": 390,
   "id": "5fc92036",
   "metadata": {},
   "outputs": [
    {
     "data": {
      "text/plain": [
       "count    1470.000000\n",
       "mean        4.229252\n",
       "std         3.623137\n",
       "min         0.000000\n",
       "25%         2.000000\n",
       "50%         3.000000\n",
       "75%         7.000000\n",
       "max        18.000000\n",
       "Name: YearsInCurrentRole, dtype: float64"
      ]
     },
     "execution_count": 390,
     "metadata": {},
     "output_type": "execute_result"
    }
   ],
   "source": [
    "data[var].describe()"
   ]
  },
  {
   "cell_type": "markdown",
   "id": "df46357d",
   "metadata": {},
   "source": [
    "③ 분포 "
   ]
  },
  {
   "cell_type": "code",
   "execution_count": 391,
   "id": "27475185",
   "metadata": {},
   "outputs": [
    {
     "data": {
      "text/plain": [
       "<AxesSubplot:xlabel='YearsInCurrentRole', ylabel='Count'>"
      ]
     },
     "execution_count": 391,
     "metadata": {},
     "output_type": "execute_result"
    },
    {
     "data": {
      "image/png": "[encoded data removed]",
      "text/plain": [
       "<Figure size 432x288 with 1 Axes>"
      ]
     },
     "metadata": {
      "needs_background": "light"
     },
     "output_type": "display_data"
    }
   ],
   "source": [
    "sns.histplot(data[var],bins=20)"
   ]
  },
  {
   "cell_type": "markdown",
   "id": "d0d8a250",
   "metadata": {},
   "source": [
    "30)YearsSinceLastPromotion"
   ]
  },
  {
   "cell_type": "code",
   "execution_count": 392,
   "id": "229db2d5",
   "metadata": {},
   "outputs": [],
   "source": [
    "var='YearsSinceLastPromotion'"
   ]
  },
  {
   "cell_type": "markdown",
   "id": "8d3a4f01",
   "metadata": {},
   "source": [
    "① 변수의 비즈니스 의미"
   ]
  },
  {
   "cell_type": "markdown",
   "id": "f11f40f5",
   "metadata": {},
   "source": [
    "마지막 프로모션"
   ]
  },
  {
   "cell_type": "markdown",
   "id": "c202e31d",
   "metadata": {},
   "source": [
    "② 기초통계량 "
   ]
  },
  {
   "cell_type": "code",
   "execution_count": 393,
   "id": "ae6bf42e",
   "metadata": {},
   "outputs": [
    {
     "data": {
      "text/plain": [
       "count    1470.000000\n",
       "mean        2.187755\n",
       "std         3.222430\n",
       "min         0.000000\n",
       "25%         0.000000\n",
       "50%         1.000000\n",
       "75%         3.000000\n",
       "max        15.000000\n",
       "Name: YearsSinceLastPromotion, dtype: float64"
      ]
     },
     "execution_count": 393,
     "metadata": {},
     "output_type": "execute_result"
    }
   ],
   "source": [
    "data[var].describe()"
   ]
  },
  {
   "cell_type": "markdown",
   "id": "bf1654af",
   "metadata": {},
   "source": [
    "③ 분포 "
   ]
  },
  {
   "cell_type": "code",
   "execution_count": 394,
   "id": "4a68dcd7",
   "metadata": {},
   "outputs": [
    {
     "data": {
      "text/plain": [
       "<AxesSubplot:xlabel='YearsSinceLastPromotion', ylabel='Count'>"
      ]
     },
     "execution_count": 394,
     "metadata": {},
     "output_type": "execute_result"
    },
    {
     "data": {
      "image/png": "[encoded data removed]",
      "text/plain": [
       "<Figure size 432x288 with 1 Axes>"
      ]
     },
     "metadata": {
      "needs_background": "light"
     },
     "output_type": "display_data"
    }
   ],
   "source": [
    "sns.histplot(data[var],bins=50)"
   ]
  },
  {
   "cell_type": "markdown",
   "id": "dbbed186",
   "metadata": {},
   "source": [
    "31) YearsWithCurrManager"
   ]
  },
  {
   "cell_type": "code",
   "execution_count": 395,
   "id": "b67be5b6",
   "metadata": {},
   "outputs": [],
   "source": [
    "var='YearsWithCurrManager'"
   ]
  },
  {
   "cell_type": "markdown",
   "id": "1115dbb4",
   "metadata": {},
   "source": [
    "① 변수의 비즈니스 의미"
   ]
  },
  {
   "cell_type": "markdown",
   "id": "4310b05c",
   "metadata": {},
   "source": [
    "현재 관리자와 함께 보낸 시간"
   ]
  },
  {
   "cell_type": "markdown",
   "id": "e07b1f87",
   "metadata": {},
   "source": [
    "② 기초통계량 "
   ]
  },
  {
   "cell_type": "code",
   "execution_count": 396,
   "id": "4f7f0b87",
   "metadata": {},
   "outputs": [
    {
     "data": {
      "text/plain": [
       "count    1470.000000\n",
       "mean        4.123129\n",
       "std         3.568136\n",
       "min         0.000000\n",
       "25%         2.000000\n",
       "50%         3.000000\n",
       "75%         7.000000\n",
       "max        17.000000\n",
       "Name: YearsWithCurrManager, dtype: float64"
      ]
     },
     "execution_count": 396,
     "metadata": {},
     "output_type": "execute_result"
    }
   ],
   "source": [
    "data[var].describe()"
   ]
  },
  {
   "cell_type": "markdown",
   "id": "ef1f1333",
   "metadata": {},
   "source": [
    "③ 분포 "
   ]
  },
  {
   "cell_type": "code",
   "execution_count": 397,
   "id": "61326b90",
   "metadata": {
    "scrolled": true
   },
   "outputs": [
    {
     "data": {
      "text/plain": [
       "<AxesSubplot:xlabel='YearsWithCurrManager', ylabel='Count'>"
      ]
     },
     "execution_count": 397,
     "metadata": {},
     "output_type": "execute_result"
    },
    {
     "data": {
      "image/png": "[encoded data removed]",
      "text/plain": [
       "<Figure size 432x288 with 1 Axes>"
      ]
     },
     "metadata": {
      "needs_background": "light"
     },
     "output_type": "display_data"
    }
   ],
   "source": [
    "sns.histplot(data[var],bins=50)"
   ]
  },
  {
   "cell_type": "markdown",
   "id": "916adcac",
   "metadata": {
    "id": "ZghJJ7yLEpDA"
   },
   "source": [
    "## 3.이변량 분석 \n",
    "* 자료의 종류에 맞게 X --> Y 에 대해서 그래프(시각화)와 가설검정(수치화)를 수행하고 결과를 평가합니다.\n",
    "* 가설검정시 다음의 항목을 참조하여 수행합니다.\n",
    "    * 유의수준 : 5%\n",
    "    * 숫자 --> 숫자 : 상관분석\n",
    "    * 범주 --> 범주 : 카이제곱검정\n",
    "    * 범주 --> 숫자 : t검정, 분산분석\n",
    "    * 숫자 --> 범주 : 로지스틱 회귀모형을 통해, 회귀계수의 P.value로 검정을 수행합니다."
   ]
  },
  {
   "cell_type": "markdown",
   "id": "97ea3783",
   "metadata": {},
   "source": [
    "1) DistanceFromHome -> Attrition 수치,범주"
   ]
  },
  {
   "cell_type": "code",
   "execution_count": 447,
   "id": "40c512b2",
   "metadata": {
    "scrolled": true
   },
   "outputs": [
    {
     "data": {
      "text/plain": [
       "<AxesSubplot:xlabel='DistanceFromHome', ylabel='Count'>"
      ]
     },
     "execution_count": 447,
     "metadata": {},
     "output_type": "execute_result"
    },
    {
     "data": {
      "image/png": "[encoded data removed]",
      "text/plain": [
       "<Figure size 432x288 with 1 Axes>"
      ]
     },
     "metadata": {
      "needs_background": "light"
     },
     "output_type": "display_data"
    }
   ],
   "source": [
    "sns.histplot(x='DistanceFromHome',data=data,hue='Attrition',bins=50)"
   ]
  },
  {
   "cell_type": "code",
   "execution_count": 432,
   "id": "85b8a167",
   "metadata": {
    "scrolled": true
   },
   "outputs": [
    {
     "data": {
      "text/plain": [
       "<AxesSubplot:xlabel='DistanceFromHome', ylabel='Density'>"
      ]
     },
     "execution_count": 432,
     "metadata": {},
     "output_type": "execute_result"
    },
    {
     "data": {
      "image/png": "[encoded data removed]",
      "text/plain": [
       "<Figure size 432x288 with 1 Axes>"
      ]
     },
     "metadata": {
      "needs_background": "light"
     },
     "output_type": "display_data"
    }
   ],
   "source": [
    "sns.kdeplot(x='DistanceFromHome',data=data,hue='Attrition',common_norm=False)"
   ]
  },
  {
   "cell_type": "code",
   "execution_count": 450,
   "id": "195c34e1",
   "metadata": {},
   "outputs": [
    {
     "data": {
      "text/plain": [
       "count    1470.000000\n",
       "mean        9.192517\n",
       "std         8.106864\n",
       "min         1.000000\n",
       "25%         2.000000\n",
       "50%         7.000000\n",
       "75%        14.000000\n",
       "max        29.000000\n",
       "Name: DistanceFromHome, dtype: float64"
      ]
     },
     "execution_count": 450,
     "metadata": {},
     "output_type": "execute_result"
    }
   ],
   "source": [
    "data['DistanceFromHome'].describe()"
   ]
  },
  {
   "cell_type": "code",
   "execution_count": 451,
   "id": "549fdccb",
   "metadata": {},
   "outputs": [
    {
     "data": {
      "text/plain": [
       "<AxesSubplot:xlabel='Attrition', ylabel='DistanceFromHome'>"
      ]
     },
     "execution_count": 451,
     "metadata": {},
     "output_type": "execute_result"
    },
    {
     "data": {
      "image/png": "[encoded data removed]",
      "text/plain": [
       "<Figure size 432x288 with 1 Axes>"
      ]
     },
     "metadata": {
      "needs_background": "light"
     },
     "output_type": "display_data"
    }
   ],
   "source": [
    "sns.boxplot(x='Attrition',y='DistanceFromHome',data=data)"
   ]
  },
  {
   "cell_type": "code",
   "execution_count": 423,
   "id": "3c63ebfc",
   "metadata": {},
   "outputs": [],
   "source": [
    "data=data.astype({'Attrition':'int'})"
   ]
  },
  {
   "cell_type": "code",
   "execution_count": 424,
   "id": "21a635a3",
   "metadata": {},
   "outputs": [
    {
     "name": "stdout",
     "output_type": "stream",
     "text": [
      "Optimization terminated successfully.\n",
      "         Current function value: 0.565648\n",
      "         Iterations 6\n",
      "DistanceFromHome    9.138963e-55\n",
      "dtype: float64\n"
     ]
    }
   ],
   "source": [
    "model=sm.Logit(data['Attrition'],data['DistanceFromHome'])\n",
    "result=model.fit()\n",
    "print(result.pvalues)"
   ]
  },
  {
   "cell_type": "markdown",
   "id": "5fd1b669",
   "metadata": {},
   "source": [
    "2) MonthlyRate -> Attrition 수치,범주"
   ]
  },
  {
   "cell_type": "code",
   "execution_count": 401,
   "id": "a815f1ec",
   "metadata": {},
   "outputs": [
    {
     "data": {
      "text/plain": [
       "<AxesSubplot:xlabel='MonthlyRate', ylabel='Count'>"
      ]
     },
     "execution_count": 401,
     "metadata": {},
     "output_type": "execute_result"
    },
    {
     "data": {
      "image/png": "[encoded data removed]",
      "text/plain": [
       "<Figure size 432x288 with 1 Axes>"
      ]
     },
     "metadata": {
      "needs_background": "light"
     },
     "output_type": "display_data"
    }
   ],
   "source": [
    "sns.histplot(x='MonthlyRate',data=data,hue='Attrition')"
   ]
  },
  {
   "cell_type": "code",
   "execution_count": 448,
   "id": "55f245db",
   "metadata": {},
   "outputs": [
    {
     "data": {
      "text/plain": [
       "<AxesSubplot:xlabel='MonthlyRate', ylabel='Density'>"
      ]
     },
     "execution_count": 448,
     "metadata": {},
     "output_type": "execute_result"
    },
    {
     "data": {
      "image/png": "[encoded data removed]",
      "text/plain": [
       "<Figure size 432x288 with 1 Axes>"
      ]
     },
     "metadata": {
      "needs_background": "light"
     },
     "output_type": "display_data"
    }
   ],
   "source": [
    "sns.kdeplot(x='MonthlyRate',data=data,hue='Attrition',common_norm=False)"
   ]
  },
  {
   "cell_type": "code",
   "execution_count": 449,
   "id": "ed74df14",
   "metadata": {},
   "outputs": [
    {
     "data": {
      "text/plain": [
       "<AxesSubplot:xlabel='Attrition', ylabel='MonthlyIncome'>"
      ]
     },
     "execution_count": 449,
     "metadata": {},
     "output_type": "execute_result"
    },
    {
     "data": {
      "image/png": "[encoded data removed]",
      "text/plain": [
       "<Figure size 432x288 with 1 Axes>"
      ]
     },
     "metadata": {
      "needs_background": "light"
     },
     "output_type": "display_data"
    }
   ],
   "source": [
    "sns.boxplot(x='Attrition',y='MonthlyIncome',data=data)"
   ]
  },
  {
   "cell_type": "code",
   "execution_count": 407,
   "id": "6d104779",
   "metadata": {},
   "outputs": [
    {
     "data": {
      "text/plain": [
       "count     1470.000000\n",
       "mean     14313.103401\n",
       "std       7117.786044\n",
       "min       2094.000000\n",
       "25%       8047.000000\n",
       "50%      14235.500000\n",
       "75%      20461.500000\n",
       "max      26999.000000\n",
       "Name: MonthlyRate, dtype: float64"
      ]
     },
     "execution_count": 407,
     "metadata": {},
     "output_type": "execute_result"
    }
   ],
   "source": [
    "data['MonthlyRate'].describe()"
   ]
  },
  {
   "cell_type": "code",
   "execution_count": 428,
   "id": "ba27f81c",
   "metadata": {},
   "outputs": [
    {
     "name": "stdout",
     "output_type": "stream",
     "text": [
      "Optimization terminated successfully.\n",
      "         Current function value: 0.488423\n",
      "         Iterations 5\n",
      "MonthlyRate    9.969919e-90\n",
      "dtype: float64\n"
     ]
    }
   ],
   "source": [
    "model=sm.Logit(data['Attrition'],data['MonthlyRate'])\n",
    "result=model.fit()\n",
    "print(result.pvalues)"
   ]
  },
  {
   "cell_type": "markdown",
   "id": "199918ba",
   "metadata": {},
   "source": [
    "3) EnvironmentSatisfaction -> Attrition 범주,범주"
   ]
  },
  {
   "cell_type": "code",
   "execution_count": 279,
   "id": "f329d534",
   "metadata": {},
   "outputs": [
    {
     "data": {
      "text/plain": [
       "<AxesSubplot:xlabel='EnvironmentSatisfaction'>"
      ]
     },
     "execution_count": 279,
     "metadata": {},
     "output_type": "execute_result"
    },
    {
     "data": {
      "image/png": "[encoded data removed]",
      "text/plain": [
       "<Figure size 432x288 with 1 Axes>"
      ]
     },
     "metadata": {
      "needs_background": "light"
     },
     "output_type": "display_data"
    }
   ],
   "source": [
    "temp=pd.crosstab(data['EnvironmentSatisfaction'],data['Attrition'],normalize = 'index')\n",
    "temp.plot.bar(stacked=True)"
   ]
  },
  {
   "cell_type": "code",
   "execution_count": 280,
   "id": "3a191d16",
   "metadata": {},
   "outputs": [
    {
     "name": "stdout",
     "output_type": "stream",
     "text": [
      "pvalue 5.1234689062894327e-05\n"
     ]
    }
   ],
   "source": [
    "table=pd.crosstab(data['EnvironmentSatisfaction'],data['Attrition'])\n",
    "result=spst.chi2_contingency(table)\n",
    "print('pvalue',result[1])"
   ]
  },
  {
   "cell_type": "markdown",
   "id": "6f005660",
   "metadata": {},
   "source": [
    "4) WorkLifeBalance-> Attrition 범주,범주"
   ]
  },
  {
   "cell_type": "code",
   "execution_count": 281,
   "id": "3e4b37d1",
   "metadata": {},
   "outputs": [
    {
     "data": {
      "text/plain": [
       "<AxesSubplot:xlabel='WorkLifeBalance'>"
      ]
     },
     "execution_count": 281,
     "metadata": {},
     "output_type": "execute_result"
    },
    {
     "data": {
      "image/png": "[encoded data removed]",
      "text/plain": [
       "<Figure size 432x288 with 1 Axes>"
      ]
     },
     "metadata": {
      "needs_background": "light"
     },
     "output_type": "display_data"
    }
   ],
   "source": [
    "temp=pd.crosstab(data['WorkLifeBalance'],data['Attrition'],normalize = 'index')\n",
    "temp.plot.bar(stacked=True)"
   ]
  },
  {
   "cell_type": "code",
   "execution_count": 282,
   "id": "ae4dba6b",
   "metadata": {},
   "outputs": [
    {
     "name": "stdout",
     "output_type": "stream",
     "text": [
      "pvalue 0.0009725698845348824\n"
     ]
    }
   ],
   "source": [
    "table=pd.crosstab(data['WorkLifeBalance'],data['Attrition'])\n",
    "result=spst.chi2_contingency(table)\n",
    "print('pvalue',result[1])"
   ]
  },
  {
   "cell_type": "markdown",
   "id": "62161ecb",
   "metadata": {},
   "source": [
    "5) JobRole -> Attrition 범주, 범주"
   ]
  },
  {
   "cell_type": "code",
   "execution_count": 283,
   "id": "16667c42",
   "metadata": {},
   "outputs": [
    {
     "data": {
      "text/plain": [
       "<AxesSubplot:xlabel='JobRole'>"
      ]
     },
     "execution_count": 283,
     "metadata": {},
     "output_type": "execute_result"
    },
    {
     "data": {
      "image/png": "[encoded data removed]",
      "text/plain": [
       "<Figure size 432x288 with 1 Axes>"
      ]
     },
     "metadata": {
      "needs_background": "light"
     },
     "output_type": "display_data"
    }
   ],
   "source": [
    "temp=pd.crosstab(data['JobRole'],data['Attrition'],normalize = 'index')\n",
    "temp.plot.bar(stacked=True)"
   ]
  },
  {
   "cell_type": "code",
   "execution_count": 284,
   "id": "4b206f2a",
   "metadata": {},
   "outputs": [
    {
     "name": "stdout",
     "output_type": "stream",
     "text": [
      "pvalue 2.752481638050657e-15\n"
     ]
    }
   ],
   "source": [
    "table=pd.crosstab(data['JobRole'],data['Attrition'])\n",
    "result=spst.chi2_contingency(table)\n",
    "print('pvalue',result[1])"
   ]
  },
  {
   "cell_type": "markdown",
   "id": "de4fcbdd",
   "metadata": {},
   "source": [
    "6) TotalWorkingYears -> Attrition 수치,범주"
   ]
  },
  {
   "cell_type": "code",
   "execution_count": 429,
   "id": "282644b4",
   "metadata": {},
   "outputs": [
    {
     "data": {
      "text/plain": [
       "<AxesSubplot:xlabel='TotalWorkingYears', ylabel='Count'>"
      ]
     },
     "execution_count": 429,
     "metadata": {},
     "output_type": "execute_result"
    },
    {
     "data": {
      "image/png": "[encoded data removed]",
      "text/plain": [
       "<Figure size 432x288 with 1 Axes>"
      ]
     },
     "metadata": {
      "needs_background": "light"
     },
     "output_type": "display_data"
    }
   ],
   "source": [
    "sns.histplot(x='TotalWorkingYears',data=data,hue='Attrition')"
   ]
  },
  {
   "cell_type": "code",
   "execution_count": 452,
   "id": "c1fb979c",
   "metadata": {},
   "outputs": [
    {
     "data": {
      "text/plain": [
       "<AxesSubplot:xlabel='TotalWorkingYears', ylabel='Density'>"
      ]
     },
     "execution_count": 452,
     "metadata": {},
     "output_type": "execute_result"
    },
    {
     "data": {
      "image/png": "[encoded data removed]",
      "text/plain": [
       "<Figure size 432x288 with 1 Axes>"
      ]
     },
     "metadata": {
      "needs_background": "light"
     },
     "output_type": "display_data"
    }
   ],
   "source": [
    "sns.kdeplot(x='TotalWorkingYears',data=data,hue='Attrition',common_norm=False)"
   ]
  },
  {
   "cell_type": "code",
   "execution_count": 454,
   "id": "a3c87fcc",
   "metadata": {},
   "outputs": [
    {
     "data": {
      "text/plain": [
       "<AxesSubplot:xlabel='Attrition', ylabel='TotalWorkingYears'>"
      ]
     },
     "execution_count": 454,
     "metadata": {},
     "output_type": "execute_result"
    },
    {
     "data": {
      "image/png": "[encoded data removed]",
      "text/plain": [
       "<Figure size 432x288 with 1 Axes>"
      ]
     },
     "metadata": {
      "needs_background": "light"
     },
     "output_type": "display_data"
    }
   ],
   "source": [
    "sns.boxplot(x='Attrition',y='TotalWorkingYears',data=data)"
   ]
  },
  {
   "cell_type": "code",
   "execution_count": 435,
   "id": "f7bc97fb",
   "metadata": {},
   "outputs": [
    {
     "name": "stdout",
     "output_type": "stream",
     "text": [
      "Optimization terminated successfully.\n",
      "         Current function value: 0.440952\n",
      "         Iterations 6\n",
      "TotalWorkingYears    3.646513e-86\n",
      "dtype: float64\n"
     ]
    }
   ],
   "source": [
    "model=sm.Logit(data['Attrition'],data['TotalWorkingYears'])\n",
    "result=model.fit()\n",
    "print(result.pvalues)"
   ]
  },
  {
   "cell_type": "markdown",
   "id": "27f7ec7e",
   "metadata": {},
   "source": [
    "* 집과 회사의 거리가 먼 사람들이 퇴사를 많이 할 것이다.- 맞음\n",
    "* 월급여가 낮은 사람이 퇴사를 많이 할 것이다. - 맞음\n",
    "* 업무환경이 안좋은 사람이 퇴사를 많이 할것이다. - 맞음\n",
    "* 워라벨이 안좋은 사람이 퇴사를 많이 할 것이다. - 애매...., 좋아도 퇴사함\n",
    "* 근무부서에 따라 퇴사율이 다를것이다. - 다르긴한데 추가분석 필요함\n",
    "* 초기 경력자들이 퇴사를 많이 할 것이다. - 맞음"
   ]
  },
  {
   "cell_type": "markdown",
   "id": "c5408b5c",
   "metadata": {
    "id": "Jd4WbbU-jqU3"
   },
   "source": [
    "## 4.관계 정리"
   ]
  },
  {
   "cell_type": "markdown",
   "id": "d7373bfb",
   "metadata": {
    "id": "bKmN0rtAjto6"
   },
   "source": [
    "### 1) 강한관계의 변수"
   ]
  },
  {
   "cell_type": "markdown",
   "id": "6003ff3a",
   "metadata": {
    "id": "u8B765zNjwp5"
   },
   "source": [
    "### 2) 약한관계의 변수"
   ]
  },
  {
   "cell_type": "markdown",
   "id": "3611c890",
   "metadata": {
    "id": "eYiQ9OUijwdq"
   },
   "source": [
    "### 3) 관계 없음"
   ]
  },
  {
   "cell_type": "code",
   "execution_count": null,
   "id": "1c3f189d",
   "metadata": {},
   "outputs": [],
   "source": []
  },
  {
   "cell_type": "code",
   "execution_count": null,
   "id": "21e30106",
   "metadata": {},
   "outputs": [],
   "source": []
  },
  {
   "cell_type": "code",
   "execution_count": null,
   "id": "b1dabebc",
   "metadata": {},
   "outputs": [],
   "source": []
  }
 ],
 "metadata": {
  "kernelspec": {
   "display_name": "Python 3",
   "language": "python",
   "name": "python3"
  },
  "language_info": {
   "codemirror_mode": {
    "name": "ipython",
    "version": 3
   },
   "file_extension": ".py",
   "mimetype": "text/x-python",
   "name": "python",
   "nbconvert_exporter": "python",
   "pygments_lexer": "ipython3",
   "version": "3.8.8"
  }
 },
 "nbformat": 4,
 "nbformat_minor": 5
}
