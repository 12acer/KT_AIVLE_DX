{
 "cells": [
  {
   "cell_type": "markdown",
   "id": "45c8f0d1",
   "metadata": {
    "id": "45c8f0d1"
   },
   "source": [
    "# chapter 4. 개별 변수 분석하기 숫자형 변수 - 시각화"
   ]
  },
  {
   "cell_type": "markdown",
   "id": "c895baa8",
   "metadata": {
    "id": "c895baa8"
   },
   "source": [
    "## 1) 히스토그램"
   ]
  },
  {
   "cell_type": "markdown",
   "id": "9ae176cc",
   "metadata": {
    "id": "9ae176cc"
   },
   "source": [
    "① 아래와 같은 총 21개의 값이 있다고 할 때, 히스토그램을 그리시오.\n",
    "* 1, 2, 3, 3, 4, 4, 4, 5, 6, 7, 8, 9, 10, 11, 15, 17, 17, 19, 20, 25, 30  \n",
    "* 구간의 개수: 5, edgecolor: grey"
   ]
  },
  {
   "cell_type": "code",
   "execution_count": 4,
   "id": "c5478d2a",
   "metadata": {
    "colab": {
     "base_uri": "https://localhost:8080/",
     "height": 265
    },
    "executionInfo": {
     "elapsed": 397,
     "status": "ok",
     "timestamp": 1640852500602,
     "user": {
      "displayName": "한기영",
      "photoUrl": "https://lh3.googleusercontent.com/a/default-user=s64",
      "userId": "13049187003176135487"
     },
     "user_tz": -540
    },
    "id": "c5478d2a",
    "outputId": "3519688b-466e-4b9b-ae4d-d6233f5399e8"
   },
   "outputs": [
    {
     "data": {
      "text/plain": [
       "(array([9., 5., 3., 2., 2.]),\n",
       " array([ 1. ,  6.8, 12.6, 18.4, 24.2, 30. ]),\n",
       " <BarContainer object of 5 artists>)"
      ]
     },
     "execution_count": 4,
     "metadata": {},
     "output_type": "execute_result"
    },
    {
     "data": {
      "image/png": "[encoded data removed]",
      "text/plain": [
       "<Figure size 432x288 with 1 Axes>"
      ]
     },
     "metadata": {
      "needs_background": "light"
     },
     "output_type": "display_data"
    }
   ],
   "source": [
    "import matplotlib.pyplot as plt\n",
    "dt = [1, 2, 3, 3, 4, 4, 4, 5, 6, 7, 8, 9, 10, 11, 15, 17, 17, 19, 20, 25, 30]\n",
    "plt.hist(dt, bins=5, edgecolor='grey')"
   ]
  },
  {
   "cell_type": "markdown",
   "id": "82f57ee9",
   "metadata": {
    "id": "82f57ee9"
   },
   "source": [
    "② 아래와 같은 총 15개의 값이 있다고 할 때, 히스토그램을 그리시오.\n",
    "* 3, 4, 5, 5, 6, 6, 6, 8, 8, 9, 11, 12, 12, 13, 14\n",
    "* 구간의 개수: 4 , color: green, edgecolor: orange"
   ]
  },
  {
   "cell_type": "code",
   "execution_count": 58,
   "id": "727e3de4",
   "metadata": {},
   "outputs": [
    {
     "data": {
      "image/png": "[encoded data removed]",
      "text/plain": [
       "<Figure size 432x288 with 1 Axes>"
      ]
     },
     "metadata": {
      "needs_background": "light"
     },
     "output_type": "display_data"
    }
   ],
   "source": [
    "section = [3, 4, 5, 5, 6, 6, 6, 8, 8, 9, 11, 12, 12, 13, 14]\n",
    "plt.hist(section, bins=4, color='green', edgecolor='orange')\n",
    "plt.show()"
   ]
  },
  {
   "cell_type": "code",
   "execution_count": null,
   "id": "26f601c7",
   "metadata": {
    "colab": {
     "base_uri": "https://localhost:8080/",
     "height": 265
    },
    "executionInfo": {
     "elapsed": 426,
     "status": "ok",
     "timestamp": 1640852501019,
     "user": {
      "displayName": "한기영",
      "photoUrl": "https://lh3.googleusercontent.com/a/default-user=s64",
      "userId": "13049187003176135487"
     },
     "user_tz": -540
    },
    "id": "26f601c7",
    "outputId": "b6a4c8ac-6365-4ee9-ec57-8c126bcc8247"
   },
   "outputs": [
    {
     "data": {
      "image/png": "[encoded data removed]",
      "text/plain": [
       "<Figure size 432x288 with 1 Axes>"
      ]
     },
     "metadata": {
      "needs_background": "light"
     },
     "output_type": "display_data"
    }
   ],
   "source": []
  },
  {
   "cell_type": "markdown",
   "id": "352b2603",
   "metadata": {
    "id": "352b2603"
   },
   "source": [
    "③ 고객의 나이 정보 age가 아래와 같을 때, 히스토그램을 그리고 결과를 저장하여 구간과 빈도수를 확인하시오.\n",
    "*  age = [19, 20, 23, 46, 21, 25, 26, 25, 28, 31, 37, 24, 28, 34, 38, 33, 32, 29, 27, 24]\n",
    "* 구간의 개수: 6, edgecolor: grey"
   ]
  },
  {
   "cell_type": "code",
   "execution_count": 61,
   "id": "ec081165",
   "metadata": {},
   "outputs": [
    {
     "name": "stdout",
     "output_type": "stream",
     "text": [
      "빈도수 : [4. 6. 5. 2. 2. 1.]\n",
      "빈도수 : [19.  23.5 28.  32.5 37.  41.5 46. ]\n"
     ]
    },
    {
     "data": {
      "image/png": "[encoded data removed]",
      "text/plain": [
       "<Figure size 432x288 with 1 Axes>"
      ]
     },
     "metadata": {
      "needs_background": "light"
     },
     "output_type": "display_data"
    }
   ],
   "source": [
    "age = [19, 20, 23, 46, 21, 25, 26, 25, 28, 31, 37, 24, 28, 34, 38, 33, 32, 29, 27, 24]\n",
    "fin = plt.hist(age, bins=6, edgecolor='grey')\n",
    "print('빈도수 :', fin[0])\n",
    "print('빈도수 :', fin[1])"
   ]
  },
  {
   "cell_type": "code",
   "execution_count": null,
   "id": "496c089b",
   "metadata": {
    "colab": {
     "base_uri": "https://localhost:8080/",
     "height": 338
    },
    "executionInfo": {
     "elapsed": 1163,
     "status": "ok",
     "timestamp": 1641009721016,
     "user": {
      "displayName": "한기영",
      "photoUrl": "https://lh3.googleusercontent.com/a/default-user=s64",
      "userId": "13049187003176135487"
     },
     "user_tz": -540
    },
    "id": "496c089b",
    "outputId": "882feb21-9d50-4e48-cb87-3e4f6b269dd5",
    "scrolled": true
   },
   "outputs": [
    {
     "name": "stdout",
     "output_type": "stream",
     "text": [
      "(array([4., 6., 5., 2., 2., 1.]), array([19. , 23.5, 28. , 32.5, 37. , 41.5, 46. ]), <a list of 6 Patch objects>)\n",
      "--------------------------------------------------\n",
      "빈도수 :  [4. 6. 5. 2. 2. 1.]\n",
      "구간값 :  [19.  23.5 28.  32.5 37.  41.5 46. ]\n"
     ]
    },
    {
     "data": {
      "image/png": "[encoded data removed]",
      "text/plain": [
       "<Figure size 432x288 with 1 Axes>"
      ]
     },
     "metadata": {
      "needs_background": "light"
     },
     "output_type": "display_data"
    }
   ],
   "source": []
  },
  {
   "cell_type": "markdown",
   "id": "7e258ec6",
   "metadata": {
    "id": "7e258ec6"
   },
   "source": [
    "④ 몸무게 데이터 weight가 아래와 같을 때, 히스토그램을 그리고 결과를 저장하여 구간과 빈도수를 확인하시오.\n",
    "* weight = [68, 81, 64, 56, 78, 74, 61, 77, 66, 68, 59, 71, 80, 59, 67, 81, 69, 73, 69, 74, 70, 65]\n",
    "* 구간의 개수: 10, color: pink, edgecolor: white"
   ]
  },
  {
   "cell_type": "code",
   "execution_count": 62,
   "id": "9e03103e",
   "metadata": {},
   "outputs": [
    {
     "data": {
      "image/png": "[encoded data removed]",
      "text/plain": [
       "<Figure size 432x288 with 1 Axes>"
      ]
     },
     "metadata": {
      "needs_background": "light"
     },
     "output_type": "display_data"
    }
   ],
   "source": [
    "weight =  [68, 81, 64, 56, 78, 74, 61, 77, 66, 68, 59, 71, 80, 59, 67, 81, 69, 73, 69, 74, 70, 65]\n",
    "plt.hist(weight, bins=10, color='pink', edgecolor='white')\n",
    "plt.show()"
   ]
  },
  {
   "cell_type": "code",
   "execution_count": null,
   "id": "2bde231e",
   "metadata": {
    "colab": {
     "base_uri": "https://localhost:8080/",
     "height": 338
    },
    "executionInfo": {
     "elapsed": 901,
     "status": "ok",
     "timestamp": 1641009743866,
     "user": {
      "displayName": "한기영",
      "photoUrl": "https://lh3.googleusercontent.com/a/default-user=s64",
      "userId": "13049187003176135487"
     },
     "user_tz": -540
    },
    "id": "2bde231e",
    "outputId": "e22d6561-df9c-42e4-96b9-c2bbad02219f"
   },
   "outputs": [
    {
     "name": "stdout",
     "output_type": "stream",
     "text": [
      "(array([1., 2., 1., 2., 4., 3., 2., 2., 2., 3.]), array([56. , 58.5, 61. , 63.5, 66. , 68.5, 71. , 73.5, 76. , 78.5, 81. ]), <a list of 10 Patch objects>)\n",
      "--------------------------------------------------\n",
      "빈도수 :  [1. 2. 1. 2. 4. 3. 2. 2. 2. 3.]\n",
      "구간값 :  [56.  58.5 61.  63.5 66.  68.5 71.  73.5 76.  78.5 81. ]\n"
     ]
    },
    {
     "data": {
      "image/png": "[encoded data removed]",
      "text/plain": [
       "<Figure size 432x288 with 1 Axes>"
      ]
     },
     "metadata": {
      "needs_background": "light"
     },
     "output_type": "display_data"
    }
   ],
   "source": []
  },
  {
   "cell_type": "markdown",
   "id": "a54a8fdd",
   "metadata": {
    "id": "a54a8fdd"
   },
   "source": [
    "## 2) 밀도함수 그래프"
   ]
  },
  {
   "cell_type": "markdown",
   "id": "f2a520f6",
   "metadata": {
    "id": "f2a520f6"
   },
   "source": [
    "① 고객의 나이 정보 age가 아래와 같을 때, 밀도함수 그래프를 그리시오.\n",
    "*  age = [19, 20, 23, 46, 21, 25, 26, 25, 28, 31, 37, 24, 28, 34, 38, 33, 32, 29, 27, 24]"
   ]
  },
  {
   "cell_type": "code",
   "execution_count": 8,
   "id": "502c44f8",
   "metadata": {
    "colab": {
     "base_uri": "https://localhost:8080/",
     "height": 265
    },
    "executionInfo": {
     "elapsed": 915,
     "status": "ok",
     "timestamp": 1640852501930,
     "user": {
      "displayName": "한기영",
      "photoUrl": "https://lh3.googleusercontent.com/a/default-user=s64",
      "userId": "13049187003176135487"
     },
     "user_tz": -540
    },
    "id": "502c44f8",
    "outputId": "031f8912-967a-4d32-ee68-b892ddfc0113"
   },
   "outputs": [
    {
     "data": {
      "image/png": "[encoded data removed]",
      "text/plain": [
       "<Figure size 432x288 with 1 Axes>"
      ]
     },
     "metadata": {
      "needs_background": "light"
     },
     "output_type": "display_data"
    }
   ],
   "source": [
    "import pandas as pd\n",
    "age = [19, 20, 23, 46, 21, 25, 26, 25, 28, 31, 37, 24, 28, 34, 38, 33, 32, 29, 27, 24]\n",
    "age = pd.Series(age)\n",
    "age.plot(kind='kde')\n",
    "plt.show()"
   ]
  },
  {
   "cell_type": "markdown",
   "id": "df62af60",
   "metadata": {
    "id": "df62af60"
   },
   "source": [
    "② 몸무게 데이터 weight가 아래와 같을 때, 밀도함수 그래프를 그리시오.\n",
    "* weight = [68, 81, 64, 56, 78, 74, 61, 77, 66, 68, 59, 71, 80, 59, 67, 81, 69, 73, 69, 74, 70, 65]\n",
    "* color: green"
   ]
  },
  {
   "cell_type": "code",
   "execution_count": 65,
   "id": "c69fb18f",
   "metadata": {},
   "outputs": [
    {
     "data": {
      "image/png": "[encoded data removed]",
      "text/plain": [
       "<Figure size 432x288 with 1 Axes>"
      ]
     },
     "metadata": {
      "needs_background": "light"
     },
     "output_type": "display_data"
    }
   ],
   "source": [
    "weight = [68, 81, 64, 56, 78, 74, 61, 77, 66, 68, 59, 71, 80, 59, 67, 81, 69, 73, 69, 74, 70, 65]\n",
    "weights = pd.Series(weight)\n",
    "weights.plot(kind='kde', color = 'green')\n",
    "plt.show()"
   ]
  },
  {
   "cell_type": "code",
   "execution_count": null,
   "id": "eba76ccf",
   "metadata": {
    "colab": {
     "base_uri": "https://localhost:8080/",
     "height": 268
    },
    "executionInfo": {
     "elapsed": 17,
     "status": "ok",
     "timestamp": 1640852501931,
     "user": {
      "displayName": "한기영",
      "photoUrl": "https://lh3.googleusercontent.com/a/default-user=s64",
      "userId": "13049187003176135487"
     },
     "user_tz": -540
    },
    "id": "eba76ccf",
    "outputId": "9221207c-0190-4a11-aa1b-c66456300dae"
   },
   "outputs": [
    {
     "data": {
      "image/png": "[encoded data removed]",
      "text/plain": [
       "<Figure size 432x288 with 1 Axes>"
      ]
     },
     "metadata": {
      "needs_background": "light"
     },
     "output_type": "display_data"
    }
   ],
   "source": []
  },
  {
   "cell_type": "markdown",
   "id": "4f012064",
   "metadata": {
    "id": "4f012064"
   },
   "source": [
    "## 3) Boxplot"
   ]
  },
  {
   "cell_type": "markdown",
   "id": "5d18f2f0",
   "metadata": {
    "id": "5d18f2f0"
   },
   "source": [
    "① 고객의 나이 정보 age가 아래와 같을 때, 박스플롯을 세로로 그리고 결과를 저장, 아래/위 수염의 min, max를 구해 봅시다.  \n",
    "*  age = [19, 20, 23, 46, 21, 25, 26, 25, 28, 31, 37, 24, 28, 34, 38, 33, 32, 29, 27, 24]"
   ]
  },
  {
   "cell_type": "code",
   "execution_count": 11,
   "id": "054e7799",
   "metadata": {},
   "outputs": [
    {
     "data": {
      "image/png": "[encoded data removed]",
      "text/plain": [
       "<Figure size 432x288 with 1 Axes>"
      ]
     },
     "metadata": {
      "needs_background": "light"
     },
     "output_type": "display_data"
    }
   ],
   "source": [
    "age = [19, 20, 23, 46, 21, 25, 26, 25, 28, 31, 37, 24, 28, 34, 38, 33, 32, 29, 27, 24]\n",
    "plt.boxplot(age, vert=True)\n",
    "plt.show()"
   ]
  },
  {
   "cell_type": "code",
   "execution_count": null,
   "id": "39fe2880",
   "metadata": {
    "colab": {
     "base_uri": "https://localhost:8080/",
     "height": 320
    },
    "executionInfo": {
     "elapsed": 352,
     "status": "ok",
     "timestamp": 1641009794694,
     "user": {
      "displayName": "한기영",
      "photoUrl": "https://lh3.googleusercontent.com/a/default-user=s64",
      "userId": "13049187003176135487"
     },
     "user_tz": -540
    },
    "id": "39fe2880",
    "outputId": "0ff18eff-f724-4d79-d6ec-64b8a7faae64",
    "scrolled": true
   },
   "outputs": [
    {
     "name": "stdout",
     "output_type": "stream",
     "text": [
      "[<matplotlib.lines.Line2D object at 0x7fd8f18a0ad0>, <matplotlib.lines.Line2D object at 0x7fd8f18a7050>]\n",
      "[24. 19.]\n",
      "[32.25 38.  ]\n"
     ]
    },
    {
     "data": {
      "image/png": "[encoded data removed]",
      "text/plain": [
       "<Figure size 432x288 with 1 Axes>"
      ]
     },
     "metadata": {
      "needs_background": "light"
     },
     "output_type": "display_data"
    }
   ],
   "source": []
  },
  {
   "cell_type": "markdown",
   "id": "b36e8a63",
   "metadata": {
    "id": "b36e8a63"
   },
   "source": [
    "② 몸무게 데이터 weight가 아래와 같을 때, 박스플롯을 가로로 그리고 결과를 저장, 아래/위 수염의 min, max를 구해 봅시다.  \n",
    "* weight = [68, 81, 64, 56, 78, 74, 61, 77, 66, 68, 59, 71, 80, 59, 67, 81, 69, 73, 69, 74, 70, 65]"
   ]
  },
  {
   "cell_type": "code",
   "execution_count": 71,
   "id": "ff33c3d2",
   "metadata": {},
   "outputs": [
    {
     "name": "stdout",
     "output_type": "stream",
     "text": [
      "[<matplotlib.lines.Line2D object at 0x0000026B555EEC10>, <matplotlib.lines.Line2D object at 0x0000026B555EE7F0>]\n",
      "[65.25 56.  ]\n",
      "[74. 81.]\n"
     ]
    },
    {
     "data": {
      "image/png": "[encoded data removed]",
      "text/plain": [
       "<Figure size 432x288 with 1 Axes>"
      ]
     },
     "metadata": {
      "needs_background": "light"
     },
     "output_type": "display_data"
    }
   ],
   "source": [
    "weight = [68, 81, 64, 56, 78, 74, 61, 77, 66, 68, 59, 71, 80, 59, 67, 81, 69, 73, 69, 74, 70, 65]\n",
    "\n",
    "plt.boxplot(weight, vert=False)\n",
    "weights = plt.boxplot(weight, vert=False)\n",
    "print(weights['whiskers'])\n",
    "print(weights['whiskers'][0].get_xdata())\n",
    "print(weights['whiskers'][1].get_xdata())\n",
    "plt.show()"
   ]
  },
  {
   "cell_type": "code",
   "execution_count": null,
   "id": "3fab7941",
   "metadata": {
    "colab": {
     "base_uri": "https://localhost:8080/",
     "height": 320
    },
    "executionInfo": {
     "elapsed": 855,
     "status": "ok",
     "timestamp": 1641009802441,
     "user": {
      "displayName": "한기영",
      "photoUrl": "https://lh3.googleusercontent.com/a/default-user=s64",
      "userId": "13049187003176135487"
     },
     "user_tz": -540
    },
    "id": "3fab7941",
    "outputId": "3b2856f0-ae75-4143-8de6-cd31b970472c"
   },
   "outputs": [
    {
     "name": "stdout",
     "output_type": "stream",
     "text": [
      "[<matplotlib.lines.Line2D object at 0x7fd8f1893e50>, <matplotlib.lines.Line2D object at 0x7fd8f18973d0>]\n",
      "[65.25 56.  ]\n",
      "[74. 81.]\n"
     ]
    },
    {
     "data": {
      "image/png": "[encoded data removed]",
      "text/plain": [
       "<Figure size 432x288 with 1 Axes>"
      ]
     },
     "metadata": {
      "needs_background": "light"
     },
     "output_type": "display_data"
    }
   ],
   "source": []
  },
  {
   "cell_type": "markdown",
   "id": "e1517bc0",
   "metadata": {
    "id": "e1517bc0"
   },
   "source": [
    "## 4) 바이올린 플롯"
   ]
  },
  {
   "cell_type": "markdown",
   "id": "2ae7b591",
   "metadata": {
    "id": "2ae7b591"
   },
   "source": [
    "① 고객의 나이 정보 age가 아래와 같을 때, 바이올린 플롯을 가로로 그리고 평균값을 텍스트로 나타내시오.\n",
    "*  age = [19, 20, 23, 46, 21, 25, 26, 25, 28, 31, 37, 24, 28, 34, 38, 33, 32, 29, 27, 24]"
   ]
  },
  {
   "cell_type": "code",
   "execution_count": 14,
   "id": "ca4954bb",
   "metadata": {},
   "outputs": [
    {
     "data": {
      "image/png": "[encoded data removed]",
      "text/plain": [
       "<Figure size 432x288 with 1 Axes>"
      ]
     },
     "metadata": {
      "needs_background": "light"
     },
     "output_type": "display_data"
    }
   ],
   "source": [
    "import numpy as np\n",
    "age = [19, 20, 23, 46, 21, 25, 26, 25, 28, 31, 37, 24, 28, 34, 38, 33, 32, 29, 27, 24]\n",
    "age_mean = np.mean(age)\n",
    "plt.violinplot(age, vert=False, showmeans=True)\n",
    "plt.text(age_mean-1, 0.85, age_mean)\n",
    "plt.show()"
   ]
  },
  {
   "cell_type": "code",
   "execution_count": null,
   "id": "8180ecdb",
   "metadata": {
    "colab": {
     "base_uri": "https://localhost:8080/",
     "height": 265
    },
    "executionInfo": {
     "elapsed": 13,
     "status": "ok",
     "timestamp": 1640852502349,
     "user": {
      "displayName": "한기영",
      "photoUrl": "https://lh3.googleusercontent.com/a/default-user=s64",
      "userId": "13049187003176135487"
     },
     "user_tz": -540
    },
    "id": "8180ecdb",
    "outputId": "e318b1c0-0d04-4ca8-cf50-285f29f87b36"
   },
   "outputs": [
    {
     "data": {
      "image/png": "[encoded data removed]",
      "text/plain": [
       "<Figure size 432x288 with 1 Axes>"
      ]
     },
     "metadata": {
      "needs_background": "light"
     },
     "output_type": "display_data"
    }
   ],
   "source": []
  },
  {
   "cell_type": "markdown",
   "id": "609b16a4",
   "metadata": {
    "id": "609b16a4"
   },
   "source": [
    "② 몸무게 데이터 weight가 아래와 같을 때, 바이올린 플롯을 세로로 그리고 평균값을 텍스트로 나타내시오.\n",
    "* weight = [68, 81, 64, 56, 78, 74, 61, 77, 66, 68, 59, 71, 80, 59, 67, 81, 69, 73, 69, 74, 70, 65]"
   ]
  },
  {
   "cell_type": "code",
   "execution_count": 76,
   "id": "366d048d",
   "metadata": {},
   "outputs": [
    {
     "data": {
      "image/png": "[encoded data removed]",
      "text/plain": [
       "<Figure size 432x288 with 1 Axes>"
      ]
     },
     "metadata": {
      "needs_background": "light"
     },
     "output_type": "display_data"
    }
   ],
   "source": [
    "weight = [68, 81, 64, 56, 78, 74, 61, 77, 66, 68, 59, 71, 80, 59, 67, 81, 69, 73, 69, 74, 70, 65]\n",
    "wei_mean = np.mean(weight)\n",
    "plt.violinplot(weight, vert=False, showmeans=True)\n",
    "plt.text(wei_mean+0.2, 1.02, wei_mean)\n",
    "plt.show()"
   ]
  },
  {
   "cell_type": "code",
   "execution_count": null,
   "id": "002506db",
   "metadata": {
    "colab": {
     "base_uri": "https://localhost:8080/",
     "height": 265
    },
    "executionInfo": {
     "elapsed": 422,
     "status": "ok",
     "timestamp": 1640852502759,
     "user": {
      "displayName": "한기영",
      "photoUrl": "https://lh3.googleusercontent.com/a/default-user=s64",
      "userId": "13049187003176135487"
     },
     "user_tz": -540
    },
    "id": "002506db",
    "outputId": "ee75e962-edd8-437d-bbf8-ac103f67b252"
   },
   "outputs": [
    {
     "data": {
      "image/png": "[encoded data removed]",
      "text/plain": [
       "<Figure size 432x288 with 1 Axes>"
      ]
     },
     "metadata": {
      "needs_background": "light"
     },
     "output_type": "display_data"
    }
   ],
   "source": []
  },
  {
   "cell_type": "markdown",
   "id": "ac29a1fd",
   "metadata": {
    "id": "ac29a1fd"
   },
   "source": [
    "## 5) 그래프 비교하기"
   ]
  },
  {
   "cell_type": "markdown",
   "id": "4ef7d7bb",
   "metadata": {
    "id": "4ef7d7bb"
   },
   "source": [
    "① 고객의 나이 정보 age의 값들을 활용하여 앞에서 다루었던 네 가지 그래프(히스토그램, 밀도 함수 그래프, 박스플롯, 바이올린 플롯)을 주어진 결과에 맞게 한꺼번에 그리고 비교해 봅시다.\n",
    "* age = [19,20,23,46,21,25,26,25,28,31,37,24,28,34,38,33,32,29,27,24]\n",
    "* 힌트: subplot() 사용"
   ]
  },
  {
   "cell_type": "code",
   "execution_count": null,
   "id": "49daadcb",
   "metadata": {},
   "outputs": [],
   "source": [
    "age = [19,20,23,46,21,25,26,25,28,31,37,24,28,34,38,33,32,29,27,24]"
   ]
  },
  {
   "cell_type": "code",
   "execution_count": null,
   "id": "0fa89783",
   "metadata": {
    "colab": {
     "base_uri": "https://localhost:8080/",
     "height": 265
    },
    "executionInfo": {
     "elapsed": 422,
     "status": "ok",
     "timestamp": 1640852503173,
     "user": {
      "displayName": "한기영",
      "photoUrl": "https://lh3.googleusercontent.com/a/default-user=s64",
      "userId": "13049187003176135487"
     },
     "user_tz": -540
    },
    "id": "0fa89783",
    "outputId": "3bc448d6-9c98-4060-f685-bf7d8db185ab"
   },
   "outputs": [
    {
     "data": {
      "image/png": "[encoded data removed]",
      "text/plain": [
       "<Figure size 432x288 with 4 Axes>"
      ]
     },
     "metadata": {
      "needs_background": "light"
     },
     "output_type": "display_data"
    }
   ],
   "source": []
  },
  {
   "cell_type": "markdown",
   "id": "86e2e466",
   "metadata": {
    "id": "86e2e466"
   },
   "source": [
    "② 몸무게 데이터 weight를 활용하여 앞에서 다루었던 네 가지 그래프(히스토그램, 밀도 함수 그래프, 박스플롯, 바이올린 플롯)을 주어진 결과에 맞게 한꺼번에 그리고 비교해 봅시다.\n",
    "* weight = [68, 81, 64, 56, 78, 74, 61, 77, 66, 68, 59, 71, 80, 59, 67, 81, 69, 73, 69, 74, 70, 65]\n",
    "* 힌트: subplot() 사용"
   ]
  },
  {
   "cell_type": "code",
   "execution_count": 27,
   "id": "db296aee",
   "metadata": {},
   "outputs": [
    {
     "data": {
      "image/png": "[encoded data removed]",
      "text/plain": [
       "<Figure size 432x288 with 4 Axes>"
      ]
     },
     "metadata": {
      "needs_background": "light"
     },
     "output_type": "display_data"
    }
   ],
   "source": [
    "weight = [68, 81, 64, 56, 78, 74, 61, 77, 66, 68, 59, 71, 80, 59, 67, 81, 69, 73, 69, 74, 70, 65]\n",
    "weights = pd.Series(weight)\n",
    "\n",
    "plt.subplot(2,2,1)\n",
    "plt.hist(weight, edgecolor='w')\n",
    "\n",
    "plt.subplot(2,2,2)\n",
    "plt.boxplot(weight)\n",
    "\n",
    "plt.subplot(2,2,3)\n",
    "weights.plot(kind='kde')\n",
    "\n",
    "plt.subplot(2,2,4)\n",
    "weightm = np.mean(weight)\n",
    "plt.violinplot(weight, vert=False, showmeans=True)\n",
    "plt.text(70, 0.9, weightm)\n",
    "plt.show()"
   ]
  },
  {
   "cell_type": "code",
   "execution_count": null,
   "id": "5b3c9a82",
   "metadata": {
    "colab": {
     "base_uri": "https://localhost:8080/",
     "height": 265
    },
    "executionInfo": {
     "elapsed": 434,
     "status": "ok",
     "timestamp": 1640852503598,
     "user": {
      "displayName": "한기영",
      "photoUrl": "https://lh3.googleusercontent.com/a/default-user=s64",
      "userId": "13049187003176135487"
     },
     "user_tz": -540
    },
    "id": "5b3c9a82",
    "outputId": "ca5600c7-a563-4f66-eb4a-6646dc61ef3e"
   },
   "outputs": [
    {
     "data": {
      "image/png": "[encoded data removed]",
      "text/plain": [
       "<Figure size 432x288 with 4 Axes>"
      ]
     },
     "metadata": {
      "needs_background": "light"
     },
     "output_type": "display_data"
    }
   ],
   "source": []
  },
  {
   "cell_type": "markdown",
   "id": "551065fe",
   "metadata": {
    "id": "551065fe"
   },
   "source": [
    "## 6) 데이터 프레임의 숫자형 변수 시각화"
   ]
  },
  {
   "cell_type": "markdown",
   "id": "e0e4d4ad",
   "metadata": {
    "id": "e0e4d4ad"
   },
   "source": [
    "### ① Titanic\n",
    "\n",
    "* 데이터셋 : titanic3\n",
    "* 설명 : NaN 조치된 Titanic\n",
    "* url : https://bit.ly/3HaMAtZ"
   ]
  },
  {
   "cell_type": "markdown",
   "id": "b5c0833d",
   "metadata": {
    "id": "b5c0833d"
   },
   "source": [
    "(1) 데이터를 불러와서 상위 5개 행을 조회하시오."
   ]
  },
  {
   "cell_type": "code",
   "execution_count": 77,
   "id": "a7f8ecc4",
   "metadata": {
    "colab": {
     "base_uri": "https://localhost:8080/"
    },
    "executionInfo": {
     "elapsed": 418,
     "status": "ok",
     "timestamp": 1641000201152,
     "user": {
      "displayName": "한기영",
      "photoUrl": "https://lh3.googleusercontent.com/a/default-user=s64",
      "userId": "13049187003176135487"
     },
     "user_tz": -540
    },
    "id": "a7f8ecc4",
    "outputId": "34fd9c0a-c92f-4d28-91bb-fd2a70b7f21b",
    "scrolled": false
   },
   "outputs": [
    {
     "data": {
      "text/html": [
       "<div>\n",
       "<style scoped>\n",
       "    .dataframe tbody tr th:only-of-type {\n",
       "        vertical-align: middle;\n",
       "    }\n",
       "\n",
       "    .dataframe tbody tr th {\n",
       "        vertical-align: top;\n",
       "    }\n",
       "\n",
       "    .dataframe thead th {\n",
       "        text-align: right;\n",
       "    }\n",
       "</style>\n",
       "<table border=\"1\" class=\"dataframe\">\n",
       "  <thead>\n",
       "    <tr style=\"text-align: right;\">\n",
       "      <th></th>\n",
       "      <th>Survived</th>\n",
       "      <th>Pclass</th>\n",
       "      <th>Sex</th>\n",
       "      <th>Age</th>\n",
       "      <th>SibSp</th>\n",
       "      <th>Parch</th>\n",
       "      <th>Fare</th>\n",
       "      <th>Embarked</th>\n",
       "      <th>AgeGroup</th>\n",
       "      <th>Family</th>\n",
       "      <th>Age_scale1</th>\n",
       "    </tr>\n",
       "  </thead>\n",
       "  <tbody>\n",
       "    <tr>\n",
       "      <th>0</th>\n",
       "      <td>0</td>\n",
       "      <td>3</td>\n",
       "      <td>male</td>\n",
       "      <td>22.0</td>\n",
       "      <td>1</td>\n",
       "      <td>0</td>\n",
       "      <td>7.2500</td>\n",
       "      <td>S</td>\n",
       "      <td>Age21_30</td>\n",
       "      <td>2</td>\n",
       "      <td>0.271174</td>\n",
       "    </tr>\n",
       "    <tr>\n",
       "      <th>1</th>\n",
       "      <td>1</td>\n",
       "      <td>1</td>\n",
       "      <td>female</td>\n",
       "      <td>38.0</td>\n",
       "      <td>1</td>\n",
       "      <td>0</td>\n",
       "      <td>71.2833</td>\n",
       "      <td>C</td>\n",
       "      <td>Age31_40</td>\n",
       "      <td>2</td>\n",
       "      <td>0.472229</td>\n",
       "    </tr>\n",
       "    <tr>\n",
       "      <th>2</th>\n",
       "      <td>1</td>\n",
       "      <td>3</td>\n",
       "      <td>female</td>\n",
       "      <td>26.0</td>\n",
       "      <td>0</td>\n",
       "      <td>0</td>\n",
       "      <td>7.9250</td>\n",
       "      <td>S</td>\n",
       "      <td>Age21_30</td>\n",
       "      <td>1</td>\n",
       "      <td>0.321438</td>\n",
       "    </tr>\n",
       "    <tr>\n",
       "      <th>3</th>\n",
       "      <td>1</td>\n",
       "      <td>1</td>\n",
       "      <td>female</td>\n",
       "      <td>35.0</td>\n",
       "      <td>1</td>\n",
       "      <td>0</td>\n",
       "      <td>53.1000</td>\n",
       "      <td>S</td>\n",
       "      <td>Age31_40</td>\n",
       "      <td>2</td>\n",
       "      <td>0.434531</td>\n",
       "    </tr>\n",
       "    <tr>\n",
       "      <th>4</th>\n",
       "      <td>0</td>\n",
       "      <td>3</td>\n",
       "      <td>male</td>\n",
       "      <td>35.0</td>\n",
       "      <td>0</td>\n",
       "      <td>0</td>\n",
       "      <td>8.0500</td>\n",
       "      <td>S</td>\n",
       "      <td>Age31_40</td>\n",
       "      <td>1</td>\n",
       "      <td>0.434531</td>\n",
       "    </tr>\n",
       "  </tbody>\n",
       "</table>\n",
       "</div>"
      ],
      "text/plain": [
       "   Survived  Pclass     Sex   Age  SibSp  Parch     Fare Embarked  AgeGroup  \\\n",
       "0         0       3    male  22.0      1      0   7.2500        S  Age21_30   \n",
       "1         1       1  female  38.0      1      0  71.2833        C  Age31_40   \n",
       "2         1       3  female  26.0      0      0   7.9250        S  Age21_30   \n",
       "3         1       1  female  35.0      1      0  53.1000        S  Age31_40   \n",
       "4         0       3    male  35.0      0      0   8.0500        S  Age31_40   \n",
       "\n",
       "   Family  Age_scale1  \n",
       "0       2    0.271174  \n",
       "1       2    0.472229  \n",
       "2       1    0.321438  \n",
       "3       2    0.434531  \n",
       "4       1    0.434531  "
      ]
     },
     "execution_count": 77,
     "metadata": {},
     "output_type": "execute_result"
    }
   ],
   "source": [
    "path = 'https://bit.ly/3HaMAtZ'\n",
    "titanic3 = pd.read_csv(path)\n",
    "titanic3.head(5)"
   ]
  },
  {
   "cell_type": "markdown",
   "id": "ad040fa5",
   "metadata": {
    "id": "ad040fa5"
   },
   "source": [
    "(2) 나이(Age)의 분포를 확인하기 위한 히스토그램을 주어진 결과에 맞게 그리시오."
   ]
  },
  {
   "cell_type": "code",
   "execution_count": 30,
   "id": "b9204628",
   "metadata": {},
   "outputs": [
    {
     "data": {
      "image/png": "[encoded data removed]",
      "text/plain": [
       "<Figure size 432x288 with 1 Axes>"
      ]
     },
     "metadata": {
      "needs_background": "light"
     },
     "output_type": "display_data"
    }
   ],
   "source": [
    "plt.hist(titanic3['Age'], bins=10, edgecolor = 'grey')\n",
    "plt.show()"
   ]
  },
  {
   "cell_type": "code",
   "execution_count": null,
   "id": "246b74f6",
   "metadata": {
    "colab": {
     "base_uri": "https://localhost:8080/",
     "height": 265
    },
    "executionInfo": {
     "elapsed": 1133,
     "status": "ok",
     "timestamp": 1641000206273,
     "user": {
      "displayName": "한기영",
      "photoUrl": "https://lh3.googleusercontent.com/a/default-user=s64",
      "userId": "13049187003176135487"
     },
     "user_tz": -540
    },
    "id": "246b74f6",
    "outputId": "801d755a-d832-438d-c378-c84278c760b5"
   },
   "outputs": [
    {
     "data": {
      "image/png": "[encoded data removed]",
      "text/plain": [
       "<Figure size 432x288 with 1 Axes>"
      ]
     },
     "metadata": {
      "needs_background": "light"
     },
     "output_type": "display_data"
    }
   ],
   "source": []
  },
  {
   "cell_type": "markdown",
   "id": "2ce1a167",
   "metadata": {
    "id": "2ce1a167"
   },
   "source": [
    "(3) 나이(Age)의 분포를 확인하기 위한 네 가지 그래프(히스토그램, 밀도 함수 그래프, 박스플롯, 바이올린 플롯)을 주어진 결과에 맞게 한꺼번에 그리고 비교해 봅시다."
   ]
  },
  {
   "cell_type": "code",
   "execution_count": 46,
   "id": "6569e51e",
   "metadata": {},
   "outputs": [
    {
     "data": {
      "image/png": "[encoded data removed]",
      "text/plain": [
       "<Figure size 432x288 with 4 Axes>"
      ]
     },
     "metadata": {
      "needs_background": "light"
     },
     "output_type": "display_data"
    }
   ],
   "source": [
    "plt.subplot(2,2,1)\n",
    "plt.hist(titanic3['Age'], bins=15, edgecolor='gray')\n",
    "\n",
    "plt.subplot(2,2,2)\n",
    "plt.boxplot(titanic3['Age'], vert=False)\n",
    "\n",
    "plt.subplot(2,2,3)\n",
    "titanic3['Age'].plot(kind='kde')\n",
    "\n",
    "plt.subplot(2,2,4)\n",
    "titanic4 = np.mean(titanic3['Age'])\n",
    "plt.violinplot(titanic3['Age'], vert=False, showmeans=True)\n",
    "# plt.text(70, 0.9, titanic4)\n",
    "plt.show()"
   ]
  },
  {
   "cell_type": "code",
   "execution_count": null,
   "id": "14f42b50",
   "metadata": {
    "colab": {
     "base_uri": "https://localhost:8080/",
     "height": 265
    },
    "executionInfo": {
     "elapsed": 2136,
     "status": "ok",
     "timestamp": 1640999897804,
     "user": {
      "displayName": "한기영",
      "photoUrl": "https://lh3.googleusercontent.com/a/default-user=s64",
      "userId": "13049187003176135487"
     },
     "user_tz": -540
    },
    "id": "14f42b50",
    "outputId": "8fcfe55b-a869-48c5-97d7-2076eaebb827"
   },
   "outputs": [
    {
     "data": {
      "image/png": "[encoded data removed]",
      "text/plain": [
       "<Figure size 432x288 with 4 Axes>"
      ]
     },
     "metadata": {
      "needs_background": "light"
     },
     "output_type": "display_data"
    }
   ],
   "source": []
  },
  {
   "cell_type": "markdown",
   "id": "ZrAaoil-EUjY",
   "metadata": {
    "id": "ZrAaoil-EUjY"
   },
   "source": [
    "(4) 위 분포로 부터 알수 있는 것은 무엇인가요?"
   ]
  },
  {
   "cell_type": "markdown",
   "id": "BzFpoVBHEoae",
   "metadata": {
    "id": "BzFpoVBHEoae"
   },
   "source": [
    "* 20 ~ 40세 탑승객이 주를 이룬다.\n",
    "* 0 ~ 5세 탑승객이 많음\n",
    "* ==> 젊은 부부 + 어린 자녀가 있는 가족 단위 탑승객이 많을 것으로 예상됨."
   ]
  },
  {
   "cell_type": "markdown",
   "id": "pvLzN604Em4f",
   "metadata": {
    "id": "pvLzN604Em4f"
   },
   "source": [
    "더 살펴보고 싶은 부분은 무엇인가요?"
   ]
  },
  {
   "cell_type": "markdown",
   "id": "W2sCFxPpEpql",
   "metadata": {
    "id": "W2sCFxPpEpql"
   },
   "source": [
    "* 나이에 따라서, 생존여부에 차이가 있을까?\n",
    "* 나이를 나이대로 변환할 필요가 있을까?\n",
    "* 나이와 탑승지역과 관련이 있을까?(쉐부르 = 프랑스 부촌. 여기서도 젊은 사람들이 많이 탔을까?)"
   ]
  },
  {
   "cell_type": "markdown",
   "id": "41a7abf7",
   "metadata": {
    "id": "41a7abf7"
   },
   "source": [
    "### ② New York Air Quality\n",
    "\n",
    "* 데이터셋 : airquality\n",
    "* 설명 : 뉴욕 공기오염도\n",
    "* url : https://bit.ly/3qmthqZ"
   ]
  },
  {
   "cell_type": "markdown",
   "id": "c6763b01",
   "metadata": {
    "id": "c6763b01"
   },
   "source": [
    "(1) 데이터를 불러와서 상위 5개 행을 조회하시오."
   ]
  },
  {
   "cell_type": "code",
   "execution_count": 42,
   "id": "75653d46",
   "metadata": {},
   "outputs": [
    {
     "name": "stdout",
     "output_type": "stream",
     "text": [
      "   Ozone  Solar.R  Wind  Temp        Date\n",
      "0     41    190.0   7.4    67  1973-05-01\n",
      "1     36    118.0   8.0    72  1973-05-02\n",
      "2     12    149.0  12.6    74  1973-05-03\n",
      "3     18    313.0  11.5    62  1973-05-04\n",
      "4     19      NaN  14.3    56  1973-05-05\n"
     ]
    }
   ],
   "source": [
    "path = 'https://bit.ly/3qmthqZ'\n",
    "airquality = pd.read_csv(path)\n",
    "print(airquality.head(5))"
   ]
  },
  {
   "cell_type": "code",
   "execution_count": null,
   "id": "7373e5ce",
   "metadata": {
    "colab": {
     "base_uri": "https://localhost:8080/"
    },
    "executionInfo": {
     "elapsed": 323,
     "status": "ok",
     "timestamp": 1640999972569,
     "user": {
      "displayName": "한기영",
      "photoUrl": "https://lh3.googleusercontent.com/a/default-user=s64",
      "userId": "13049187003176135487"
     },
     "user_tz": -540
    },
    "id": "7373e5ce",
    "outputId": "8170f910-fd52-43a2-dfb2-9ddfbdc6be09",
    "scrolled": true
   },
   "outputs": [
    {
     "name": "stdout",
     "output_type": "stream",
     "text": [
      "   Ozone  Solar.R  Wind  Temp        Date\n",
      "0     41    190.0   7.4    67  1973-05-01\n",
      "1     36    118.0   8.0    72  1973-05-02\n",
      "2     12    149.0  12.6    74  1973-05-03\n",
      "3     18    313.0  11.5    62  1973-05-04\n",
      "4     19      NaN  14.3    56  1973-05-05\n"
     ]
    }
   ],
   "source": []
  },
  {
   "cell_type": "markdown",
   "id": "2c7172a6",
   "metadata": {
    "id": "2c7172a6"
   },
   "source": [
    "(2) 풍량(Wind)의 분포를 확인하기 위한 히스토그램을 주어진 결과에 맞게 그리시오.\n",
    "* color: skyblue\n",
    "* edge color: white"
   ]
  },
  {
   "cell_type": "code",
   "execution_count": 45,
   "id": "c109d017",
   "metadata": {
    "colab": {
     "base_uri": "https://localhost:8080/",
     "height": 279
    },
    "executionInfo": {
     "elapsed": 1363,
     "status": "ok",
     "timestamp": 1640999936240,
     "user": {
      "displayName": "한기영",
      "photoUrl": "https://lh3.googleusercontent.com/a/default-user=s64",
      "userId": "13049187003176135487"
     },
     "user_tz": -540
    },
    "id": "c109d017",
    "outputId": "1c870022-a4a7-475f-df5f-98ee1a844ce2"
   },
   "outputs": [
    {
     "data": {
      "image/png": "[encoded data removed]",
      "text/plain": [
       "<Figure size 432x288 with 1 Axes>"
      ]
     },
     "metadata": {
      "needs_background": "light"
     },
     "output_type": "display_data"
    }
   ],
   "source": [
    "plt.hist(airquality['Wind'], bins=8, color='skyblue', edgecolor='white')\n",
    "plt.show()"
   ]
  },
  {
   "cell_type": "markdown",
   "id": "d66d6e46",
   "metadata": {
    "id": "d66d6e46"
   },
   "source": [
    "(3) 풍량(wind)의 분포를 확인하기 위한 네 가지 그래프(히스토그램, 밀도 함수 그래프, 박스플롯, 바이올린 플롯)을 주어진 결과에 맞게 한꺼번에 그리고 비교해 봅시다."
   ]
  },
  {
   "cell_type": "code",
   "execution_count": 82,
   "id": "6e52da47",
   "metadata": {},
   "outputs": [
    {
     "data": {
      "image/png": "[encoded data removed]",
      "text/plain": [
       "<Figure size 720x576 with 4 Axes>"
      ]
     },
     "metadata": {
      "needs_background": "light"
     },
     "output_type": "display_data"
    }
   ],
   "source": [
    "weight = [68, 81, 64, 56, 78, 74, 61, 77, 66, 68, 59, 71, 80, 59, 67, 81, 69, 73, 69, 74, 70, 65]\n",
    "weights = pd.Series(weight)\n",
    "\n",
    "plt.figure(figsize=(10, 8))\n",
    "plt.subplot(2,2,1)\n",
    "plt.hist(airquality['Wind'], bins=8, edgecolor='white')\n",
    "\n",
    "plt.subplot(2,2,2)\n",
    "plt.boxplot(airquality['Wind'], vert=True)\n",
    "\n",
    "plt.subplot(2,2,3)\n",
    "airquality['Wind'].plot(kind='kde')\n",
    "\n",
    "plt.subplot(2,2,4)\n",
    "titanic4 = np.mean(titanic3['Age'])\n",
    "w_mean = np.mean(airquality['Wind'])\n",
    "plt.violinplot(airquality['Wind'], vert=False, showmeans=True)\n",
    "plt.text(10.1, 0.95, w_mean)\n",
    "plt.show()"
   ]
  },
  {
   "cell_type": "code",
   "execution_count": null,
   "id": "8b188d42",
   "metadata": {
    "colab": {
     "base_uri": "https://localhost:8080/",
     "height": 265
    },
    "executionInfo": {
     "elapsed": 1991,
     "status": "ok",
     "timestamp": 1640999959725,
     "user": {
      "displayName": "한기영",
      "photoUrl": "https://lh3.googleusercontent.com/a/default-user=s64",
      "userId": "13049187003176135487"
     },
     "user_tz": -540
    },
    "id": "8b188d42",
    "outputId": "d802e864-94d8-441f-fd72-3005b25b873d",
    "scrolled": true
   },
   "outputs": [
    {
     "data": {
      "image/png": "[encoded data removed]",
      "text/plain": [
       "<Figure size 432x288 with 4 Axes>"
      ]
     },
     "metadata": {
      "needs_background": "light"
     },
     "output_type": "display_data"
    }
   ],
   "source": []
  },
  {
   "cell_type": "markdown",
   "id": "Pgdh7bcEEvSj",
   "metadata": {
    "id": "Pgdh7bcEEvSj"
   },
   "source": [
    "(4) 위 분포로 부터 알수 있는 것은 무엇인가요?"
   ]
  },
  {
   "cell_type": "markdown",
   "id": "NCyoC_qZEvSk",
   "metadata": {
    "id": "NCyoC_qZEvSk"
   },
   "source": []
  },
  {
   "cell_type": "markdown",
   "id": "wMLKUM26EvSl",
   "metadata": {
    "id": "wMLKUM26EvSl"
   },
   "source": [
    "더 살펴보고 싶은 부분은 무엇인가요?"
   ]
  },
  {
   "cell_type": "markdown",
   "id": "b4JcGP9EEvSm",
   "metadata": {
    "id": "b4JcGP9EEvSm"
   },
   "source": []
  },
  {
   "cell_type": "markdown",
   "id": "a01b7d28",
   "metadata": {},
   "source": [
    "* 라이브러리 불러오기"
   ]
  },
  {
   "cell_type": "code",
   "execution_count": 1,
   "id": "9e14f1e0",
   "metadata": {},
   "outputs": [],
   "source": [
    "import numpy as np\n",
    "import pandas as pd\n",
    "import matplotlib.pyplot as plt"
   ]
  },
  {
   "cell_type": "code",
   "execution_count": 3,
   "id": "d874b51c",
   "metadata": {},
   "outputs": [
    {
     "data": {
      "image/png": "[encoded data removed]",
      "text/plain": [
       "<Figure size 432x288 with 1 Axes>"
      ]
     },
     "metadata": {
      "needs_background": "light"
     },
     "output_type": "display_data"
    }
   ],
   "source": [
    "# 1) 히스토그램 기본\n",
    "\n",
    "age = [19,20,23,46,21,25,26,25,28,31,37,24,28,34,38,33,32,29,27,24]\n",
    "plt.hist(age, bins = 5, edgecolor = 'gray')           # bins 개수가 5\n",
    "plt.xlabel('Age')\n",
    "plt.ylabel('Frequency')\n",
    "plt.show()"
   ]
  },
  {
   "cell_type": "code",
   "execution_count": 4,
   "id": "1881f122",
   "metadata": {},
   "outputs": [
    {
     "data": {
      "image/png": "[encoded data removed]",
      "text/plain": [
       "<Figure size 432x288 with 1 Axes>"
      ]
     },
     "metadata": {
      "needs_background": "light"
     },
     "output_type": "display_data"
    }
   ],
   "source": [
    "# 2) 구간의 갯수를 조정해 봅시다.\n",
    "\n",
    "age = [19,20,23,46,21,25,26,25,28,31,37,24,28,34,38,33,32,29,27,24]\n",
    "plt.hist(age, bins = 10, edgecolor = 'gray')          # bins 개수가 10\n",
    "plt.xlabel('Age')\n",
    "plt.ylabel('Frequency')\n",
    "plt.show()"
   ]
  },
  {
   "cell_type": "code",
   "execution_count": 5,
   "id": "5579b83e",
   "metadata": {},
   "outputs": [
    {
     "name": "stdout",
     "output_type": "stream",
     "text": [
      "(array([6., 7., 4., 2., 1.]), array([19. , 24.4, 29.8, 35.2, 40.6, 46. ]), <BarContainer object of 5 artists>)\n",
      "<class 'tuple'>\n",
      "--------------------------------------------------\n",
      "빈도수 :  [6. 7. 4. 2. 1.]\n",
      "구간값 :  [19.  24.4 29.8 35.2 40.6 46. ]\n"
     ]
    },
    {
     "data": {
      "image/png": "[encoded data removed]",
      "text/plain": [
       "<Figure size 432x288 with 1 Axes>"
      ]
     },
     "metadata": {
      "needs_background": "light"
     },
     "output_type": "display_data"
    }
   ],
   "source": [
    "# 3) 구간 값과 갯수를 확인해 봅시다.\n",
    "\n",
    "age = [19,20,23,46,21,25,26,25,28,31,37,24,28,34,38,33,32,29,27,24]\n",
    "hist1 = plt.hist(age, bins = 5, edgecolor = 'gray')\n",
    "\n",
    "print(hist1)\n",
    "print(type(hist1))\n",
    "print('-' * 50)\n",
    "print('빈도수 : ', hist1[0])\n",
    "print('구간값 : ', hist1[1])"
   ]
  },
  {
   "cell_type": "code",
   "execution_count": 6,
   "id": "9b8755a1",
   "metadata": {},
   "outputs": [
    {
     "data": {
      "image/png": "[encoded data removed]",
      "text/plain": [
       "<Figure size 432x288 with 1 Axes>"
      ]
     },
     "metadata": {
      "needs_background": "light"
     },
     "output_type": "display_data"
    },
    {
     "name": "stdout",
     "output_type": "stream",
     "text": [
      "[ 68. 115. 266. 291.  87.  42.  17.   5.]\n",
      "[ 0.42   10.3675 20.315  30.2625 40.21   50.1575 60.105  70.0525 80.    ]\n"
     ]
    },
    {
     "data": {
      "image/png": "[encoded data removed]",
      "text/plain": [
       "<Figure size 432x288 with 1 Axes>"
      ]
     },
     "metadata": {
      "needs_background": "light"
     },
     "output_type": "display_data"
    }
   ],
   "source": [
    "# 4) 연습문제를 풀어 봅시다.\n",
    "import pandas as pd\n",
    "data = pd.read_csv(\"https://bit.ly/3HaMAtZ\", usecols = ['Age','Fare'])\n",
    "# usecols -> 가져올 컬럼을 지정\n",
    "\n",
    "# Age에 칼럼에 대해 히스토그램을 그려 봅시다.\n",
    "\n",
    "bin = [8, 16, 32, 64]\n",
    "plt.hist(data['Age'], bins=40, edgecolor='black')\n",
    "plt.show()\n",
    "\n",
    "# Age에 칼럼에 대해 히스토그램을 그릴때, \n",
    "# 빈도수와 구간값을 살펴 봅시다.\n",
    "bin = [8, 16, 32, 64]\n",
    "bins = 8\n",
    "result = plt.hist(data['Age'], bins=8, edgecolor='black')\n",
    "\n",
    "print(result[0])  # 빈도수\n",
    "print(result[1])  # 구간값"
   ]
  },
  {
   "cell_type": "code",
   "execution_count": 7,
   "id": "bcf59dd9",
   "metadata": {},
   "outputs": [
    {
     "data": {
      "image/png": "[encoded data removed]",
      "text/plain": [
       "<Figure size 432x288 with 1 Axes>"
      ]
     },
     "metadata": {
      "needs_background": "light"
     },
     "output_type": "display_data"
    }
   ],
   "source": [
    "# 1) 밀도함수 그래프.\n",
    "\n",
    "age = [19,20,23,46,21,25,26,25,28,31,37,24,28,34,38,33,32,29,27,24]\n",
    "age = pd.Series(age)\n",
    "age.plot(kind = 'kde')\n",
    "plt.show()"
   ]
  },
  {
   "cell_type": "code",
   "execution_count": 10,
   "id": "d793d068",
   "metadata": {},
   "outputs": [
    {
     "data": {
      "image/png": "[encoded data removed]",
      "text/plain": [
       "<Figure size 432x288 with 1 Axes>"
      ]
     },
     "metadata": {
      "needs_background": "light"
     },
     "output_type": "display_data"
    }
   ],
   "source": [
    "# 2) 연습문제\n",
    "\n",
    "age = [19,20,23,46,21,25,26,25,28,31,37,24,28,34,38,33,32,29,27,24]\n",
    "\n",
    "# 히스토그램을 그리시오.\n",
    "plt.hist(age, bins=10, edgecolor = 'black')\n",
    "plt.show()"
   ]
  },
  {
   "cell_type": "code",
   "execution_count": 11,
   "id": "7b579201",
   "metadata": {},
   "outputs": [
    {
     "data": {
      "image/png": "[encoded data removed]",
      "text/plain": [
       "<Figure size 432x288 with 1 Axes>"
      ]
     },
     "metadata": {
      "needs_background": "light"
     },
     "output_type": "display_data"
    }
   ],
   "source": [
    "# 밀도함수 그래프를 그리시오.\n",
    "\n",
    "age = [19,20,23,46,21,25,26,25,28,31,37,24,28,34,38,33,32,29,27,24]\n",
    "age = pd.Series(age)\n",
    "age.plot(kind = 'kde')\n",
    "plt.show()"
   ]
  },
  {
   "cell_type": "code",
   "execution_count": 12,
   "id": "41b393fc",
   "metadata": {},
   "outputs": [
    {
     "name": "stdout",
     "output_type": "stream",
     "text": [
      "count    891.000000\n",
      "mean      32.204208\n",
      "std       49.693429\n",
      "min        0.000000\n",
      "25%        7.910400\n",
      "50%       14.454200\n",
      "75%       31.000000\n",
      "max      512.329200\n",
      "Name: Fare, dtype: float64\n"
     ]
    },
    {
     "data": {
      "image/png": "[encoded data removed]",
      "text/plain": [
       "<Figure size 432x288 with 1 Axes>"
      ]
     },
     "metadata": {
      "needs_background": "light"
     },
     "output_type": "display_data"
    },
    {
     "data": {
      "image/png": "[encoded data removed]",
      "text/plain": [
       "<Figure size 432x288 with 1 Axes>"
      ]
     },
     "metadata": {
      "needs_background": "light"
     },
     "output_type": "display_data"
    }
   ],
   "source": [
    "# 추가\n",
    "data.head()\n",
    "\n",
    "# 기초통계량\n",
    "print(data['Fare'].describe())\n",
    "\n",
    "# histogram\n",
    "plt.hist(data['Fare'], bins=50, edgecolor = 'grey')\n",
    "plt.show()\n",
    "\n",
    "# density plot\n",
    "data['Fare'].plot(kind='kde')\n",
    "plt.show()"
   ]
  },
  {
   "cell_type": "markdown",
   "id": "2a0cf8cf",
   "metadata": {},
   "source": [
    "* [4-3] boxplot"
   ]
  },
  {
   "cell_type": "code",
   "execution_count": 13,
   "id": "bdc7fa5b",
   "metadata": {},
   "outputs": [
    {
     "data": {
      "image/png": "[encoded data removed]",
      "text/plain": [
       "<Figure size 432x288 with 1 Axes>"
      ]
     },
     "metadata": {
      "needs_background": "light"
     },
     "output_type": "display_data"
    }
   ],
   "source": [
    "# 1) boxplot 기본\n",
    "\n",
    "age = [19,20,23,46,21,25,26,25,28,31,37,24,28,34,38,33,32,29,27,24]\n",
    "plt.boxplot(age)\n",
    "plt.show()"
   ]
  },
  {
   "cell_type": "code",
   "execution_count": 14,
   "id": "cafb1cfc",
   "metadata": {},
   "outputs": [
    {
     "data": {
      "image/png": "[encoded data removed]",
      "text/plain": [
       "<Figure size 432x288 with 1 Axes>"
      ]
     },
     "metadata": {
      "needs_background": "light"
     },
     "output_type": "display_data"
    }
   ],
   "source": [
    "# 2) 옆으로 그리기\n",
    "\n",
    "age = [19,20,23,46,21,25,26,25,28,31,37,24,28,34,38,33,32,29,27,24]\n",
    "plt.boxplot(age, vert = False)\n",
    "plt.show()"
   ]
  },
  {
   "cell_type": "code",
   "execution_count": 15,
   "id": "3d61940e",
   "metadata": {},
   "outputs": [
    {
     "name": "stdout",
     "output_type": "stream",
     "text": [
      "<class 'dict'>\n",
      "dict_keys(['whiskers', 'caps', 'boxes', 'medians', 'fliers', 'means'])\n",
      "--------------------------------------------------\n",
      "[<matplotlib.lines.Line2D object at 0x000001BFCB892A00>, <matplotlib.lines.Line2D object at 0x000001BFCB892D60>]\n",
      "[24. 19.]\n",
      "[32.25 38.  ]\n"
     ]
    },
    {
     "data": {
      "image/png": "[encoded data removed]",
      "text/plain": [
       "<Figure size 432x288 with 1 Axes>"
      ]
     },
     "metadata": {
      "needs_background": "light"
     },
     "output_type": "display_data"
    }
   ],
   "source": [
    "# 3) 박스플롯의 값들 가져오기\n",
    "\n",
    "age = [19,20,23,46,21,25,26,25,28,31,37,24,28,34,38,33,32,29,27,24]\n",
    "box1 = plt.boxplot(age)\n",
    "\n",
    "print(type(box1))    # type = dictionary\n",
    "print(box1.keys())\n",
    "print('-'* 50)\n",
    "print(box1['whiskers'])\n",
    "print(box1['whiskers'][0].get_ydata()) # 아래쪽 수염의 max, min\n",
    "print(box1['whiskers'][1].get_ydata()) # 위쪽 수염의 min, max"
   ]
  },
  {
   "cell_type": "code",
   "execution_count": 16,
   "id": "5e184c58",
   "metadata": {},
   "outputs": [
    {
     "data": {
      "image/png": "[encoded data removed]",
      "text/plain": [
       "<Figure size 432x288 with 1 Axes>"
      ]
     },
     "metadata": {
      "needs_background": "light"
     },
     "output_type": "display_data"
    }
   ],
   "source": [
    "# 4) 연습문제를 풀어 봅시다.\n",
    "import pandas as pd\n",
    "data = pd.read_csv(\"https://bit.ly/3HaMAtZ\", usecols = ['Age','Fare'])\n",
    "# Age에 칼럼에 대해 \n",
    "# 박스 플롯을 그려 봅시다.\n",
    "plt.boxplot(data['Age'])\n",
    "plt.show()"
   ]
  },
  {
   "cell_type": "code",
   "execution_count": 17,
   "id": "2aaa2875",
   "metadata": {},
   "outputs": [
    {
     "data": {
      "image/png": "[encoded data removed]",
      "text/plain": [
       "<Figure size 432x288 with 1 Axes>"
      ]
     },
     "metadata": {
      "needs_background": "light"
     },
     "output_type": "display_data"
    }
   ],
   "source": [
    "# 박스 플롯을 옆으로 그려 봅시다.\n",
    "plt.boxplot(data['Age'], vert=False)\n",
    "plt.show()"
   ]
  },
  {
   "cell_type": "code",
   "execution_count": 18,
   "id": "a39c284c",
   "metadata": {},
   "outputs": [
    {
     "name": "stdout",
     "output_type": "stream",
     "text": [
      "--------------------------------------------------\n",
      "[<matplotlib.lines.Line2D object at 0x000001BFCB9BC0D0>, <matplotlib.lines.Line2D object at 0x000001BFCB9BC460>]\n",
      "[21.77  0.67]\n",
      "[35.9 57. ]\n"
     ]
    },
    {
     "data": {
      "image/png": "[encoded data removed]",
      "text/plain": [
       "<Figure size 432x288 with 1 Axes>"
      ]
     },
     "metadata": {
      "needs_background": "light"
     },
     "output_type": "display_data"
    }
   ],
   "source": [
    "# 박스 플롯의 아래 수염의 min, max, 윗 수염의 min, max\n",
    "box1 = plt.boxplot(data['Age'])\n",
    "\n",
    "# print(type(box1))    # type = dictionary\n",
    "# print(box1.keys())\n",
    "print('-'* 50)\n",
    "print(box1['whiskers'])\n",
    "\n",
    "# 펜스의 경계값\n",
    "print(box1['whiskers'][0].get_ydata()) # 아래쪽 수염의 max, min\n",
    "print(box1['whiskers'][1].get_ydata()) # 위쪽 수염의 min, max"
   ]
  },
  {
   "cell_type": "markdown",
   "id": "53251966",
   "metadata": {},
   "source": [
    "* [4-4] 바이올린 플롯"
   ]
  },
  {
   "cell_type": "code",
   "execution_count": 19,
   "id": "6970bd10",
   "metadata": {},
   "outputs": [
    {
     "data": {
      "image/png": "[encoded data removed]",
      "text/plain": [
       "<Figure size 432x288 with 1 Axes>"
      ]
     },
     "metadata": {
      "needs_background": "light"
     },
     "output_type": "display_data"
    }
   ],
   "source": [
    "age = [19,20,23,46,21,25,26,25,28,31,37,24,28,34,38,33,32,29,27,24]\n",
    "age_m = np.mean(age)\n",
    "\n",
    "plt.violinplot(age, vert = False, showmeans=True)\n",
    "plt.text( age_m - 1, 0.85 , age_m)\n",
    "plt.show()"
   ]
  },
  {
   "cell_type": "code",
   "execution_count": 20,
   "id": "1f38260e",
   "metadata": {},
   "outputs": [
    {
     "data": {
      "image/png": "[encoded data removed]",
      "text/plain": [
       "<Figure size 432x288 with 4 Axes>"
      ]
     },
     "metadata": {
      "needs_background": "light"
     },
     "output_type": "display_data"
    }
   ],
   "source": [
    "# 2) 4가지 플롯을 한꺼번에 그려 봅시다.\n",
    "\n",
    "age = [19,20,23,46,21,25,26,25,28,31,37,24,28,34,38,33,32,29,27,24]\n",
    "\n",
    "plt.subplot(2,2,1)       # 전체 2행 2열\n",
    "plt.hist(age, bins = 8, edgecolor = 'grey')\n",
    "\n",
    "plt.subplot(2,2,2)\n",
    "plt.boxplot(age, vert = False)\n",
    "\n",
    "plt.subplot(2,2,3)\n",
    "pd.Series(age).plot(kind = 'kde')\n",
    "\n",
    "plt.subplot(2,2,4)\n",
    "plt.violinplot(age, vert = False, showmeans=True)\n",
    "\n",
    "plt.show()"
   ]
  },
  {
   "cell_type": "code",
   "execution_count": 21,
   "id": "b6e053ad",
   "metadata": {},
   "outputs": [],
   "source": [
    "# 3) 연습문제를 풀어 봅시다.\n",
    "\n",
    "import pandas as pd\n",
    "data = pd.read_csv(\"https://bit.ly/3HaMAtZ\", usecols = ['Age','Fare'])"
   ]
  },
  {
   "cell_type": "code",
   "execution_count": 22,
   "id": "b27e3ffb",
   "metadata": {},
   "outputs": [
    {
     "data": {
      "text/plain": [
       "Text(30, 0.95, '29.75476992143658')"
      ]
     },
     "execution_count": 22,
     "metadata": {},
     "output_type": "execute_result"
    },
    {
     "data": {
      "image/png": "[encoded data removed]",
      "text/plain": [
       "<Figure size 432x288 with 4 Axes>"
      ]
     },
     "metadata": {
      "needs_background": "light"
     },
     "output_type": "display_data"
    }
   ],
   "source": [
    "# 4가지 플롯을 한꺼번에 그려 봅시다.\n",
    "plt.subplot(2,2,1)\n",
    "plt.hist(data['Age'], bins=20, edgecolor='grey')\n",
    "\n",
    "plt.subplot(2,2,2)\n",
    "plt.boxplot(data['Age'], vert=False)\n",
    "\n",
    "plt.subplot(2,2,3)\n",
    "pd.Series(data['Age']).plot(kind='kde')\n",
    "\n",
    "plt.subplot(2,2,4)\n",
    "plt.violinplot(data['Age'], vert=False, showmeans=True)\n",
    "plt.text(30, 0.95, data['Age'].mean())"
   ]
  },
  {
   "cell_type": "code",
   "execution_count": 23,
   "id": "7e2f904f",
   "metadata": {},
   "outputs": [
    {
     "data": {
      "image/png": "[encoded data removed]",
      "text/plain": [
       "<Figure size 432x288 with 1 Axes>"
      ]
     },
     "metadata": {
      "needs_background": "light"
     },
     "output_type": "display_data"
    }
   ],
   "source": [
    "# 4) 시계열 데이터 시각화\n",
    "import pandas as pd\n",
    "\n",
    "air = pd.read_csv('https://raw.githubusercontent.com/DA4BAM/dataset/master/air2.csv ')\n",
    "air['Date'] = pd.to_datetime(air['Date']) # 날짜 형식으로 변환\n",
    "\n",
    "plt.plot('Date', 'Ozone', 'g-', data = air, label = 'Ozone')\n",
    "plt.plot('Date', 'Temp', 'r-', data = air, label = 'Temp')\n",
    "\n",
    "plt.xlabel('Date')\n",
    "plt.legend()\n",
    "plt.show()"
   ]
  },
  {
   "cell_type": "code",
   "execution_count": 24,
   "id": "46ad6198",
   "metadata": {},
   "outputs": [
    {
     "data": {
      "image/png": "[encoded data removed]",
      "text/plain": [
       "<Figure size 432x288 with 1 Axes>"
      ]
     },
     "metadata": {
      "needs_background": "light"
     },
     "output_type": "display_data"
    }
   ],
   "source": [
    "air = pd.read_csv('https://raw.githubusercontent.com/DA4BAM/dataset/master/air2.csv ')\n",
    "air['Date'] = pd.to_datetime(air['Date']) # 날짜 형식으로 변환\n",
    "\n",
    "plt.plot('Date', 'Ozone', 'g-', data = air, label = 'Ozone')\n",
    "plt.plot('Date', 'Temp', 'r-', data = air, label = 'Temp')\n",
    "\n",
    "plt.xlabel('Date')\n",
    "plt.legend()\n",
    "plt.savefig('a.png')"
   ]
  },
  {
   "cell_type": "code",
   "execution_count": 26,
   "id": "febd197e",
   "metadata": {},
   "outputs": [
    {
     "data": {
      "image/png": "[encoded data removed]",
      "text/plain": [
       "<Figure size 432x288 with 4 Axes>"
      ]
     },
     "metadata": {
      "needs_background": "light"
     },
     "output_type": "display_data"
    }
   ],
   "source": [
    "import pandas as pd\n",
    "import matplotlib.pyplot as plt\n",
    "\n",
    "titanic = pd.read_csv('https://raw.githubusercontent.com/DA4BAM/dataset/master/titanic.1.csv')\n",
    "\n",
    "plt.subplot(2,2,1)\n",
    "plt.hist(titanic['Age'], bins = 16, edgecolor = 'grey')\n",
    "\n",
    "plt.subplot(2,2,2)\n",
    "plt.boxplot(titanic['Age'], vert = False)\n",
    "\n",
    "plt.subplot(2,2,3)\n",
    "titanic['Age'].plot(kind = 'kde')\n",
    "\n",
    "plt.subplot(2,2,4)\n",
    "plt.violinplot(titanic['Age'], vert = False, showmeans=True)\n",
    "\n",
    "plt.show()"
   ]
  },
  {
   "cell_type": "code",
   "execution_count": 27,
   "id": "051c97e0",
   "metadata": {
    "scrolled": false
   },
   "outputs": [
    {
     "data": {
      "image/png": "[encoded data removed]",
      "text/plain": [
       "<Figure size 576x432 with 2 Axes>"
      ]
     },
     "metadata": {
      "needs_background": "light"
     },
     "output_type": "display_data"
    }
   ],
   "source": [
    "titanic = pd.read_csv('https://raw.githubusercontent.com/DA4BAM/dataset/master/titanic.1.csv')\n",
    "\n",
    "plt.figure(figsize = (8,6))\n",
    "plt.subplot(2,1,1)\n",
    "plt.hist(titanic['Age'], bins = 16, edgecolor = 'grey')\n",
    "\n",
    "plt.subplot(2,1,2)\n",
    "plt.boxplot(titanic['Age'], vert = False)\n",
    "plt.show()"
   ]
  },
  {
   "cell_type": "markdown",
   "id": "5ae15c79",
   "metadata": {},
   "source": [
    "* [5-1] 범주형변수의 기초 통계량"
   ]
  },
  {
   "cell_type": "code",
   "execution_count": 28,
   "id": "273b3056",
   "metadata": {},
   "outputs": [
    {
     "name": "stdout",
     "output_type": "stream",
     "text": [
      "F 5 0.5555555555555556\n",
      "M 4 0.4444444444444444\n"
     ]
    }
   ],
   "source": [
    "# 1) 리스트를 이용한 기초통계량\n",
    "\n",
    "gender = ['F','M','F','F','F','M','F','M','M']\n",
    "\n",
    "f_cnt = gender.count('F')\n",
    "m_cnt = gender.count('M')\n",
    "total_cnt = len(gender)\n",
    "\n",
    "print('F', f_cnt, f_cnt/total_cnt)\n",
    "print('M', m_cnt, m_cnt/total_cnt)"
   ]
  },
  {
   "cell_type": "code",
   "execution_count": 29,
   "id": "33d3e0f3",
   "metadata": {},
   "outputs": [
    {
     "name": "stdout",
     "output_type": "stream",
     "text": [
      "F    5\n",
      "M    4\n",
      "dtype: int64\n",
      "F    0.555556\n",
      "M    0.444444\n",
      "dtype: float64\n"
     ]
    }
   ],
   "source": [
    "# 2) 판다스를 이용한 기초통계량\n",
    "\n",
    "gender = ['F','M','F','F','F','M','F','M','M']\n",
    "gender = pd.Series(gender)\n",
    "\n",
    "print(gender.value_counts())\n",
    "print(gender.value_counts()/len(gender))    # 범주별 비율"
   ]
  },
  {
   "cell_type": "code",
   "execution_count": 30,
   "id": "5913b90f",
   "metadata": {},
   "outputs": [
    {
     "name": "stdout",
     "output_type": "stream",
     "text": [
      "3    491\n",
      "1    216\n",
      "2    184\n",
      "Name: Pclass, dtype: int64\n",
      "3    0.551066\n",
      "1    0.242424\n",
      "2    0.206510\n",
      "Name: Pclass, dtype: float64\n"
     ]
    }
   ],
   "source": [
    "# 3) 데이터프레임으로 부터\n",
    "\n",
    "import pandas as pd\n",
    "\n",
    "titanic = pd.read_csv('https://bit.ly/3FsgwkJ')\n",
    "\n",
    "print(titanic['Pclass'].value_counts())\n",
    "print(titanic['Pclass'].value_counts()/len(titanic['Pclass']))"
   ]
  },
  {
   "cell_type": "code",
   "execution_count": 32,
   "id": "ab0a128f",
   "metadata": {},
   "outputs": [
    {
     "name": "stdout",
     "output_type": "stream",
     "text": [
      "0        male\n",
      "1      female\n",
      "2      female\n",
      "3      female\n",
      "4        male\n",
      "        ...  \n",
      "886      male\n",
      "887    female\n",
      "888    female\n",
      "889      male\n",
      "890      male\n",
      "Name: Sex, Length: 891, dtype: object\n"
     ]
    }
   ],
   "source": [
    "# 4) 연습문제를 풀어 봅시다.\n",
    "\n",
    "# 리스트로 부터 기초통계량 구하기\n",
    "grade = ['A','A','B','A','B','B','B','C','C']\n",
    "\n",
    "\n",
    "# 데이터 프레임으로 부터 기초통계량 구하기\n",
    "import pandas as pd\n",
    "titanic = pd.read_csv('https://bit.ly/3FsgwkJ')\n",
    "\n",
    "# 성별에 대한 기초 통계량을 구해 봅시다.\n",
    "print(titanic['Sex'])"
   ]
  },
  {
   "cell_type": "markdown",
   "id": "c0559791",
   "metadata": {},
   "source": [
    "* [5-2] 범주형변수의 시각화 -bar chart"
   ]
  },
  {
   "cell_type": "code",
   "execution_count": 33,
   "id": "b729f32a",
   "metadata": {},
   "outputs": [
    {
     "data": {
      "image/png": "[encoded data removed]",
      "text/plain": [
       "<Figure size 432x288 with 1 Axes>"
      ]
     },
     "metadata": {
      "needs_background": "light"
     },
     "output_type": "display_data"
    }
   ],
   "source": [
    "# 1) 기본 bar chart\n",
    "\n",
    "gender = ['F','M']\n",
    "cnt = [6, 5]\n",
    "\n",
    "plt.bar(gender, cnt)\n",
    "plt.show()"
   ]
  },
  {
   "cell_type": "code",
   "execution_count": 34,
   "id": "5ac5044e",
   "metadata": {},
   "outputs": [
    {
     "data": {
      "image/png": "[encoded data removed]",
      "text/plain": [
       "<Figure size 432x288 with 1 Axes>"
      ]
     },
     "metadata": {
      "needs_background": "light"
     },
     "output_type": "display_data"
    }
   ],
   "source": [
    "# 2) bar chart 옆으로 그리기\n",
    "\n",
    "gender = ['F','M']\n",
    "cnt = [6, 5]\n",
    "\n",
    "plt.barh(gender, cnt)\n",
    "plt.show()"
   ]
  },
  {
   "cell_type": "code",
   "execution_count": 35,
   "id": "e5c029e8",
   "metadata": {},
   "outputs": [
    {
     "name": "stdout",
     "output_type": "stream",
     "text": [
      "[5 4]\n",
      "Index(['F', 'M'], dtype='object')\n"
     ]
    },
    {
     "data": {
      "image/png": "[encoded data removed]",
      "text/plain": [
       "<Figure size 432x288 with 1 Axes>"
      ]
     },
     "metadata": {
      "needs_background": "light"
     },
     "output_type": "display_data"
    }
   ],
   "source": [
    "# 3) 판다스 이용하기\n",
    "import pandas as pd\n",
    "\n",
    "gender = ['F','M','F','F','F','M','F','M','M']\n",
    "gender = pd.Series(gender)\n",
    "\n",
    "cnt = gender.value_counts()\n",
    "print(cnt.values)\n",
    "print(cnt.index)\n",
    "\n",
    "plt.barh(cnt.index, cnt.values)\n",
    "plt.show()"
   ]
  },
  {
   "cell_type": "code",
   "execution_count": 37,
   "id": "b62fc5f1",
   "metadata": {},
   "outputs": [
    {
     "data": {
      "text/plain": [
       "<BarContainer object of 2 artists>"
      ]
     },
     "execution_count": 37,
     "metadata": {},
     "output_type": "execute_result"
    },
    {
     "data": {
      "image/png": "[encoded data removed]",
      "text/plain": [
       "<Figure size 432x288 with 1 Axes>"
      ]
     },
     "metadata": {
      "needs_background": "light"
     },
     "output_type": "display_data"
    }
   ],
   "source": [
    "# 4) 꾸미기 - 색깔, 간격\n",
    "gender = ['F','M']\n",
    "cnt = [6, 5]\n",
    "\n",
    "plt.bar(gender, cnt, color = ['g','r'], width = 0.6)"
   ]
  },
  {
   "cell_type": "code",
   "execution_count": 38,
   "id": "18eec03f",
   "metadata": {},
   "outputs": [
    {
     "name": "stdout",
     "output_type": "stream",
     "text": [
      "3    491\n",
      "1    216\n",
      "2    184\n",
      "Name: Pclass, dtype: int64\n"
     ]
    },
    {
     "data": {
      "image/png": "[encoded data removed]",
      "text/plain": [
       "<Figure size 432x288 with 1 Axes>"
      ]
     },
     "metadata": {
      "needs_background": "light"
     },
     "output_type": "display_data"
    }
   ],
   "source": [
    "# 5) 연습하기.\n",
    "import pandas as pd\n",
    "titanic = pd.read_csv('https://bit.ly/3FsgwkJ')\n",
    "\n",
    "# titanic의 Pclass에 대한 bar chart를 그리시오.\n",
    "# 색깔 : g, r, b \n",
    "cnt = titanic['Pclass'].value_counts()\n",
    "print(titanic['Pclass'].value_counts())\n",
    "plt.bar(cnt.index, cnt.values, color=['blue', 'green', 'red'], width=.5)\n",
    "plt.show()"
   ]
  },
  {
   "cell_type": "markdown",
   "id": "b8895d7b",
   "metadata": {},
   "source": [
    "* [5-3]범주형변수의 시각화 - pie chart"
   ]
  },
  {
   "cell_type": "code",
   "execution_count": 39,
   "id": "160c97a6",
   "metadata": {},
   "outputs": [
    {
     "data": {
      "image/png": "[encoded data removed]",
      "text/plain": [
       "<Figure size 432x288 with 1 Axes>"
      ]
     },
     "metadata": {},
     "output_type": "display_data"
    }
   ],
   "source": [
    "# 1) pie chart 기본\n",
    "\n",
    "gender = ['F','M','F','F','F','M','F','M','M']\n",
    "gender = pd.Series(gender)\n",
    "\n",
    "cnt = gender.value_counts()\n",
    "\n",
    "plt.pie(cnt.values, labels = cnt.index, autopct = '%.2f%%')\n",
    "plt.show()"
   ]
  },
  {
   "cell_type": "code",
   "execution_count": 40,
   "id": "fb4c6f1a",
   "metadata": {},
   "outputs": [
    {
     "data": {
      "image/png": "[encoded data removed]",
      "text/plain": [
       "<Figure size 432x288 with 1 Axes>"
      ]
     },
     "metadata": {},
     "output_type": "display_data"
    }
   ],
   "source": [
    "# 2) pie chart 꾸미기 1\n",
    "\n",
    "gender = ['F','M','F','F','F','M','F','M','M']\n",
    "gender = pd.Series(gender)\n",
    "\n",
    "cnt = gender.value_counts()\n",
    "\n",
    "plt.pie(cnt.values, labels = cnt.index, autopct = '%.2f%%', \n",
    "        startangle=90, counterclock=False)\n",
    "plt.show()"
   ]
  },
  {
   "cell_type": "code",
   "execution_count": 41,
   "id": "fbb6bdc7",
   "metadata": {},
   "outputs": [
    {
     "data": {
      "image/png": "[encoded data removed]",
      "text/plain": [
       "<Figure size 432x288 with 1 Axes>"
      ]
     },
     "metadata": {},
     "output_type": "display_data"
    }
   ],
   "source": [
    "# 3) pie chart 꾸미기 2\n",
    "\n",
    "gender = ['F','M','F','F','F','M','F','M','M']\n",
    "gender = pd.Series(gender)\n",
    "\n",
    "cnt = gender.value_counts()\n",
    "\n",
    "plt.pie(cnt.values, labels = cnt.index, autopct = '%.2f%%', \n",
    "        startangle=90, counterclock=False, \n",
    "        explode = [0.05, 0.05], shadow=True)\n",
    "plt.show()"
   ]
  },
  {
   "cell_type": "code",
   "execution_count": 42,
   "id": "f5fec946",
   "metadata": {},
   "outputs": [
    {
     "data": {
      "image/png": "[encoded data removed]",
      "text/plain": [
       "<Figure size 432x288 with 1 Axes>"
      ]
     },
     "metadata": {},
     "output_type": "display_data"
    }
   ],
   "source": [
    "# 4) 연습하기\n",
    "\n",
    "titanic = pd.read_csv('https://bit.ly/3FsgwkJ')\n",
    "\n",
    "# titanic의 Pclass에 대한 pie chart를 그리시오.\n",
    "# 소수점 1자리까지 비율(%)를 표시하시오.\n",
    "\n",
    "cnt = titanic['Pclass'].value_counts()\n",
    "\n",
    "plt.pie(cnt.values, labels = cnt.index, autopct = '%.1f%%', \n",
    "       startangle=90, counterclock=False)\n",
    "\n",
    "plt.show()"
   ]
  },
  {
   "cell_type": "code",
   "execution_count": 43,
   "id": "d453fde9",
   "metadata": {},
   "outputs": [
    {
     "data": {
      "image/png": "[encoded data removed]",
      "text/plain": [
       "<Figure size 720x360 with 2 Axes>"
      ]
     },
     "metadata": {
      "needs_background": "light"
     },
     "output_type": "display_data"
    }
   ],
   "source": [
    "import matplotlib.pyplot as plt\n",
    "import pandas as pd\n",
    "\n",
    "titanic = pd.read_csv('https://raw.githubusercontent.com/DA4BAM/dataset/master/titanic.1.csv')\n",
    "\n",
    "cnt = titanic['Pclass'].value_counts()\n",
    "plt.figure(figsize=(10,5))   # default : (6.4, 4.4)\n",
    "plt.subplot(1,2,1)\n",
    "plt.bar(cnt.index, cnt.values)\n",
    "\n",
    "plt.subplot(1,2,2)\n",
    "plt.pie(cnt.values, labels = cnt.index, autopct = '%.2f%%')\n",
    "# plt.savefig('a.png')\n",
    "plt.show()"
   ]
  },
  {
   "cell_type": "markdown",
   "id": "992223fe",
   "metadata": {},
   "source": [
    "# chapter 5. 개별 변수 분석하기 범주형 변수"
   ]
  },
  {
   "cell_type": "markdown",
   "id": "e455a37c",
   "metadata": {},
   "source": [
    "## 1) 범주형 변수의 기초 통계량"
   ]
  },
  {
   "cell_type": "code",
   "execution_count": 44,
   "id": "3cc0a089",
   "metadata": {},
   "outputs": [],
   "source": [
    "import numpy as np\n",
    "import pandas as pd\n",
    "import matplotlib.pyplot as plt"
   ]
  },
  {
   "cell_type": "markdown",
   "id": "6e4ced7d",
   "metadata": {},
   "source": [
    "① 성별 데이터가 아래와 같을 때, count를 이용하여 범주별 빈도수와 비율을 확인하시오.\n",
    "* gender = ['F','M','F','F','F','M','F','M','M']\n",
    "* 비율 = 범주별 빈도 / 전체 개수"
   ]
  },
  {
   "cell_type": "code",
   "execution_count": 46,
   "id": "8334a211",
   "metadata": {},
   "outputs": [],
   "source": [
    "gender = ['F','M','F','F','F','M','F','M','M']"
   ]
  },
  {
   "cell_type": "markdown",
   "id": "bccc7ad1",
   "metadata": {},
   "source": [
    "② 이번에는 pandas의 .value_counts()를 이용하여 범주별 빈도수와 비율을 구해 봅시다.\n",
    "* gender = ['F','M','F','F','F','M','F','M','M']"
   ]
  },
  {
   "cell_type": "code",
   "execution_count": 47,
   "id": "6cee381b",
   "metadata": {},
   "outputs": [
    {
     "name": "stdout",
     "output_type": "stream",
     "text": [
      "F    5\n",
      "M    4\n",
      "dtype: int64\n",
      "F    0.555556\n",
      "M    0.444444\n",
      "dtype: float64\n"
     ]
    }
   ],
   "source": [
    "gender = ['F','M','F','F','F','M','F','M','M']\n",
    "gender = pd.Series(gender)\n",
    "print(gender.value_counts())\n",
    "print(gender.value_counts() / len(gender))"
   ]
  },
  {
   "cell_type": "markdown",
   "id": "36690bc5",
   "metadata": {},
   "source": [
    "③ 고객 선호 색상 데이터가 아래와 같을 때, 범주별 빈도수와 비율을 구해 봅시다.\n",
    "* color = ['red','red', 'blue', 'green', 'green', 'red', 'blue', 'blue', 'red', 'green', 'red', 'blue']"
   ]
  },
  {
   "cell_type": "code",
   "execution_count": 48,
   "id": "93025360",
   "metadata": {},
   "outputs": [
    {
     "name": "stdout",
     "output_type": "stream",
     "text": [
      "red      5\n",
      "blue     4\n",
      "green    3\n",
      "dtype: int64\n",
      "red      0.416667\n",
      "blue     0.333333\n",
      "green    0.250000\n",
      "dtype: float64\n"
     ]
    }
   ],
   "source": [
    "color = ['red','red', 'blue', 'green', 'green', 'red', 'blue', 'blue', 'red', 'green', 'red', 'blue']\n",
    "color = pd.Series(color)\n",
    "print(color.value_counts())\n",
    "print(color.value_counts() / len(color))"
   ]
  },
  {
   "cell_type": "markdown",
   "id": "c7fefea5",
   "metadata": {},
   "source": [
    "## 2) 데이터 프레임으로부터 범주형 변수 기초통계량"
   ]
  },
  {
   "cell_type": "markdown",
   "id": "f00cf0e1",
   "metadata": {},
   "source": [
    "### ① Titanic\n",
    "\n",
    "* 데이터셋 : titanic3\n",
    "* 설명 : NaN 조치된 Titanic\n",
    "* url : https://bit.ly/3HaMAtZ"
   ]
  },
  {
   "cell_type": "markdown",
   "id": "0d947082",
   "metadata": {},
   "source": [
    "(1) 데이터를 불러와 봅시다."
   ]
  },
  {
   "cell_type": "code",
   "execution_count": 49,
   "id": "b21dba3b",
   "metadata": {},
   "outputs": [
    {
     "name": "stdout",
     "output_type": "stream",
     "text": [
      "   Survived  Pclass     Sex   Age  SibSp  Parch     Fare Embarked  AgeGroup  \\\n",
      "0         0       3    male  22.0      1      0   7.2500        S  Age21_30   \n",
      "1         1       1  female  38.0      1      0  71.2833        C  Age31_40   \n",
      "2         1       3  female  26.0      0      0   7.9250        S  Age21_30   \n",
      "3         1       1  female  35.0      1      0  53.1000        S  Age31_40   \n",
      "4         0       3    male  35.0      0      0   8.0500        S  Age31_40   \n",
      "\n",
      "   Family  Age_scale1  \n",
      "0       2    0.271174  \n",
      "1       2    0.472229  \n",
      "2       1    0.321438  \n",
      "3       2    0.434531  \n",
      "4       1    0.434531  \n"
     ]
    }
   ],
   "source": [
    "path = 'https://bit.ly/3HaMAtZ'\n",
    "tit = pd.read_csv(path)\n",
    "print(tit.head())"
   ]
  },
  {
   "cell_type": "markdown",
   "id": "8f01de11",
   "metadata": {},
   "source": [
    "(2) 티켓 클래스(Pclass)의 범주별 빈도수와 범주별 비율을 구하시오."
   ]
  },
  {
   "cell_type": "code",
   "execution_count": 50,
   "id": "f20fded4",
   "metadata": {},
   "outputs": [
    {
     "name": "stdout",
     "output_type": "stream",
     "text": [
      "3    491\n",
      "1    216\n",
      "2    184\n",
      "Name: Pclass, dtype: int64\n",
      "3    0.551066\n",
      "1    0.242424\n",
      "2    0.206510\n",
      "Name: Pclass, dtype: float64\n"
     ]
    }
   ],
   "source": [
    "print(tit['Pclass'].value_counts())\n",
    "print(tit['Pclass'].value_counts() / len(tit['Pclass']))"
   ]
  },
  {
   "cell_type": "markdown",
   "id": "9a416ea7",
   "metadata": {},
   "source": [
    "### ② Diamond\n",
    "\n",
    "* 데이터셋 : diamond\n",
    "* 설명 : 다이아몬드 가격\n",
    "* url : https://bit.ly/3eHdRrH"
   ]
  },
  {
   "cell_type": "markdown",
   "id": "cfdd4830",
   "metadata": {},
   "source": [
    "(1) 데이터를 불러와 봅시다."
   ]
  },
  {
   "cell_type": "code",
   "execution_count": 52,
   "id": "3905baf2",
   "metadata": {},
   "outputs": [
    {
     "name": "stdout",
     "output_type": "stream",
     "text": [
      "   carat      cut color clarity  depth  table  price     x     y     z\n",
      "0   0.23    Ideal     E     SI2   61.5   55.0    326  3.95  3.98  2.43\n",
      "1   0.21  Premium     E     SI1   59.8   61.0    326  3.89  3.84  2.31\n",
      "2   0.23     Good     E     VS1   56.9   65.0    327  4.05  4.07  2.31\n",
      "3   0.29  Premium     I     VS2   62.4   58.0    334  4.20  4.23  2.63\n",
      "4   0.31     Good     J     SI2   63.3   58.0    335  4.34  4.35  2.75\n"
     ]
    }
   ],
   "source": [
    "path = 'https://bit.ly/3eHdRrH'\n",
    "dia = pd.read_csv(path)\n",
    "print(dia.head())"
   ]
  },
  {
   "cell_type": "markdown",
   "id": "a056617f",
   "metadata": {},
   "source": [
    "(2) color의 범주별 빈도수와 범주별 비율을 구하시오."
   ]
  },
  {
   "cell_type": "code",
   "execution_count": 53,
   "id": "6d4a278c",
   "metadata": {},
   "outputs": [
    {
     "name": "stdout",
     "output_type": "stream",
     "text": [
      "G    11292\n",
      "E     9797\n",
      "F     9542\n",
      "H     8304\n",
      "D     6775\n",
      "I     5422\n",
      "J     2808\n",
      "Name: color, dtype: int64\n",
      "G    0.209344\n",
      "E    0.181628\n",
      "F    0.176900\n",
      "H    0.153949\n",
      "D    0.125603\n",
      "I    0.100519\n",
      "J    0.052058\n",
      "Name: color, dtype: float64\n"
     ]
    }
   ],
   "source": [
    "print(dia['color'].value_counts())\n",
    "print(dia['color'].value_counts() / len(dia['color']))"
   ]
  },
  {
   "cell_type": "markdown",
   "id": "6ce289f5",
   "metadata": {},
   "source": [
    "(3) 가공품질(cut)의 범주별 빈도수와 범주별 비율을 구하시오."
   ]
  },
  {
   "cell_type": "code",
   "execution_count": 54,
   "id": "09ed1330",
   "metadata": {},
   "outputs": [
    {
     "name": "stdout",
     "output_type": "stream",
     "text": [
      "Ideal        21551\n",
      "Premium      13791\n",
      "Very Good    12082\n",
      "Good          4906\n",
      "Fair          1610\n",
      "Name: cut, dtype: int64\n",
      "Ideal        0.399537\n",
      "Premium      0.255673\n",
      "Very Good    0.223990\n",
      "Good         0.090953\n",
      "Fair         0.029848\n",
      "Name: cut, dtype: float64\n"
     ]
    }
   ],
   "source": [
    "print(dia['cut'].value_counts())\n",
    "print(dia['cut'].value_counts() / len(dia['cut']))"
   ]
  },
  {
   "cell_type": "markdown",
   "id": "cbb9221c",
   "metadata": {},
   "source": [
    "## 3) 범주형 변수의 시각화 - bar chart"
   ]
  },
  {
   "cell_type": "markdown",
   "id": "f0e9ee91",
   "metadata": {},
   "source": [
    "① 다음의 조건에 맞게 bar chart를 그려 봅시다.\n",
    "* 범주 이름: gender = ['F', 'M']\n",
    "* 값: cnt = [6, 5]"
   ]
  },
  {
   "cell_type": "code",
   "execution_count": 55,
   "id": "4c371c33",
   "metadata": {},
   "outputs": [
    {
     "data": {
      "image/png": "[encoded data removed]",
      "text/plain": [
       "<Figure size 432x288 with 1 Axes>"
      ]
     },
     "metadata": {
      "needs_background": "light"
     },
     "output_type": "display_data"
    }
   ],
   "source": [
    "gender = ['F', 'M']\n",
    "cnt = [6, 5]\n",
    "plt.bar(gender, cnt)\n",
    "plt.show()"
   ]
  },
  {
   "cell_type": "markdown",
   "id": "3a1ed3c8",
   "metadata": {},
   "source": [
    "② 다음의 조건에 맞게 bar chart를 그려 봅시다.\n",
    "* 범주 이름: gender = ['F', 'M']\n",
    "* 값: cnt = [6, 5]\n",
    "* 수평 막대 그래프"
   ]
  },
  {
   "cell_type": "code",
   "execution_count": 56,
   "id": "456b4e95",
   "metadata": {},
   "outputs": [
    {
     "data": {
      "text/plain": [
       "<BarContainer object of 2 artists>"
      ]
     },
     "execution_count": 56,
     "metadata": {},
     "output_type": "execute_result"
    },
    {
     "data": {
      "image/png": "[encoded data removed]",
      "text/plain": [
       "<Figure size 432x288 with 1 Axes>"
      ]
     },
     "metadata": {
      "needs_background": "light"
     },
     "output_type": "display_data"
    }
   ],
   "source": [
    "gender = ['F', 'M']\n",
    "cnt = [6, 5]\n",
    "plt.barh(gender, cnt)"
   ]
  },
  {
   "cell_type": "markdown",
   "id": "3a25faa6",
   "metadata": {},
   "source": [
    "③ 성별 데이터가 아래와 같을 때, value_counts()를 사용하여 빈도수를 집계하고 주어진 결과에 맞게 bar chart를 그리시오.\n",
    "* gender = ['F','M','F','F','F','M','F','M','M']"
   ]
  },
  {
   "cell_type": "code",
   "execution_count": 57,
   "id": "08be8184",
   "metadata": {},
   "outputs": [
    {
     "data": {
      "image/png": "[encoded data removed]",
      "text/plain": [
       "<Figure size 432x288 with 1 Axes>"
      ]
     },
     "metadata": {
      "needs_background": "light"
     },
     "output_type": "display_data"
    }
   ],
   "source": [
    "gender = ['F','M','F','F','F','M','F','M','M']\n",
    "gender = pd.Series(gender)\n",
    "cnt = gender.value_counts()\n",
    "\n",
    "plt.barh(cnt.index, cnt.values)\n",
    "plt.show()"
   ]
  },
  {
   "cell_type": "markdown",
   "id": "eab5ecc9",
   "metadata": {},
   "source": [
    "④ ①에서 만든 그래프를 주어진 결과에 맞게 수정해 봅시다.\n",
    "* width: 0.3"
   ]
  },
  {
   "cell_type": "code",
   "execution_count": 58,
   "id": "16fd9ccf",
   "metadata": {},
   "outputs": [
    {
     "data": {
      "image/png": "[encoded data removed]",
      "text/plain": [
       "<Figure size 432x288 with 1 Axes>"
      ]
     },
     "metadata": {
      "needs_background": "light"
     },
     "output_type": "display_data"
    }
   ],
   "source": [
    "gender = ['F', 'M']\n",
    "cnt = [6, 5]\n",
    "plt.bar(gender, cnt, color = ['g', 'r'], width=.3)\n",
    "plt.show()"
   ]
  },
  {
   "cell_type": "markdown",
   "id": "b679609d",
   "metadata": {},
   "source": [
    "## 4) 범주형 변수의 시각화 - pie chart"
   ]
  },
  {
   "cell_type": "markdown",
   "id": "46739605",
   "metadata": {},
   "source": [
    "① 성별 데이터가 아래와 같을 때, value_counts()를 사용하여 빈도수를 집계하고 주어진 결과에 맞게 pie chart를 그리시오.\n",
    "* gender = ['F','M','F','F','F','M','F','M','M']"
   ]
  },
  {
   "cell_type": "code",
   "execution_count": 59,
   "id": "80208560",
   "metadata": {},
   "outputs": [
    {
     "data": {
      "image/png": "[encoded data removed]",
      "text/plain": [
       "<Figure size 432x288 with 1 Axes>"
      ]
     },
     "metadata": {},
     "output_type": "display_data"
    }
   ],
   "source": [
    "gender = ['F','M','F','F','F','M','F','M','M']\n",
    "gender = pd.Series(gender)\n",
    "\n",
    "cnt = gender.value_counts()\n",
    "\n",
    "plt.pie(cnt.values, labels=cnt.index, autopct='%.2f%%')\n",
    "plt.show()"
   ]
  },
  {
   "cell_type": "markdown",
   "id": "b86ed02a",
   "metadata": {},
   "source": [
    "② ①에서 만들었던 그래프를 주어진 결과에 맞게 수정해 봅시다.\n",
    "* 90도부터 시작\n",
    "* 시계 방향으로\n",
    "* 중심으로부터 F, M을 각각 0.05만큼 띄움\n",
    "* 그림자 추가"
   ]
  },
  {
   "cell_type": "code",
   "execution_count": 60,
   "id": "712b2a71",
   "metadata": {},
   "outputs": [
    {
     "data": {
      "image/png": "[encoded data removed]",
      "text/plain": [
       "<Figure size 432x288 with 1 Axes>"
      ]
     },
     "metadata": {},
     "output_type": "display_data"
    }
   ],
   "source": [
    "gender = ['F','M','F','F','F','M','F','M','M']\n",
    "gender = pd.Series(gender)\n",
    "\n",
    "cnt = gender.value_counts()\n",
    "\n",
    "plt.pie(cnt.values, labels=cnt.index, autopct='%.2f%%', \n",
    "       startangle=90, counterclock=False, explode=[0.05, 0.05], shadow=True)\n",
    "plt.show()"
   ]
  },
  {
   "cell_type": "markdown",
   "id": "6b080f44",
   "metadata": {},
   "source": [
    "## 5) 데이터 프레임으로부터 범주형 변수의 시각화"
   ]
  },
  {
   "cell_type": "markdown",
   "id": "73fc9168",
   "metadata": {},
   "source": [
    "### ① Titanic\n",
    "\n",
    "* 데이터셋 : titanic3\n",
    "* 설명 : NaN 조치된 Titanic\n",
    "* url : https://bit.ly/3HaMAtZ"
   ]
  },
  {
   "cell_type": "markdown",
   "id": "30d2834c",
   "metadata": {},
   "source": [
    "(1) 티켓 클래스(Pclass)의 범주별 빈도수를 구하고 bar chart와 pie chart를 주어진 결과에 맞게 그리시오."
   ]
  },
  {
   "cell_type": "code",
   "execution_count": 61,
   "id": "c959da50",
   "metadata": {},
   "outputs": [
    {
     "data": {
      "image/png": "[encoded data removed]",
      "text/plain": [
       "<Figure size 864x432 with 2 Axes>"
      ]
     },
     "metadata": {
      "needs_background": "light"
     },
     "output_type": "display_data"
    }
   ],
   "source": [
    "path = 'https://bit.ly/3HaMAtZ'\n",
    "tit3 = pd.read_csv(path)\n",
    "cnt = tit3['Pclass'].value_counts()\n",
    "\n",
    "plt.figure(figsize=(12, 6))\n",
    "plt.subplot(1,2,1)\n",
    "plt.bar(cnt.index, cnt.values)\n",
    "# plt.text(cnt.index[0]. cnt.values[0], cnt.values[0])\n",
    "\n",
    "plt.subplot(1,2,2)\n",
    "plt.pie(cnt.values, labels=cnt.index, autopct='%.2f%%')\n",
    "\n",
    "plt.show()"
   ]
  },
  {
   "cell_type": "markdown",
   "id": "a1b38823",
   "metadata": {},
   "source": [
    "### ② Diamond\n",
    "\n",
    "* 데이터셋 : diamond\n",
    "* 설명 : 다이아몬드 가격\n",
    "* url : https://bit.ly/3eHdRrH"
   ]
  },
  {
   "cell_type": "markdown",
   "id": "ed70dfbd",
   "metadata": {},
   "source": [
    "(1) 가공품질(cut)의 범주별 빈도수를 구하고 bar chart와 pie chart를 주어진 결과에 맞게 그리시오."
   ]
  },
  {
   "cell_type": "code",
   "execution_count": 63,
   "id": "5274b377",
   "metadata": {},
   "outputs": [
    {
     "name": "stdout",
     "output_type": "stream",
     "text": [
      "Ideal        21551\n",
      "Premium      13791\n",
      "Very Good    12082\n",
      "Good          4906\n",
      "Fair          1610\n",
      "Name: cut, dtype: int64\n",
      "Ideal        0.399537\n",
      "Premium      0.255673\n",
      "Very Good    0.223990\n",
      "Good         0.090953\n",
      "Fair         0.029848\n",
      "Name: cut, dtype: float64\n"
     ]
    },
    {
     "data": {
      "image/png": "[encoded data removed]",
      "text/plain": [
       "<Figure size 432x288 with 2 Axes>"
      ]
     },
     "metadata": {
      "needs_background": "light"
     },
     "output_type": "display_data"
    }
   ],
   "source": [
    "path = 'https://bit.ly/3eHdRrH'\n",
    "diam = pd.read_csv(path)\n",
    "\n",
    "print(diam['cut'].value_counts())\n",
    "print(diam['cut'].value_counts() / len(diam['cut']))\n",
    "cnt = diam['cut'].value_counts()\n",
    "\n",
    "plt.subplot(1,2,1)\n",
    "plt.bar(cnt.index, cnt.values)\n",
    "\n",
    "plt.subplot(1,2,2)\n",
    "plt.pie(cnt.values, labels=cnt.index, autopct='%.2f%%')\n",
    "plt.show()"
   ]
  },
  {
   "cell_type": "markdown",
   "id": "133462aa",
   "metadata": {},
   "source": [
    "# 6과 [실습] 단변량분석 종합실습"
   ]
  },
  {
   "cell_type": "markdown",
   "id": "686ec712",
   "metadata": {},
   "source": [
    "## 0.환경준비"
   ]
  },
  {
   "cell_type": "code",
   "execution_count": 64,
   "id": "d846ff99",
   "metadata": {},
   "outputs": [],
   "source": [
    "import pandas as pd\n",
    "import numpy as np\n",
    "\n",
    "import matplotlib.pyplot as plt\n",
    "import seaborn as sns"
   ]
  },
  {
   "cell_type": "markdown",
   "id": "bfc598b7",
   "metadata": {},
   "source": [
    "# 숫자형 변수"
   ]
  },
  {
   "cell_type": "markdown",
   "id": "c67a31ef",
   "metadata": {},
   "source": [
    "## 보스톤 집값 데이터"
   ]
  },
  {
   "cell_type": "markdown",
   "id": "62808647",
   "metadata": {},
   "source": [
    "|\t변수\t|\t설명\t|\n",
    "|\t----\t|\t----\t|\n",
    "|\tmedv\t|\t타운별 집값(중위수)\t|\n",
    "|\tcrim\t|\t범죄율\t|\n",
    "|\tzn2\t|\t25,000 평방피트를 초과 거주지역 비율 (범주: 0-하, 1-중, 2-상)\t|\n",
    "|\tindus\t|\t비소매상업지역 면적 비율\t|\n",
    "|\tchas\t|\t찰스강변 위치(범주 : 강변1, 아니면 0)\t|\n",
    "|\tnox\t|\t일산화질소 농도\t|\n",
    "|\trm\t|\t주택당 방 수\t|\n",
    "|\tage\t|\t1940년 이전에 건축된 주택의 비율\t|\n",
    "|\tdis\t|\t직업센터의 거리\t|\n",
    "|\trad\t|\t방사형 고속도로까지의 거리\t|\n",
    "|\ttax\t|\t재산세율\t|\n",
    "|\tptratio\t|\t학생/교사 비율\t|\n",
    "|\tblack\t|\t인구 중 흑인 비율\t|\n",
    "|\tlstat\t|\t인구 중 하위 계층 비율\t|\n"
   ]
  },
  {
   "cell_type": "code",
   "execution_count": 66,
   "id": "8b267034",
   "metadata": {},
   "outputs": [
    {
     "data": {
      "text/html": [
       "<div>\n",
       "<style scoped>\n",
       "    .dataframe tbody tr th:only-of-type {\n",
       "        vertical-align: middle;\n",
       "    }\n",
       "\n",
       "    .dataframe tbody tr th {\n",
       "        vertical-align: top;\n",
       "    }\n",
       "\n",
       "    .dataframe thead th {\n",
       "        text-align: right;\n",
       "    }\n",
       "</style>\n",
       "<table border=\"1\" class=\"dataframe\">\n",
       "  <thead>\n",
       "    <tr style=\"text-align: right;\">\n",
       "      <th></th>\n",
       "      <th>crim</th>\n",
       "      <th>indus</th>\n",
       "      <th>chas</th>\n",
       "      <th>nox</th>\n",
       "      <th>rm</th>\n",
       "      <th>age</th>\n",
       "      <th>dis</th>\n",
       "      <th>rad</th>\n",
       "      <th>tax</th>\n",
       "      <th>ptratio</th>\n",
       "      <th>black</th>\n",
       "      <th>lstat</th>\n",
       "      <th>medv</th>\n",
       "      <th>zn2</th>\n",
       "    </tr>\n",
       "  </thead>\n",
       "  <tbody>\n",
       "    <tr>\n",
       "      <th>0</th>\n",
       "      <td>0.00632</td>\n",
       "      <td>2.31</td>\n",
       "      <td>0</td>\n",
       "      <td>0.538</td>\n",
       "      <td>6.575</td>\n",
       "      <td>65.2</td>\n",
       "      <td>4.0900</td>\n",
       "      <td>1</td>\n",
       "      <td>296</td>\n",
       "      <td>15.3</td>\n",
       "      <td>396.90</td>\n",
       "      <td>4.98</td>\n",
       "      <td>24.0</td>\n",
       "      <td>1</td>\n",
       "    </tr>\n",
       "    <tr>\n",
       "      <th>1</th>\n",
       "      <td>0.02731</td>\n",
       "      <td>7.07</td>\n",
       "      <td>0</td>\n",
       "      <td>0.469</td>\n",
       "      <td>6.421</td>\n",
       "      <td>78.9</td>\n",
       "      <td>4.9671</td>\n",
       "      <td>2</td>\n",
       "      <td>242</td>\n",
       "      <td>17.8</td>\n",
       "      <td>396.90</td>\n",
       "      <td>9.14</td>\n",
       "      <td>21.6</td>\n",
       "      <td>0</td>\n",
       "    </tr>\n",
       "    <tr>\n",
       "      <th>2</th>\n",
       "      <td>0.02729</td>\n",
       "      <td>7.07</td>\n",
       "      <td>0</td>\n",
       "      <td>0.469</td>\n",
       "      <td>7.185</td>\n",
       "      <td>61.1</td>\n",
       "      <td>4.9671</td>\n",
       "      <td>2</td>\n",
       "      <td>242</td>\n",
       "      <td>17.8</td>\n",
       "      <td>392.83</td>\n",
       "      <td>4.03</td>\n",
       "      <td>34.7</td>\n",
       "      <td>0</td>\n",
       "    </tr>\n",
       "    <tr>\n",
       "      <th>3</th>\n",
       "      <td>0.03237</td>\n",
       "      <td>2.18</td>\n",
       "      <td>0</td>\n",
       "      <td>0.458</td>\n",
       "      <td>6.998</td>\n",
       "      <td>45.8</td>\n",
       "      <td>6.0622</td>\n",
       "      <td>3</td>\n",
       "      <td>222</td>\n",
       "      <td>18.7</td>\n",
       "      <td>394.63</td>\n",
       "      <td>2.94</td>\n",
       "      <td>33.4</td>\n",
       "      <td>0</td>\n",
       "    </tr>\n",
       "    <tr>\n",
       "      <th>4</th>\n",
       "      <td>0.06905</td>\n",
       "      <td>2.18</td>\n",
       "      <td>0</td>\n",
       "      <td>0.458</td>\n",
       "      <td>7.147</td>\n",
       "      <td>54.2</td>\n",
       "      <td>6.0622</td>\n",
       "      <td>3</td>\n",
       "      <td>222</td>\n",
       "      <td>18.7</td>\n",
       "      <td>396.90</td>\n",
       "      <td>5.33</td>\n",
       "      <td>36.2</td>\n",
       "      <td>0</td>\n",
       "    </tr>\n",
       "  </tbody>\n",
       "</table>\n",
       "</div>"
      ],
      "text/plain": [
       "      crim  indus  chas    nox     rm   age     dis  rad  tax  ptratio  \\\n",
       "0  0.00632   2.31     0  0.538  6.575  65.2  4.0900    1  296     15.3   \n",
       "1  0.02731   7.07     0  0.469  6.421  78.9  4.9671    2  242     17.8   \n",
       "2  0.02729   7.07     0  0.469  7.185  61.1  4.9671    2  242     17.8   \n",
       "3  0.03237   2.18     0  0.458  6.998  45.8  6.0622    3  222     18.7   \n",
       "4  0.06905   2.18     0  0.458  7.147  54.2  6.0622    3  222     18.7   \n",
       "\n",
       "    black  lstat  medv  zn2  \n",
       "0  396.90   4.98  24.0    1  \n",
       "1  396.90   9.14  21.6    0  \n",
       "2  392.83   4.03  34.7    0  \n",
       "3  394.63   2.94  33.4    0  \n",
       "4  396.90   5.33  36.2    0  "
      ]
     },
     "execution_count": 66,
     "metadata": {},
     "output_type": "execute_result"
    }
   ],
   "source": [
    "boston = pd.read_csv('https://bit.ly/3EuWvZw')\n",
    "boston.head()"
   ]
  },
  {
   "cell_type": "markdown",
   "id": "21994777",
   "metadata": {},
   "source": [
    "### ① crim"
   ]
  },
  {
   "cell_type": "code",
   "execution_count": 67,
   "id": "6345bdc0",
   "metadata": {},
   "outputs": [],
   "source": [
    "var= 'crim'"
   ]
  },
  {
   "cell_type": "markdown",
   "id": "4b995137",
   "metadata": {},
   "source": [
    "1) 변수의 비즈니스 의미"
   ]
  },
  {
   "cell_type": "markdown",
   "id": "47188d5d",
   "metadata": {},
   "source": [
    "> 타운별 범죄율"
   ]
  },
  {
   "cell_type": "markdown",
   "id": "c98f706e",
   "metadata": {},
   "source": [
    "2) 숫자, 범주?"
   ]
  },
  {
   "cell_type": "markdown",
   "id": "cbb7b2b8",
   "metadata": {},
   "source": [
    "> 숫자"
   ]
  },
  {
   "cell_type": "markdown",
   "id": "db3a0d05",
   "metadata": {},
   "source": [
    "3) NaN 존재 유무"
   ]
  },
  {
   "cell_type": "code",
   "execution_count": 68,
   "id": "317efe26",
   "metadata": {},
   "outputs": [
    {
     "data": {
      "text/plain": [
       "0"
      ]
     },
     "execution_count": 68,
     "metadata": {},
     "output_type": "execute_result"
    }
   ],
   "source": [
    "boston[var].isna().sum()"
   ]
  },
  {
   "cell_type": "markdown",
   "id": "ffc1beac",
   "metadata": {},
   "source": [
    "> NaN은 존재하지 않음"
   ]
  },
  {
   "cell_type": "markdown",
   "id": "c74fe5ec",
   "metadata": {},
   "source": [
    "4) 기초통계량(수치화)"
   ]
  },
  {
   "cell_type": "code",
   "execution_count": 69,
   "id": "531b5d12",
   "metadata": {},
   "outputs": [
    {
     "data": {
      "text/plain": [
       "count    506.000000\n",
       "mean       3.613524\n",
       "std        8.601545\n",
       "min        0.006320\n",
       "25%        0.082045\n",
       "50%        0.256510\n",
       "75%        3.677083\n",
       "max       88.976200\n",
       "Name: crim, dtype: float64"
      ]
     },
     "execution_count": 69,
     "metadata": {},
     "output_type": "execute_result"
    }
   ],
   "source": [
    "boston[var].describe()"
   ]
  },
  {
   "cell_type": "markdown",
   "id": "5d61b095",
   "metadata": {},
   "source": [
    "5) 분포 확인(시각화)"
   ]
  },
  {
   "cell_type": "code",
   "execution_count": 70,
   "id": "5cd7eb10",
   "metadata": {},
   "outputs": [
    {
     "data": {
      "image/png": "[encoded data removed]",
      "text/plain": [
       "<Figure size 432x288 with 1 Axes>"
      ]
     },
     "metadata": {
      "needs_background": "light"
     },
     "output_type": "display_data"
    }
   ],
   "source": [
    "sns.histplot(boston[var], bins = 40)\n",
    "plt.show()"
   ]
  },
  {
   "cell_type": "code",
   "execution_count": 71,
   "id": "cc5c429b",
   "metadata": {},
   "outputs": [
    {
     "data": {
      "image/png": "[encoded data removed]",
      "text/plain": [
       "<Figure size 432x288 with 1 Axes>"
      ]
     },
     "metadata": {
      "needs_background": "light"
     },
     "output_type": "display_data"
    },
    {
     "name": "stdout",
     "output_type": "stream",
     "text": [
      "[0.082045 0.00632 ]\n",
      "[3.6770825 8.98296  ]\n"
     ]
    }
   ],
   "source": [
    "box = plt.boxplot(boston[var])\n",
    "plt.show()\n",
    "\n",
    "print(box['whiskers'][0].get_ydata())\n",
    "print(box['whiskers'][1].get_ydata())"
   ]
  },
  {
   "cell_type": "markdown",
   "id": "6ec53faf",
   "metadata": {},
   "source": [
    "6) 기초통계량과 분포를 통해서 파악한 내용을 적어 봅시다.\n",
    "\n",
    "보이는 그대로를 넘어, 비즈니스 관점에서 고민하며 적어 봅시다."
   ]
  },
  {
   "cell_type": "markdown",
   "id": "0ccec41c",
   "metadata": {},
   "source": [
    "> * 대부분(75%의 타운)의 범죄율이 3.6% 이하  \n",
    "* boxlplot 기준으로 볼 때, 약 9% 이상은 이상치로 검토\n",
    "* 대부분의 타운은 치안 관리가 잘 되는 것 같으나, 9% 이상의 범죄율 지역은 치안상태, 외곽지역, 슬럼가/빈곤층 밀집 지역 등인지 확인이 필요하다."
   ]
  },
  {
   "cell_type": "markdown",
   "id": "ba12462c",
   "metadata": {},
   "source": [
    "7) 추가 분석해 볼 사항이 있나요?"
   ]
  },
  {
   "cell_type": "markdown",
   "id": "b59bb02b",
   "metadata": {},
   "source": [
    "> * 범죄율을 9% 이상과 이하로 나누고(범주화), 이상인 지역과 이하의 지역에 대한 다른 변수의 차이를 비교해 본다."
   ]
  },
  {
   "cell_type": "markdown",
   "id": "b2ae28b6",
   "metadata": {},
   "source": [
    "# 범주형 변수"
   ]
  },
  {
   "cell_type": "markdown",
   "id": "f8ba1b5c",
   "metadata": {},
   "source": [
    "## 타이타닉 탑승객 데이터"
   ]
  },
  {
   "cell_type": "markdown",
   "id": "da15d1bc",
   "metadata": {},
   "source": [
    "|\t변수\t|\t설명\t|\t값 설명\t|\n",
    "|\t----\t|\t----\t|\t----\t|\n",
    "|\tsurvived\t|\t생존여부\t|\t0 - 사망, 1- 생존\t|\n",
    "|\tPclass\t|\tTicket class\t|\t1 = 1st, 2 = 2nd, 3 = 3rd\t|\n",
    "|\tSex\t|\t성별\t|\t\t|\n",
    "|\tAge\t|\tAge in years\t|\t\t|\n",
    "|\tSibsp\t|\t# of siblings / spouses aboard the Titanic\t|\t\t|\n",
    "|\tParch\t|\t# of parents / children aboard the Titanic\t|\t\t|\n",
    "|\tTicket\t|\tTicket number\t|\t\t|\n",
    "|\tFare\t|\tPassenger fare\t|\t\t|\n",
    "|\tCabin\t|\tCabin number\t|\t\t|\n",
    "|\tEmbarked\t|\tPort of Embarkation\t|\tC = Cherbourg, Q = Queenstown, S = Southampton\t|\n"
   ]
  },
  {
   "cell_type": "code",
   "execution_count": 72,
   "id": "c2100a93",
   "metadata": {},
   "outputs": [
    {
     "data": {
      "text/html": [
       "<div>\n",
       "<style scoped>\n",
       "    .dataframe tbody tr th:only-of-type {\n",
       "        vertical-align: middle;\n",
       "    }\n",
       "\n",
       "    .dataframe tbody tr th {\n",
       "        vertical-align: top;\n",
       "    }\n",
       "\n",
       "    .dataframe thead th {\n",
       "        text-align: right;\n",
       "    }\n",
       "</style>\n",
       "<table border=\"1\" class=\"dataframe\">\n",
       "  <thead>\n",
       "    <tr style=\"text-align: right;\">\n",
       "      <th></th>\n",
       "      <th>PassengerId</th>\n",
       "      <th>Survived</th>\n",
       "      <th>Pclass</th>\n",
       "      <th>Name</th>\n",
       "      <th>Sex</th>\n",
       "      <th>Age</th>\n",
       "      <th>SibSp</th>\n",
       "      <th>Parch</th>\n",
       "      <th>Ticket</th>\n",
       "      <th>Fare</th>\n",
       "      <th>Cabin</th>\n",
       "      <th>Embarked</th>\n",
       "    </tr>\n",
       "  </thead>\n",
       "  <tbody>\n",
       "    <tr>\n",
       "      <th>0</th>\n",
       "      <td>1</td>\n",
       "      <td>0</td>\n",
       "      <td>3</td>\n",
       "      <td>Braund, Mr. Owen Harris</td>\n",
       "      <td>male</td>\n",
       "      <td>22.0</td>\n",
       "      <td>1</td>\n",
       "      <td>0</td>\n",
       "      <td>A/5 21171</td>\n",
       "      <td>7.2500</td>\n",
       "      <td>NaN</td>\n",
       "      <td>S</td>\n",
       "    </tr>\n",
       "    <tr>\n",
       "      <th>1</th>\n",
       "      <td>2</td>\n",
       "      <td>1</td>\n",
       "      <td>1</td>\n",
       "      <td>Cumings, Mrs. John Bradley (Florence Briggs Th...</td>\n",
       "      <td>female</td>\n",
       "      <td>38.0</td>\n",
       "      <td>1</td>\n",
       "      <td>0</td>\n",
       "      <td>PC 17599</td>\n",
       "      <td>71.2833</td>\n",
       "      <td>C85</td>\n",
       "      <td>C</td>\n",
       "    </tr>\n",
       "    <tr>\n",
       "      <th>2</th>\n",
       "      <td>3</td>\n",
       "      <td>1</td>\n",
       "      <td>3</td>\n",
       "      <td>Heikkinen, Miss. Laina</td>\n",
       "      <td>female</td>\n",
       "      <td>26.0</td>\n",
       "      <td>0</td>\n",
       "      <td>0</td>\n",
       "      <td>STON/O2. 3101282</td>\n",
       "      <td>7.9250</td>\n",
       "      <td>NaN</td>\n",
       "      <td>S</td>\n",
       "    </tr>\n",
       "    <tr>\n",
       "      <th>3</th>\n",
       "      <td>4</td>\n",
       "      <td>1</td>\n",
       "      <td>1</td>\n",
       "      <td>Futrelle, Mrs. Jacques Heath (Lily May Peel)</td>\n",
       "      <td>female</td>\n",
       "      <td>35.0</td>\n",
       "      <td>1</td>\n",
       "      <td>0</td>\n",
       "      <td>113803</td>\n",
       "      <td>53.1000</td>\n",
       "      <td>C123</td>\n",
       "      <td>S</td>\n",
       "    </tr>\n",
       "    <tr>\n",
       "      <th>4</th>\n",
       "      <td>5</td>\n",
       "      <td>0</td>\n",
       "      <td>3</td>\n",
       "      <td>Allen, Mr. William Henry</td>\n",
       "      <td>male</td>\n",
       "      <td>35.0</td>\n",
       "      <td>0</td>\n",
       "      <td>0</td>\n",
       "      <td>373450</td>\n",
       "      <td>8.0500</td>\n",
       "      <td>NaN</td>\n",
       "      <td>S</td>\n",
       "    </tr>\n",
       "  </tbody>\n",
       "</table>\n",
       "</div>"
      ],
      "text/plain": [
       "   PassengerId  Survived  Pclass  \\\n",
       "0            1         0       3   \n",
       "1            2         1       1   \n",
       "2            3         1       3   \n",
       "3            4         1       1   \n",
       "4            5         0       3   \n",
       "\n",
       "                                                Name     Sex   Age  SibSp  \\\n",
       "0                            Braund, Mr. Owen Harris    male  22.0      1   \n",
       "1  Cumings, Mrs. John Bradley (Florence Briggs Th...  female  38.0      1   \n",
       "2                             Heikkinen, Miss. Laina  female  26.0      0   \n",
       "3       Futrelle, Mrs. Jacques Heath (Lily May Peel)  female  35.0      1   \n",
       "4                           Allen, Mr. William Henry    male  35.0      0   \n",
       "\n",
       "   Parch            Ticket     Fare Cabin Embarked  \n",
       "0      0         A/5 21171   7.2500   NaN        S  \n",
       "1      0          PC 17599  71.2833   C85        C  \n",
       "2      0  STON/O2. 3101282   7.9250   NaN        S  \n",
       "3      0            113803  53.1000  C123        S  \n",
       "4      0            373450   8.0500   NaN        S  "
      ]
     },
     "execution_count": 72,
     "metadata": {},
     "output_type": "execute_result"
    }
   ],
   "source": [
    "titanic = pd.read_csv('https://bit.ly/3FsgwkJ')\n",
    "titanic.head()"
   ]
  },
  {
   "cell_type": "markdown",
   "id": "b047200d",
   "metadata": {},
   "source": [
    "### ① Survived"
   ]
  },
  {
   "cell_type": "code",
   "execution_count": 74,
   "id": "74e51bc0",
   "metadata": {},
   "outputs": [],
   "source": [
    "var = 'Survived'"
   ]
  },
  {
   "cell_type": "markdown",
   "id": "2f614eb8",
   "metadata": {},
   "source": [
    "1) 변수의 비즈니스 의미"
   ]
  },
  {
   "cell_type": "markdown",
   "id": "ebbf6515",
   "metadata": {},
   "source": [
    "> 탑승객의 생존여부"
   ]
  },
  {
   "cell_type": "markdown",
   "id": "8c68fd9b",
   "metadata": {},
   "source": [
    "2) 숫자, 범주?"
   ]
  },
  {
   "cell_type": "code",
   "execution_count": 75,
   "id": "82af2641",
   "metadata": {},
   "outputs": [
    {
     "data": {
      "text/plain": [
       "array([0, 1], dtype=int64)"
      ]
     },
     "execution_count": 75,
     "metadata": {},
     "output_type": "execute_result"
    }
   ],
   "source": [
    "titanic[var].unique()"
   ]
  },
  {
   "cell_type": "markdown",
   "id": "b2246c7c",
   "metadata": {},
   "source": [
    "> * 범주형 데이터\n",
    "* 범주 종류 1, 0\n",
    "    * 1: 생존\n",
    "    * 0: 사망"
   ]
  },
  {
   "cell_type": "markdown",
   "id": "a82cedb7",
   "metadata": {},
   "source": [
    "3) NaN 존재 유무"
   ]
  },
  {
   "cell_type": "code",
   "execution_count": 76,
   "id": "dd71671b",
   "metadata": {},
   "outputs": [
    {
     "data": {
      "text/plain": [
       "0"
      ]
     },
     "execution_count": 76,
     "metadata": {},
     "output_type": "execute_result"
    }
   ],
   "source": [
    "titanic[var].isna().sum()"
   ]
  },
  {
   "cell_type": "markdown",
   "id": "7012a046",
   "metadata": {},
   "source": [
    "> NA 없음"
   ]
  },
  {
   "cell_type": "markdown",
   "id": "07e363c0",
   "metadata": {},
   "source": [
    "4) 기초통계량(수치화)"
   ]
  },
  {
   "cell_type": "code",
   "execution_count": 77,
   "id": "492c00d2",
   "metadata": {},
   "outputs": [
    {
     "name": "stdout",
     "output_type": "stream",
     "text": [
      "0    549\n",
      "1    342\n",
      "Name: Survived, dtype: int64\n",
      "0    0.616162\n",
      "1    0.383838\n",
      "Name: Survived, dtype: float64\n"
     ]
    }
   ],
   "source": [
    "print(titanic[var].value_counts())\n",
    "print(titanic[var].value_counts()/ len(titanic[var]))"
   ]
  },
  {
   "cell_type": "markdown",
   "id": "4c30acf8",
   "metadata": {},
   "source": [
    "5) 분포 확인(시각화)"
   ]
  },
  {
   "cell_type": "code",
   "execution_count": 78,
   "id": "41f865c0",
   "metadata": {},
   "outputs": [
    {
     "name": "stderr",
     "output_type": "stream",
     "text": [
      "C:\\Users\\User\\anaconda3\\lib\\site-packages\\seaborn\\_decorators.py:36: FutureWarning: Pass the following variable as a keyword arg: x. From version 0.12, the only valid positional argument will be `data`, and passing other arguments without an explicit keyword will result in an error or misinterpretation.\n",
      "  warnings.warn(\n"
     ]
    },
    {
     "data": {
      "image/png": "[encoded data removed]",
      "text/plain": [
       "<Figure size 432x288 with 1 Axes>"
      ]
     },
     "metadata": {
      "needs_background": "light"
     },
     "output_type": "display_data"
    }
   ],
   "source": [
    "sns.countplot(titanic[var])\n",
    "plt.show()"
   ]
  },
  {
   "cell_type": "markdown",
   "id": "89f44d07",
   "metadata": {},
   "source": [
    "6) 기초통계량과 분포를 통해서 파악한 내용을 적어 봅시다.\n",
    "\n",
    "보이는 그대로를 넘어, 비즈니스 관점에서 고민하며 적어 봅시다."
   ]
  },
  {
   "cell_type": "markdown",
   "id": "076bd17c",
   "metadata": {},
   "source": [
    "> * 전체 891명\n",
    "* 생존자\n",
    "    * 생존자의 수는 342명\n",
    "    * 생존율 0.384\n",
    "* 사망율이 높은 이유는 무엇일까?"
   ]
  },
  {
   "cell_type": "markdown",
   "id": "a5fbe7db",
   "metadata": {},
   "source": [
    "7) 추가 분석해 볼 사항이 있나요?"
   ]
  },
  {
   "cell_type": "markdown",
   "id": "ad6f92e4",
   "metadata": {},
   "source": [
    "> * Survived가 Target 이므로, feature들과 Target 과의 관계를 살펴보게 될 것.\n",
    "* 그러므로 추가 분석하고자 하는 사항은 feature들을 살펴볼 때 도출하게 될 것이라 생각됨."
   ]
  },
  {
   "cell_type": "markdown",
   "id": "161dc0cb",
   "metadata": {},
   "source": [
    "### ② Sex"
   ]
  },
  {
   "cell_type": "code",
   "execution_count": 79,
   "id": "83087c95",
   "metadata": {},
   "outputs": [],
   "source": [
    "var = 'Sex'"
   ]
  },
  {
   "cell_type": "markdown",
   "id": "2e61b0c2",
   "metadata": {},
   "source": [
    "1) 변수의 비즈니스 의미"
   ]
  },
  {
   "cell_type": "markdown",
   "id": "6462e8e7",
   "metadata": {},
   "source": [
    "* 성별"
   ]
  },
  {
   "cell_type": "markdown",
   "id": "04159041",
   "metadata": {},
   "source": [
    "2) 숫자, 범주?"
   ]
  },
  {
   "cell_type": "code",
   "execution_count": 80,
   "id": "41d6028b",
   "metadata": {},
   "outputs": [
    {
     "data": {
      "text/plain": [
       "array(['male', 'female'], dtype=object)"
      ]
     },
     "execution_count": 80,
     "metadata": {},
     "output_type": "execute_result"
    }
   ],
   "source": [
    "titanic[var].unique()"
   ]
  },
  {
   "cell_type": "markdown",
   "id": "e8de1330",
   "metadata": {},
   "source": [
    "3) NaN 존재 유무"
   ]
  },
  {
   "cell_type": "code",
   "execution_count": 81,
   "id": "20b0e7db",
   "metadata": {},
   "outputs": [
    {
     "data": {
      "text/plain": [
       "0"
      ]
     },
     "execution_count": 81,
     "metadata": {},
     "output_type": "execute_result"
    }
   ],
   "source": [
    "titanic[var].isna().sum()"
   ]
  },
  {
   "cell_type": "markdown",
   "id": "a49d8c7b",
   "metadata": {},
   "source": [
    "4) 기초통계량(수치화)"
   ]
  },
  {
   "cell_type": "code",
   "execution_count": 83,
   "id": "89d12519",
   "metadata": {
    "scrolled": true
   },
   "outputs": [
    {
     "name": "stdout",
     "output_type": "stream",
     "text": [
      "male      577\n",
      "female    314\n",
      "Name: Sex, dtype: int64\n",
      "male      0.647587\n",
      "female    0.352413\n",
      "Name: Sex, dtype: float64\n"
     ]
    }
   ],
   "source": [
    "print(titanic[var].value_counts())\n",
    "print(titanic[var].value_counts()/ len(titanic[var]))"
   ]
  },
  {
   "cell_type": "markdown",
   "id": "81f5dc76",
   "metadata": {},
   "source": [
    "5) 분포 확인(시각화)"
   ]
  },
  {
   "cell_type": "code",
   "execution_count": 84,
   "id": "0d08e4ef",
   "metadata": {},
   "outputs": [
    {
     "name": "stdout",
     "output_type": "stream",
     "text": [
      "male      577\n",
      "female    314\n",
      "Name: Sex, dtype: int64\n"
     ]
    },
    {
     "data": {
      "image/png": "[encoded data removed]",
      "text/plain": [
       "<Figure size 432x288 with 1 Axes>"
      ]
     },
     "metadata": {
      "needs_background": "light"
     },
     "output_type": "display_data"
    }
   ],
   "source": [
    "cnt = titanic[var].value_counts()\n",
    "print(cnt)\n",
    "plt.bar(cnt.index, cnt.values)\n",
    "plt.show()"
   ]
  },
  {
   "cell_type": "markdown",
   "id": "696720b8",
   "metadata": {},
   "source": [
    "6) 기초통계량과 분포를 통해서 파악한 내용을 적어 봅시다.\n",
    "\n",
    "보이는 그대로를 넘어, 비즈니스 관점에서 고민하며 적어 봅시다."
   ]
  },
  {
   "cell_type": "markdown",
   "id": "192821eb",
   "metadata": {},
   "source": [
    "* 탑승객들의 넘녀 성별의 비율은 남성이 64%로 여성보다 많은 것을 알 수 있다."
   ]
  },
  {
   "cell_type": "markdown",
   "id": "40cd5a21",
   "metadata": {},
   "source": [
    "7) 추가 분석해 볼 사항이 있나요?"
   ]
  },
  {
   "cell_type": "markdown",
   "id": "fcd7f62e",
   "metadata": {},
   "source": [
    "* 성별과 생존자의 상관관계를 분석하여 남녀비율중 어느 성별이 생존율이 높은지 분석할 수 있다.\n",
    "* 이 외에 나이와 함께 조사하여 나이별 남녀 성비 또한 분석할 수 있다."
   ]
  }
 ],
 "metadata": {
  "colab": {
   "collapsed_sections": [],
   "name": "04과 [실습] 숫자형 변수 - 시각화.ipynb",
   "provenance": [],
   "toc_visible": true
  },
  "kernelspec": {
   "display_name": "Python 3",
   "language": "python",
   "name": "python3"
  },
  "language_info": {
   "codemirror_mode": {
    "name": "ipython",
    "version": 3
   },
   "file_extension": ".py",
   "mimetype": "text/x-python",
   "name": "python",
   "nbconvert_exporter": "python",
   "pygments_lexer": "ipython3",
   "version": "3.8.8"
  }
 },
 "nbformat": 4,
 "nbformat_minor": 5
}
