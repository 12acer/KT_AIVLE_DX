{
 "cells": [
  {
   "cell_type": "markdown",
   "metadata": {
    "id": "y1J78TFSRrSA"
   },
   "source": [
    "<center><img src='https://raw.githubusercontent.com/Jangrae/img/master/ml_python.png' width=600/></center>"
   ]
  },
  {
   "cell_type": "markdown",
   "metadata": {
    "id": "30WC6LUaHGdk"
   },
   "source": [
    "# 실습 내용\n",
    "\n",
    "- Random Search로 Decision Tree 알고리즘 모델을 튜닝합니다.\n"
   ]
  },
  {
   "cell_type": "markdown",
   "metadata": {
    "id": "WW5MoKVRHuE8"
   },
   "source": [
    "# 1.환경 준비\n",
    "\n",
    "- 기본 라이브러리와 대상 데이터를 가져와 이후 과정을 준비합니다."
   ]
  },
  {
   "cell_type": "code",
   "execution_count": 1,
   "metadata": {
    "id": "BzJjQX4lNdJr",
    "scrolled": true
   },
   "outputs": [],
   "source": [
    "# 라이브러리 불러오기\n",
    "import numpy as np\n",
    "import pandas as pd\n",
    "import matplotlib.pyplot as plt"
   ]
  },
  {
   "cell_type": "code",
   "execution_count": 2,
   "metadata": {
    "id": "1yPDiJ4NNdJs"
   },
   "outputs": [],
   "source": [
    "# 데이터 읽어오기\n",
    "path = 'https://raw.githubusercontent.com/jangrae/csv/master/income_happy.csv'\n",
    "data = pd.read_csv(path)"
   ]
  },
  {
   "cell_type": "markdown",
   "metadata": {
    "id": "ZJOddHq2zfcU"
   },
   "source": [
    "# 2.데이터 이해\n",
    "\n",
    "- 분석할 데이터를 충분히 이해할 수 있도록 다양한 탐색 과정을 수행합니다."
   ]
  },
  {
   "cell_type": "code",
   "execution_count": 3,
   "metadata": {
    "id": "Wzs1nS348uwE"
   },
   "outputs": [
    {
     "data": {
      "text/html": [
       "<div>\n",
       "<style scoped>\n",
       "    .dataframe tbody tr th:only-of-type {\n",
       "        vertical-align: middle;\n",
       "    }\n",
       "\n",
       "    .dataframe tbody tr th {\n",
       "        vertical-align: top;\n",
       "    }\n",
       "\n",
       "    .dataframe thead th {\n",
       "        text-align: right;\n",
       "    }\n",
       "</style>\n",
       "<table border=\"1\" class=\"dataframe\">\n",
       "  <thead>\n",
       "    <tr style=\"text-align: right;\">\n",
       "      <th></th>\n",
       "      <th>income</th>\n",
       "      <th>happiness</th>\n",
       "    </tr>\n",
       "  </thead>\n",
       "  <tbody>\n",
       "    <tr>\n",
       "      <th>0</th>\n",
       "      <td>3.862647</td>\n",
       "      <td>2.314489</td>\n",
       "    </tr>\n",
       "    <tr>\n",
       "      <th>1</th>\n",
       "      <td>4.979381</td>\n",
       "      <td>3.433490</td>\n",
       "    </tr>\n",
       "    <tr>\n",
       "      <th>2</th>\n",
       "      <td>4.923957</td>\n",
       "      <td>4.599373</td>\n",
       "    </tr>\n",
       "    <tr>\n",
       "      <th>3</th>\n",
       "      <td>3.214372</td>\n",
       "      <td>2.791114</td>\n",
       "    </tr>\n",
       "    <tr>\n",
       "      <th>4</th>\n",
       "      <td>7.196409</td>\n",
       "      <td>5.596398</td>\n",
       "    </tr>\n",
       "  </tbody>\n",
       "</table>\n",
       "</div>"
      ],
      "text/plain": [
       "     income  happiness\n",
       "0  3.862647   2.314489\n",
       "1  4.979381   3.433490\n",
       "2  4.923957   4.599373\n",
       "3  3.214372   2.791114\n",
       "4  7.196409   5.596398"
      ]
     },
     "execution_count": 3,
     "metadata": {},
     "output_type": "execute_result"
    }
   ],
   "source": [
    "# 상위 몇 개 행 확인\n",
    "data.head()"
   ]
  },
  {
   "cell_type": "code",
   "execution_count": 4,
   "metadata": {
    "id": "LhAk04Uy4Occ"
   },
   "outputs": [
    {
     "data": {
      "text/html": [
       "<div>\n",
       "<style scoped>\n",
       "    .dataframe tbody tr th:only-of-type {\n",
       "        vertical-align: middle;\n",
       "    }\n",
       "\n",
       "    .dataframe tbody tr th {\n",
       "        vertical-align: top;\n",
       "    }\n",
       "\n",
       "    .dataframe thead th {\n",
       "        text-align: right;\n",
       "    }\n",
       "</style>\n",
       "<table border=\"1\" class=\"dataframe\">\n",
       "  <thead>\n",
       "    <tr style=\"text-align: right;\">\n",
       "      <th></th>\n",
       "      <th>income</th>\n",
       "      <th>happiness</th>\n",
       "    </tr>\n",
       "  </thead>\n",
       "  <tbody>\n",
       "    <tr>\n",
       "      <th>count</th>\n",
       "      <td>498.000000</td>\n",
       "      <td>498.000000</td>\n",
       "    </tr>\n",
       "    <tr>\n",
       "      <th>mean</th>\n",
       "      <td>4.466902</td>\n",
       "      <td>3.392859</td>\n",
       "    </tr>\n",
       "    <tr>\n",
       "      <th>std</th>\n",
       "      <td>1.737527</td>\n",
       "      <td>1.432813</td>\n",
       "    </tr>\n",
       "    <tr>\n",
       "      <th>min</th>\n",
       "      <td>1.506275</td>\n",
       "      <td>0.266044</td>\n",
       "    </tr>\n",
       "    <tr>\n",
       "      <th>25%</th>\n",
       "      <td>3.006256</td>\n",
       "      <td>2.265864</td>\n",
       "    </tr>\n",
       "    <tr>\n",
       "      <th>50%</th>\n",
       "      <td>4.423710</td>\n",
       "      <td>3.472536</td>\n",
       "    </tr>\n",
       "    <tr>\n",
       "      <th>75%</th>\n",
       "      <td>5.991913</td>\n",
       "      <td>4.502621</td>\n",
       "    </tr>\n",
       "    <tr>\n",
       "      <th>max</th>\n",
       "      <td>7.481521</td>\n",
       "      <td>6.863388</td>\n",
       "    </tr>\n",
       "  </tbody>\n",
       "</table>\n",
       "</div>"
      ],
      "text/plain": [
       "           income   happiness\n",
       "count  498.000000  498.000000\n",
       "mean     4.466902    3.392859\n",
       "std      1.737527    1.432813\n",
       "min      1.506275    0.266044\n",
       "25%      3.006256    2.265864\n",
       "50%      4.423710    3.472536\n",
       "75%      5.991913    4.502621\n",
       "max      7.481521    6.863388"
      ]
     },
     "execution_count": 4,
     "metadata": {},
     "output_type": "execute_result"
    }
   ],
   "source": [
    "# 기초통계량 확인\n",
    "data.describe()"
   ]
  },
  {
   "cell_type": "markdown",
   "metadata": {
    "id": "wW0d0eGmCYJM"
   },
   "source": [
    "# 3.데이터 준비\n",
    "\n",
    "- 전처리 과정을 통해 머신러닝 알고리즘에 사용할 수 있는 형태의 데이터를 준비합니다."
   ]
  },
  {
   "cell_type": "markdown",
   "metadata": {
    "id": "3cPr1J1RQyHa"
   },
   "source": [
    "**1) x, y 분리**"
   ]
  },
  {
   "cell_type": "code",
   "execution_count": 5,
   "metadata": {
    "id": "fK-oriQsQyHw"
   },
   "outputs": [],
   "source": [
    "# target 확인\n",
    "target = 'happiness'\n",
    "\n",
    "# 데이터 분리\n",
    "x = data.drop(target, axis=1)\n",
    "y = data[target]"
   ]
  },
  {
   "cell_type": "markdown",
   "metadata": {
    "id": "nc6yw1RzQ7g1"
   },
   "source": [
    "**2) 학습용, 평가용 데이터 분리**"
   ]
  },
  {
   "cell_type": "code",
   "execution_count": 6,
   "metadata": {
    "id": "Kx7xyBwfQ35W"
   },
   "outputs": [],
   "source": [
    "# 모듈 불러오기\n",
    "from sklearn.model_selection import train_test_split\n",
    "\n",
    "# 데이터 분리\n",
    "x_train, x_test, y_train, y_test = train_test_split(x, y, test_size=0.3, random_state=2022)"
   ]
  },
  {
   "cell_type": "markdown",
   "metadata": {
    "id": "Pmu6Di1MiyX4"
   },
   "source": [
    "# 4.모델링\n",
    "\n",
    "- 본격적으로 모델을 선언하고 학습하고 평가하는 과정을 진행합니다."
   ]
  },
  {
   "cell_type": "code",
   "execution_count": 7,
   "metadata": {
    "id": "46LrmqgIqgN2"
   },
   "outputs": [],
   "source": [
    "# 불러오기\n",
    "from sklearn.tree import DecisionTreeRegressor\n",
    "from sklearn.metrics import mean_absolute_error, r2_score"
   ]
  },
  {
   "cell_type": "code",
   "execution_count": 8,
   "metadata": {
    "id": "pZ0QQiliqgN3"
   },
   "outputs": [],
   "source": [
    "# 선언하기\n",
    "model = DecisionTreeRegressor(max_depth=5, random_state=2022)"
   ]
  },
  {
   "cell_type": "code",
   "execution_count": 9,
   "metadata": {
    "id": "4FGBNX_RqgN4"
   },
   "outputs": [
    {
     "data": {
      "text/plain": [
       "DecisionTreeRegressor(max_depth=5, random_state=2022)"
      ]
     },
     "execution_count": 9,
     "metadata": {},
     "output_type": "execute_result"
    }
   ],
   "source": [
    "# 학습하기\n",
    "model.fit(x_train, y_train)"
   ]
  },
  {
   "cell_type": "code",
   "execution_count": 10,
   "metadata": {
    "id": "df-rQHcwqgN4"
   },
   "outputs": [],
   "source": [
    "# 예측하기\n",
    "y_pred = model.predict(x_test)"
   ]
  },
  {
   "cell_type": "code",
   "execution_count": 11,
   "metadata": {
    "id": "9owqlHRiqgN5"
   },
   "outputs": [
    {
     "name": "stdout",
     "output_type": "stream",
     "text": [
      "MAE: 0.6072155238529675\n",
      "R2-Score: 0.7169483336378495\n"
     ]
    }
   ],
   "source": [
    "# 평가하기\n",
    "print('MAE:', mean_absolute_error(y_test, y_pred))\n",
    "print('R2-Score:', r2_score(y_test, y_pred))"
   ]
  },
  {
   "cell_type": "code",
   "execution_count": 12,
   "metadata": {},
   "outputs": [
    {
     "data": {
      "text/plain": [
       "{'ccp_alpha': 0.0,\n",
       " 'criterion': 'squared_error',\n",
       " 'max_depth': 5,\n",
       " 'max_features': None,\n",
       " 'max_leaf_nodes': None,\n",
       " 'min_impurity_decrease': 0.0,\n",
       " 'min_samples_leaf': 1,\n",
       " 'min_samples_split': 2,\n",
       " 'min_weight_fraction_leaf': 0.0,\n",
       " 'random_state': 2022,\n",
       " 'splitter': 'best'}"
      ]
     },
     "execution_count": 12,
     "metadata": {},
     "output_type": "execute_result"
    }
   ],
   "source": [
    "model.get_params()"
   ]
  },
  {
   "cell_type": "markdown",
   "metadata": {
    "id": "9hy7BftaD616"
   },
   "source": [
    "**성능에 대한 고민**\n",
    "\n",
    "- 위 모델링 과정에서 max_depth=5를 지정했습니다.\n",
    "- max_depth를 다른 값으로 지정하면 성능이 더 좋을 수도 있습니다.\n",
    "- max_depth 외에도 성능에 영향을 주는 파라미터가 더 있을 것입니다.\n",
    "- 경험이 없는 상태에서 최적의 파라미터를 지정하기는 쉽지 않습니다.\n"
   ]
  },
  {
   "cell_type": "markdown",
   "metadata": {
    "id": "m-EyKFHUtpI2"
   },
   "source": [
    "# 5.성능 튜닝\n",
    "\n",
    "\n",
    "- Random Search로 튜닝을 진행합니다. \n"
   ]
  },
  {
   "cell_type": "markdown",
   "metadata": {
    "id": "vFYPwKfxRAfx"
   },
   "source": [
    "**1) 모델링 & 튜닝**\n",
    "\n",
    "- 성능을 확인할 파라미터를 딕셔너리 형태로 선언합니다."
   ]
  },
  {
   "cell_type": "code",
   "execution_count": 13,
   "metadata": {
    "id": "V-PSKjBMbFYJ"
   },
   "outputs": [],
   "source": [
    "# 파라미터 선언\n",
    "  # max_depth: 1~50\n",
    "\n",
    "# rand_param = {'max_depth':range(1,51), \n",
    "#              'min_samples_leaf':range(1, 21)}\n",
    "rand_param = {'max_depth':range(1,51)}"
   ]
  },
  {
   "cell_type": "markdown",
   "metadata": {
    "id": "TdKwDikdFITA"
   },
   "source": [
    "- 사용할 라이브러리를 불러옵니다."
   ]
  },
  {
   "cell_type": "code",
   "execution_count": 14,
   "metadata": {
    "id": "Z6IU6K1YbFYM"
   },
   "outputs": [],
   "source": [
    "# 불러오기\n",
    "\n",
    "from sklearn.tree import DecisionTreeRegressor\n",
    "from sklearn.model_selection import RandomizedSearchCV"
   ]
  },
  {
   "cell_type": "markdown",
   "metadata": {
    "id": "8kIMQC2UFN0o"
   },
   "source": [
    "- 다음 두 가지 모델을 선언합니다.\n",
    "    - 기본 모델: 기본 알고리즘을 사용하는 튜닝 대상 모델\n",
    "    - 최종 모델: RandomizedSearchCV 알고리즘을 사용하는 모델\n",
    "- 다음 정보를 최종 모델에 파라미터로 전달합니다.\n",
    "    - 기본 모델 이름\n",
    "    - 파라미터 변수\n",
    "    - cv: K-Fold 분할 개수(기본값=5)\n",
    "    - n_iter: 시도 횟수(기본값=10)\n",
    "    - scoring: 평가 방법"
   ]
  },
  {
   "cell_type": "code",
   "execution_count": 15,
   "metadata": {
    "id": "G8AGCijmbFYN"
   },
   "outputs": [],
   "source": [
    "# 선언하기\n",
    "model_dst = DecisionTreeRegressor(random_state=2022)\n",
    "\n",
    "# Random Search 선언\n",
    "  # cv=10\n",
    "  # n_iter=20\n",
    "  # scoring='r2'\n",
    "model = RandomizedSearchCV(model_dst,     # 기본 모델\n",
    "                           rand_param,    # 파라미터 변수\n",
    "                           cv=10,         # cv값 (K-Fold Cross Validation의 분할 수)\n",
    "                           n_iter=20,     # 반복 횟수\n",
    "                           scoring='r2',  # 성능 기준\n",
    "                           n_jobs=-1)     # cpu 가속화"
   ]
  },
  {
   "cell_type": "code",
   "execution_count": 16,
   "metadata": {},
   "outputs": [
    {
     "data": {
      "text/plain": [
       "{'ccp_alpha': 0.0,\n",
       " 'criterion': 'squared_error',\n",
       " 'max_depth': None,\n",
       " 'max_features': None,\n",
       " 'max_leaf_nodes': None,\n",
       " 'min_impurity_decrease': 0.0,\n",
       " 'min_samples_leaf': 1,\n",
       " 'min_samples_split': 2,\n",
       " 'min_weight_fraction_leaf': 0.0,\n",
       " 'random_state': 2022,\n",
       " 'splitter': 'best'}"
      ]
     },
     "execution_count": 16,
     "metadata": {},
     "output_type": "execute_result"
    }
   ],
   "source": [
    "model_dst.get_params()"
   ]
  },
  {
   "cell_type": "code",
   "execution_count": 17,
   "metadata": {
    "id": "HFVR5ILFbFYO"
   },
   "outputs": [
    {
     "data": {
      "text/plain": [
       "RandomizedSearchCV(cv=10, estimator=DecisionTreeRegressor(random_state=2022),\n",
       "                   n_iter=20, n_jobs=-1,\n",
       "                   param_distributions={'max_depth': range(1, 51)},\n",
       "                   scoring='r2')"
      ]
     },
     "execution_count": 17,
     "metadata": {},
     "output_type": "execute_result"
    }
   ],
   "source": [
    "# 학습하기\n",
    "\n",
    "model.fit(x_train, y_train)"
   ]
  },
  {
   "cell_type": "markdown",
   "metadata": {
    "id": "1BLGo4F2Hjio"
   },
   "source": [
    "**2) 결과 확인**\n",
    "\n",
    "- model.cv_results_ 속성에 성능 테스트와 관련된 많은 정보가 포함되어 있습니다."
   ]
  },
  {
   "cell_type": "code",
   "execution_count": 18,
   "metadata": {
    "id": "R7bbTzbeIVtH"
   },
   "outputs": [
    {
     "data": {
      "text/plain": [
       "{'mean_fit_time': array([0.01296434, 0.00770569, 0.00900192, 0.00628171, 0.00618336,\n",
       "        0.00598366, 0.00728033, 0.0084774 , 0.00867705, 0.00668273,\n",
       "        0.00767906, 0.01176891, 0.00608311, 0.0066823 , 0.00737901,\n",
       "        0.00628271, 0.00618339, 0.00638256, 0.00598445, 0.00642686]),\n",
       " 'std_fit_time': array([0.00896551, 0.00140739, 0.00260906, 0.0013421 , 0.00107414,\n",
       "        0.00077272, 0.00178831, 0.00569839, 0.00746411, 0.00118405,\n",
       "        0.00448413, 0.01706437, 0.00113236, 0.00118477, 0.00185098,\n",
       "        0.00063836, 0.00107422, 0.00195389, 0.00044574, 0.0017465 ]),\n",
       " 'mean_score_time': array([0.00627282, 0.00469565, 0.0050046 , 0.00488834, 0.00458794,\n",
       "        0.00418894, 0.00498629, 0.00458755, 0.00468676, 0.00438728,\n",
       "        0.00548487, 0.00408814, 0.0041889 , 0.00538542, 0.00598388,\n",
       "        0.00498667, 0.00428843, 0.00418851, 0.00398982, 0.00459547]),\n",
       " 'std_score_time': array([0.00233334, 0.00147783, 0.00136208, 0.00151102, 0.00119714,\n",
       "        0.00074666, 0.00099883, 0.00111   , 0.00252511, 0.00091479,\n",
       "        0.00328457, 0.0010415 , 0.00097731, 0.00223941, 0.00378449,\n",
       "        0.00147921, 0.00100218, 0.00074649, 0.00077202, 0.00161716]),\n",
       " 'param_max_depth': masked_array(data=[50, 15, 18, 23, 40, 14, 1, 47, 20, 19, 33, 9, 36, 34,\n",
       "                    21, 24, 48, 49, 32, 5],\n",
       "              mask=[False, False, False, False, False, False, False, False,\n",
       "                    False, False, False, False, False, False, False, False,\n",
       "                    False, False, False, False],\n",
       "        fill_value='?',\n",
       "             dtype=object),\n",
       " 'params': [{'max_depth': 50},\n",
       "  {'max_depth': 15},\n",
       "  {'max_depth': 18},\n",
       "  {'max_depth': 23},\n",
       "  {'max_depth': 40},\n",
       "  {'max_depth': 14},\n",
       "  {'max_depth': 1},\n",
       "  {'max_depth': 47},\n",
       "  {'max_depth': 20},\n",
       "  {'max_depth': 19},\n",
       "  {'max_depth': 33},\n",
       "  {'max_depth': 9},\n",
       "  {'max_depth': 36},\n",
       "  {'max_depth': 34},\n",
       "  {'max_depth': 21},\n",
       "  {'max_depth': 24},\n",
       "  {'max_depth': 48},\n",
       "  {'max_depth': 49},\n",
       "  {'max_depth': 32},\n",
       "  {'max_depth': 5}],\n",
       " 'split0_test_score': array([0.4695765 , 0.48086206, 0.4695765 , 0.4695765 , 0.4695765 ,\n",
       "        0.48353277, 0.6014649 , 0.4695765 , 0.4695765 , 0.4695765 ,\n",
       "        0.4695765 , 0.56068938, 0.4695765 , 0.4695765 , 0.4695765 ,\n",
       "        0.4695765 , 0.4695765 , 0.4695765 , 0.4695765 , 0.69842077]),\n",
       " 'split1_test_score': array([0.40104568, 0.42176977, 0.39953361, 0.40104568, 0.40104568,\n",
       "        0.42809133, 0.65396824, 0.40104568, 0.40104568, 0.40104568,\n",
       "        0.40104568, 0.44563084, 0.40104568, 0.40104568, 0.40104568,\n",
       "        0.40104568, 0.40104568, 0.40104568, 0.40104568, 0.63262634]),\n",
       " 'split2_test_score': array([0.60872062, 0.61242699, 0.60872062, 0.60872062, 0.60872062,\n",
       "        0.60852687, 0.52409274, 0.60872062, 0.60872062, 0.60872062,\n",
       "        0.60872062, 0.68309928, 0.60872062, 0.60872062, 0.60872062,\n",
       "        0.60872062, 0.60872062, 0.60872062, 0.60872062, 0.72656258]),\n",
       " 'split3_test_score': array([0.38979836, 0.40070304, 0.38979836, 0.38979836, 0.38979836,\n",
       "        0.4186349 , 0.5872338 , 0.38979836, 0.38979836, 0.38979836,\n",
       "        0.38979836, 0.49884569, 0.38979836, 0.38979836, 0.38979836,\n",
       "        0.38979836, 0.38979836, 0.38979836, 0.38979836, 0.55425506]),\n",
       " 'split4_test_score': array([0.50798866, 0.54241531, 0.50798866, 0.50798866, 0.50798866,\n",
       "        0.54471705, 0.53909907, 0.50798866, 0.50798866, 0.50798866,\n",
       "        0.50798866, 0.61563877, 0.50798866, 0.50798866, 0.50798866,\n",
       "        0.50798866, 0.50798866, 0.50798866, 0.50798866, 0.72794541]),\n",
       " 'split5_test_score': array([0.54918162, 0.54509925, 0.55361231, 0.54918162, 0.54918162,\n",
       "        0.54164493, 0.49155761, 0.54918162, 0.54918162, 0.54918162,\n",
       "        0.54918162, 0.54475883, 0.54918162, 0.54918162, 0.54918162,\n",
       "        0.54918162, 0.54918162, 0.54918162, 0.54918162, 0.670206  ]),\n",
       " 'split6_test_score': array([0.54061488, 0.5505306 , 0.54062066, 0.54061488, 0.54061488,\n",
       "        0.54104427, 0.61146084, 0.54061488, 0.54061488, 0.54050758,\n",
       "        0.54061488, 0.59575693, 0.54061488, 0.54061488, 0.54061488,\n",
       "        0.54061488, 0.54061488, 0.54061488, 0.54061488, 0.69790477]),\n",
       " 'split7_test_score': array([0.27256883, 0.27931613, 0.27533411, 0.27256883, 0.27256883,\n",
       "        0.29428829, 0.51872299, 0.27256883, 0.27279291, 0.27216686,\n",
       "        0.27256883, 0.46586443, 0.27256883, 0.27256883, 0.27256883,\n",
       "        0.27256883, 0.27256883, 0.27256883, 0.27256883, 0.60060926]),\n",
       " 'split8_test_score': array([0.10656511, 0.13226841, 0.1064642 , 0.10656511, 0.10656511,\n",
       "        0.19425195, 0.45031821, 0.10656511, 0.10656511, 0.10656511,\n",
       "        0.10656511, 0.23751387, 0.10656511, 0.10656511, 0.10656511,\n",
       "        0.10656511, 0.10656511, 0.10656511, 0.10656511, 0.29075661]),\n",
       " 'split9_test_score': array([0.22608904, 0.25352229, 0.22299136, 0.22608904, 0.22608904,\n",
       "        0.2559379 , 0.32237809, 0.22608904, 0.23082122, 0.23049049,\n",
       "        0.22608904, 0.26767498, 0.22608904, 0.22608904, 0.23045776,\n",
       "        0.22608904, 0.22608904, 0.22608904, 0.22608904, 0.51822282]),\n",
       " 'mean_test_score': array([0.40721493, 0.42189138, 0.40746404, 0.40721493, 0.40721493,\n",
       "        0.43106702, 0.53002965, 0.40721493, 0.40771056, 0.40760415,\n",
       "        0.40721493, 0.4915473 , 0.40721493, 0.40721493, 0.4076518 ,\n",
       "        0.40721493, 0.40721493, 0.40721493, 0.40721493, 0.61175096]),\n",
       " 'std_test_score': array([0.15305777, 0.14800064, 0.15362999, 0.15305777, 0.15305777,\n",
       "        0.13308151, 0.0903137 , 0.15305777, 0.15248351, 0.15256803,\n",
       "        0.15305777, 0.13712607, 0.15305777, 0.15305777, 0.15254554,\n",
       "        0.15305777, 0.15305777, 0.15305777, 0.15305777, 0.12676142]),\n",
       " 'rank_test_score': array([10,  5,  9, 10, 10,  4,  2, 10,  6,  8, 10,  3, 10, 10,  7, 10, 10,\n",
       "        10, 10,  1])}"
      ]
     },
     "execution_count": 18,
     "metadata": {},
     "output_type": "execute_result"
    }
   ],
   "source": [
    "# 관련 정보들\n",
    "model.cv_results_"
   ]
  },
  {
   "cell_type": "markdown",
   "metadata": {
    "id": "B4jrNv7tSLHE"
   },
   "source": [
    "- 이 중 중요한 정보를만 추출해서 확인합니다.\n",
    "- 다음 3가지는 꼭 기억해야 합니다.\n",
    "    - model.cv_results_['mean_test_score']: 테스트로 얻은 성능\n",
    "    - model.best_params_: 최적의 파라미터\n",
    "    - model.best_score_: 최고의 성능"
   ]
  },
  {
   "cell_type": "code",
   "execution_count": 19,
   "metadata": {
    "id": "JBSJkCx6Jl5w"
   },
   "outputs": [
    {
     "name": "stdout",
     "output_type": "stream",
     "text": [
      "======================================================================\n",
      "[50 15 18 23 40 14 1 47 20 19 33 9 36 34 21 24 48 49 32 5]\n",
      "----------------------------------------------------------------------\n",
      "[0.40721493 0.42189138 0.40746404 0.40721493 0.40721493 0.43106702\n",
      " 0.53002965 0.40721493 0.40771056 0.40760415 0.40721493 0.4915473\n",
      " 0.40721493 0.40721493 0.4076518  0.40721493 0.40721493 0.40721493\n",
      " 0.40721493 0.61175096]\n",
      "----------------------------------------------------------------------\n",
      "최적파라미터: {'max_depth': 5}\n",
      "----------------------------------------------------------------------\n",
      "최고성능: 0.6117509619179523\n",
      "======================================================================\n"
     ]
    }
   ],
   "source": [
    "# 중요 정보 확인\n",
    "print('=' * 70)\n",
    "print(model.cv_results_['param_max_depth'].data)\n",
    "print('-' * 70)\n",
    "print(model.cv_results_['mean_test_score'])\n",
    "print('-' * 70)\n",
    "print('최적파라미터:', model.best_params_)\n",
    "print('-' * 70)\n",
    "print('최고성능:', model.best_score_)\n",
    "print('=' * 70)"
   ]
  },
  {
   "cell_type": "markdown",
   "metadata": {
    "id": "pEAV-w_RSO5d"
   },
   "source": [
    "- 성능 정보를 시각화해 파라미터에 따른 성능 변화를 확인합니다."
   ]
  },
  {
   "cell_type": "code",
   "execution_count": 20,
   "metadata": {
    "id": "ZFXtDbd7KjBA"
   },
   "outputs": [
    {
     "name": "stdout",
     "output_type": "stream",
     "text": [
      "{'max_depth': 5}\n"
     ]
    },
    {
     "data": {
      "image/png": "[encoded data removed]",
      "text/plain": [
       "<Figure size 720x360 with 1 Axes>"
      ]
     },
     "metadata": {
      "needs_background": "light"
     },
     "output_type": "display_data"
    }
   ],
   "source": [
    "# 데이터프레임으로 변환\n",
    "tmp = pd.DataFrame()\n",
    "tmp['depth'] = model.cv_results_['param_max_depth'].data\n",
    "tmp['score'] = model.cv_results_['mean_test_score']\n",
    "tmp.sort_values(by='depth', ascending=True, inplace=True)\n",
    "print(model.best_params_)\n",
    "\n",
    "# 시각화\n",
    "plt.figure(figsize=(10, 5))\n",
    "plt.plot(tmp['depth'], tmp['score'])\n",
    "plt.axvline(model.best_params_['max_depth'], color='r')\n",
    "plt.show()"
   ]
  },
  {
   "cell_type": "markdown",
   "metadata": {
    "id": "iCnH_1KtB97j"
   },
   "source": [
    "**3) 예측과 평가**\n",
    "\n",
    "- 학습을 통해 예상한 성능과 실제 평가에 따른 성능은 차이가 있을 수 있습니다.\n",
    "- 예선전에서 성적이 좋았다고 본선에서도 성적이 좋다고 보장할 수 없는 없겠지요?"
   ]
  },
  {
   "cell_type": "code",
   "execution_count": 21,
   "metadata": {
    "id": "hL4VPE0ZbFYR"
   },
   "outputs": [],
   "source": [
    "# 예측하기\n",
    "\n",
    "y_pred = model.predict(x_test)"
   ]
  },
  {
   "cell_type": "code",
   "execution_count": 22,
   "metadata": {
    "id": "R1j5TCkObFYS"
   },
   "outputs": [
    {
     "name": "stdout",
     "output_type": "stream",
     "text": [
      "MAE : 0.6072155238529675\n",
      "R2 Score : 0.7169483336378495\n"
     ]
    }
   ],
   "source": [
    "# 평가하기\n",
    "\n",
    "print('MAE :', mean_absolute_error(y_test, y_pred))\n",
    "print('R2 Score :', r2_score(y_test, y_pred))"
   ]
  }
 ],
 "metadata": {
  "colab": {
   "collapsed_sections": [],
   "name": "ML05_01_RandomSearch(결정트리,Happy).ipynb",
   "provenance": []
  },
  "kernelspec": {
   "display_name": "Python 3",
   "language": "python",
   "name": "python3"
  },
  "language_info": {
   "codemirror_mode": {
    "name": "ipython",
    "version": 3
   },
   "file_extension": ".py",
   "mimetype": "text/x-python",
   "name": "python",
   "nbconvert_exporter": "python",
   "pygments_lexer": "ipython3",
   "version": "3.8.8"
  }
 },
 "nbformat": 4,
 "nbformat_minor": 1
}
