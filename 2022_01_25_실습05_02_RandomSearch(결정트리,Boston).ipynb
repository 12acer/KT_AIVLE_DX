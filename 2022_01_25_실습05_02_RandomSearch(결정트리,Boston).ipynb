{
 "cells": [
  {
   "cell_type": "markdown",
   "metadata": {
    "id": "y1J78TFSRrSA"
   },
   "source": [
    "<center><img src='https://raw.githubusercontent.com/Jangrae/img/master/ml_python.png' width=600/></center>"
   ]
  },
  {
   "cell_type": "markdown",
   "metadata": {
    "id": "30WC6LUaHGdk"
   },
   "source": [
    "# 실습 내용\n",
    "\n",
    "- Random Search로 Decision Tree 알고리즘 모델을 튜닝합니다.\n"
   ]
  },
  {
   "cell_type": "markdown",
   "metadata": {
    "id": "WW5MoKVRHuE8"
   },
   "source": [
    "# 1.환경 준비\n",
    "\n",
    "- 기본 라이브러리와 대상 데이터를 가져와 이후 과정을 준비합니다."
   ]
  },
  {
   "cell_type": "code",
   "execution_count": 1,
   "metadata": {
    "id": "BzJjQX4lNdJr",
    "scrolled": true
   },
   "outputs": [],
   "source": [
    "# 라이브러리 불러오기\n",
    "import numpy as np\n",
    "import pandas as pd\n",
    "import matplotlib.pyplot as plt"
   ]
  },
  {
   "cell_type": "code",
   "execution_count": 2,
   "metadata": {
    "id": "1yPDiJ4NNdJs"
   },
   "outputs": [],
   "source": [
    "# 데이터 읽어오기\n",
    "path = 'https://raw.githubusercontent.com/jangrae/csv/master/boston.csv'\n",
    "data = pd.read_csv(path)"
   ]
  },
  {
   "cell_type": "markdown",
   "metadata": {
    "id": "ZJOddHq2zfcU"
   },
   "source": [
    "# 2.데이터 이해\n",
    "\n",
    "- 분석할 데이터를 충분히 이해할 수 있도록 다양한 탐색 과정을 수행합니다."
   ]
  },
  {
   "cell_type": "code",
   "execution_count": 3,
   "metadata": {
    "id": "Wzs1nS348uwE"
   },
   "outputs": [
    {
     "data": {
      "text/html": [
       "<div>\n",
       "<style scoped>\n",
       "    .dataframe tbody tr th:only-of-type {\n",
       "        vertical-align: middle;\n",
       "    }\n",
       "\n",
       "    .dataframe tbody tr th {\n",
       "        vertical-align: top;\n",
       "    }\n",
       "\n",
       "    .dataframe thead th {\n",
       "        text-align: right;\n",
       "    }\n",
       "</style>\n",
       "<table border=\"1\" class=\"dataframe\">\n",
       "  <thead>\n",
       "    <tr style=\"text-align: right;\">\n",
       "      <th></th>\n",
       "      <th>crim</th>\n",
       "      <th>zn</th>\n",
       "      <th>indus</th>\n",
       "      <th>chas</th>\n",
       "      <th>nox</th>\n",
       "      <th>rm</th>\n",
       "      <th>age</th>\n",
       "      <th>dis</th>\n",
       "      <th>rad</th>\n",
       "      <th>tax</th>\n",
       "      <th>ptratio</th>\n",
       "      <th>black</th>\n",
       "      <th>lstat</th>\n",
       "      <th>medv</th>\n",
       "    </tr>\n",
       "  </thead>\n",
       "  <tbody>\n",
       "    <tr>\n",
       "      <th>0</th>\n",
       "      <td>0.00632</td>\n",
       "      <td>18.0</td>\n",
       "      <td>2.31</td>\n",
       "      <td>0</td>\n",
       "      <td>0.538</td>\n",
       "      <td>6.575</td>\n",
       "      <td>65.2</td>\n",
       "      <td>4.0900</td>\n",
       "      <td>1</td>\n",
       "      <td>296</td>\n",
       "      <td>15.3</td>\n",
       "      <td>396.90</td>\n",
       "      <td>4.98</td>\n",
       "      <td>24.0</td>\n",
       "    </tr>\n",
       "    <tr>\n",
       "      <th>1</th>\n",
       "      <td>0.02731</td>\n",
       "      <td>0.0</td>\n",
       "      <td>7.07</td>\n",
       "      <td>0</td>\n",
       "      <td>0.469</td>\n",
       "      <td>6.421</td>\n",
       "      <td>78.9</td>\n",
       "      <td>4.9671</td>\n",
       "      <td>2</td>\n",
       "      <td>242</td>\n",
       "      <td>17.8</td>\n",
       "      <td>396.90</td>\n",
       "      <td>9.14</td>\n",
       "      <td>21.6</td>\n",
       "    </tr>\n",
       "    <tr>\n",
       "      <th>2</th>\n",
       "      <td>0.02729</td>\n",
       "      <td>0.0</td>\n",
       "      <td>7.07</td>\n",
       "      <td>0</td>\n",
       "      <td>0.469</td>\n",
       "      <td>7.185</td>\n",
       "      <td>61.1</td>\n",
       "      <td>4.9671</td>\n",
       "      <td>2</td>\n",
       "      <td>242</td>\n",
       "      <td>17.8</td>\n",
       "      <td>392.83</td>\n",
       "      <td>4.03</td>\n",
       "      <td>34.7</td>\n",
       "    </tr>\n",
       "    <tr>\n",
       "      <th>3</th>\n",
       "      <td>0.03237</td>\n",
       "      <td>0.0</td>\n",
       "      <td>2.18</td>\n",
       "      <td>0</td>\n",
       "      <td>0.458</td>\n",
       "      <td>6.998</td>\n",
       "      <td>45.8</td>\n",
       "      <td>6.0622</td>\n",
       "      <td>3</td>\n",
       "      <td>222</td>\n",
       "      <td>18.7</td>\n",
       "      <td>394.63</td>\n",
       "      <td>2.94</td>\n",
       "      <td>33.4</td>\n",
       "    </tr>\n",
       "    <tr>\n",
       "      <th>4</th>\n",
       "      <td>0.06905</td>\n",
       "      <td>0.0</td>\n",
       "      <td>2.18</td>\n",
       "      <td>0</td>\n",
       "      <td>0.458</td>\n",
       "      <td>7.147</td>\n",
       "      <td>54.2</td>\n",
       "      <td>6.0622</td>\n",
       "      <td>3</td>\n",
       "      <td>222</td>\n",
       "      <td>18.7</td>\n",
       "      <td>396.90</td>\n",
       "      <td>5.33</td>\n",
       "      <td>36.2</td>\n",
       "    </tr>\n",
       "  </tbody>\n",
       "</table>\n",
       "</div>"
      ],
      "text/plain": [
       "      crim    zn  indus  chas    nox     rm   age     dis  rad  tax  ptratio  \\\n",
       "0  0.00632  18.0   2.31     0  0.538  6.575  65.2  4.0900    1  296     15.3   \n",
       "1  0.02731   0.0   7.07     0  0.469  6.421  78.9  4.9671    2  242     17.8   \n",
       "2  0.02729   0.0   7.07     0  0.469  7.185  61.1  4.9671    2  242     17.8   \n",
       "3  0.03237   0.0   2.18     0  0.458  6.998  45.8  6.0622    3  222     18.7   \n",
       "4  0.06905   0.0   2.18     0  0.458  7.147  54.2  6.0622    3  222     18.7   \n",
       "\n",
       "    black  lstat  medv  \n",
       "0  396.90   4.98  24.0  \n",
       "1  396.90   9.14  21.6  \n",
       "2  392.83   4.03  34.7  \n",
       "3  394.63   2.94  33.4  \n",
       "4  396.90   5.33  36.2  "
      ]
     },
     "execution_count": 3,
     "metadata": {},
     "output_type": "execute_result"
    }
   ],
   "source": [
    "# 상위 몇 개 행 확인\n",
    "data.head()"
   ]
  },
  {
   "cell_type": "code",
   "execution_count": 4,
   "metadata": {
    "id": "LhAk04Uy4Occ"
   },
   "outputs": [
    {
     "data": {
      "text/html": [
       "<div>\n",
       "<style scoped>\n",
       "    .dataframe tbody tr th:only-of-type {\n",
       "        vertical-align: middle;\n",
       "    }\n",
       "\n",
       "    .dataframe tbody tr th {\n",
       "        vertical-align: top;\n",
       "    }\n",
       "\n",
       "    .dataframe thead th {\n",
       "        text-align: right;\n",
       "    }\n",
       "</style>\n",
       "<table border=\"1\" class=\"dataframe\">\n",
       "  <thead>\n",
       "    <tr style=\"text-align: right;\">\n",
       "      <th></th>\n",
       "      <th>crim</th>\n",
       "      <th>zn</th>\n",
       "      <th>indus</th>\n",
       "      <th>chas</th>\n",
       "      <th>nox</th>\n",
       "      <th>rm</th>\n",
       "      <th>age</th>\n",
       "      <th>dis</th>\n",
       "      <th>rad</th>\n",
       "      <th>tax</th>\n",
       "      <th>ptratio</th>\n",
       "      <th>black</th>\n",
       "      <th>lstat</th>\n",
       "      <th>medv</th>\n",
       "    </tr>\n",
       "  </thead>\n",
       "  <tbody>\n",
       "    <tr>\n",
       "      <th>count</th>\n",
       "      <td>506.000000</td>\n",
       "      <td>506.000000</td>\n",
       "      <td>506.000000</td>\n",
       "      <td>506.000000</td>\n",
       "      <td>506.000000</td>\n",
       "      <td>506.000000</td>\n",
       "      <td>506.000000</td>\n",
       "      <td>506.000000</td>\n",
       "      <td>506.000000</td>\n",
       "      <td>506.000000</td>\n",
       "      <td>506.000000</td>\n",
       "      <td>506.000000</td>\n",
       "      <td>506.000000</td>\n",
       "      <td>506.000000</td>\n",
       "    </tr>\n",
       "    <tr>\n",
       "      <th>mean</th>\n",
       "      <td>3.613524</td>\n",
       "      <td>11.363636</td>\n",
       "      <td>11.136779</td>\n",
       "      <td>0.069170</td>\n",
       "      <td>0.554695</td>\n",
       "      <td>6.284634</td>\n",
       "      <td>68.574901</td>\n",
       "      <td>3.795043</td>\n",
       "      <td>9.549407</td>\n",
       "      <td>408.237154</td>\n",
       "      <td>18.455534</td>\n",
       "      <td>356.674032</td>\n",
       "      <td>12.653063</td>\n",
       "      <td>22.532806</td>\n",
       "    </tr>\n",
       "    <tr>\n",
       "      <th>std</th>\n",
       "      <td>8.601545</td>\n",
       "      <td>23.322453</td>\n",
       "      <td>6.860353</td>\n",
       "      <td>0.253994</td>\n",
       "      <td>0.115878</td>\n",
       "      <td>0.702617</td>\n",
       "      <td>28.148861</td>\n",
       "      <td>2.105710</td>\n",
       "      <td>8.707259</td>\n",
       "      <td>168.537116</td>\n",
       "      <td>2.164946</td>\n",
       "      <td>91.294864</td>\n",
       "      <td>7.141062</td>\n",
       "      <td>9.197104</td>\n",
       "    </tr>\n",
       "    <tr>\n",
       "      <th>min</th>\n",
       "      <td>0.006320</td>\n",
       "      <td>0.000000</td>\n",
       "      <td>0.460000</td>\n",
       "      <td>0.000000</td>\n",
       "      <td>0.385000</td>\n",
       "      <td>3.561000</td>\n",
       "      <td>2.900000</td>\n",
       "      <td>1.129600</td>\n",
       "      <td>1.000000</td>\n",
       "      <td>187.000000</td>\n",
       "      <td>12.600000</td>\n",
       "      <td>0.320000</td>\n",
       "      <td>1.730000</td>\n",
       "      <td>5.000000</td>\n",
       "    </tr>\n",
       "    <tr>\n",
       "      <th>25%</th>\n",
       "      <td>0.082045</td>\n",
       "      <td>0.000000</td>\n",
       "      <td>5.190000</td>\n",
       "      <td>0.000000</td>\n",
       "      <td>0.449000</td>\n",
       "      <td>5.885500</td>\n",
       "      <td>45.025000</td>\n",
       "      <td>2.100175</td>\n",
       "      <td>4.000000</td>\n",
       "      <td>279.000000</td>\n",
       "      <td>17.400000</td>\n",
       "      <td>375.377500</td>\n",
       "      <td>6.950000</td>\n",
       "      <td>17.025000</td>\n",
       "    </tr>\n",
       "    <tr>\n",
       "      <th>50%</th>\n",
       "      <td>0.256510</td>\n",
       "      <td>0.000000</td>\n",
       "      <td>9.690000</td>\n",
       "      <td>0.000000</td>\n",
       "      <td>0.538000</td>\n",
       "      <td>6.208500</td>\n",
       "      <td>77.500000</td>\n",
       "      <td>3.207450</td>\n",
       "      <td>5.000000</td>\n",
       "      <td>330.000000</td>\n",
       "      <td>19.050000</td>\n",
       "      <td>391.440000</td>\n",
       "      <td>11.360000</td>\n",
       "      <td>21.200000</td>\n",
       "    </tr>\n",
       "    <tr>\n",
       "      <th>75%</th>\n",
       "      <td>3.677083</td>\n",
       "      <td>12.500000</td>\n",
       "      <td>18.100000</td>\n",
       "      <td>0.000000</td>\n",
       "      <td>0.624000</td>\n",
       "      <td>6.623500</td>\n",
       "      <td>94.075000</td>\n",
       "      <td>5.188425</td>\n",
       "      <td>24.000000</td>\n",
       "      <td>666.000000</td>\n",
       "      <td>20.200000</td>\n",
       "      <td>396.225000</td>\n",
       "      <td>16.955000</td>\n",
       "      <td>25.000000</td>\n",
       "    </tr>\n",
       "    <tr>\n",
       "      <th>max</th>\n",
       "      <td>88.976200</td>\n",
       "      <td>100.000000</td>\n",
       "      <td>27.740000</td>\n",
       "      <td>1.000000</td>\n",
       "      <td>0.871000</td>\n",
       "      <td>8.780000</td>\n",
       "      <td>100.000000</td>\n",
       "      <td>12.126500</td>\n",
       "      <td>24.000000</td>\n",
       "      <td>711.000000</td>\n",
       "      <td>22.000000</td>\n",
       "      <td>396.900000</td>\n",
       "      <td>37.970000</td>\n",
       "      <td>50.000000</td>\n",
       "    </tr>\n",
       "  </tbody>\n",
       "</table>\n",
       "</div>"
      ],
      "text/plain": [
       "             crim          zn       indus        chas         nox          rm  \\\n",
       "count  506.000000  506.000000  506.000000  506.000000  506.000000  506.000000   \n",
       "mean     3.613524   11.363636   11.136779    0.069170    0.554695    6.284634   \n",
       "std      8.601545   23.322453    6.860353    0.253994    0.115878    0.702617   \n",
       "min      0.006320    0.000000    0.460000    0.000000    0.385000    3.561000   \n",
       "25%      0.082045    0.000000    5.190000    0.000000    0.449000    5.885500   \n",
       "50%      0.256510    0.000000    9.690000    0.000000    0.538000    6.208500   \n",
       "75%      3.677083   12.500000   18.100000    0.000000    0.624000    6.623500   \n",
       "max     88.976200  100.000000   27.740000    1.000000    0.871000    8.780000   \n",
       "\n",
       "              age         dis         rad         tax     ptratio       black  \\\n",
       "count  506.000000  506.000000  506.000000  506.000000  506.000000  506.000000   \n",
       "mean    68.574901    3.795043    9.549407  408.237154   18.455534  356.674032   \n",
       "std     28.148861    2.105710    8.707259  168.537116    2.164946   91.294864   \n",
       "min      2.900000    1.129600    1.000000  187.000000   12.600000    0.320000   \n",
       "25%     45.025000    2.100175    4.000000  279.000000   17.400000  375.377500   \n",
       "50%     77.500000    3.207450    5.000000  330.000000   19.050000  391.440000   \n",
       "75%     94.075000    5.188425   24.000000  666.000000   20.200000  396.225000   \n",
       "max    100.000000   12.126500   24.000000  711.000000   22.000000  396.900000   \n",
       "\n",
       "            lstat        medv  \n",
       "count  506.000000  506.000000  \n",
       "mean    12.653063   22.532806  \n",
       "std      7.141062    9.197104  \n",
       "min      1.730000    5.000000  \n",
       "25%      6.950000   17.025000  \n",
       "50%     11.360000   21.200000  \n",
       "75%     16.955000   25.000000  \n",
       "max     37.970000   50.000000  "
      ]
     },
     "execution_count": 4,
     "metadata": {},
     "output_type": "execute_result"
    }
   ],
   "source": [
    "# 기초통계량 확인\n",
    "data.describe()"
   ]
  },
  {
   "cell_type": "markdown",
   "metadata": {
    "id": "wW0d0eGmCYJM"
   },
   "source": [
    "# 3.데이터 준비\n",
    "\n",
    "- 전처리 과정을 통해 머신러닝 알고리즘에 사용할 수 있는 형태의 데이터를 준비합니다."
   ]
  },
  {
   "cell_type": "markdown",
   "metadata": {
    "id": "3cPr1J1RQyHa"
   },
   "source": [
    "**1) x, y 분리**"
   ]
  },
  {
   "cell_type": "code",
   "execution_count": 5,
   "metadata": {
    "id": "fK-oriQsQyHw"
   },
   "outputs": [],
   "source": [
    "# target 확인\n",
    "target = 'medv'\n",
    "\n",
    "# 데이터 분리\n",
    "x = data.drop(target, axis=1)\n",
    "y = data[target]"
   ]
  },
  {
   "cell_type": "markdown",
   "metadata": {
    "id": "nc6yw1RzQ7g1"
   },
   "source": [
    "**2) 학습용, 평가용 데이터 분리**"
   ]
  },
  {
   "cell_type": "code",
   "execution_count": 6,
   "metadata": {
    "id": "Kx7xyBwfQ35W"
   },
   "outputs": [
    {
     "name": "stdout",
     "output_type": "stream",
     "text": [
      "(354, 13)\n",
      "(152, 13)\n"
     ]
    }
   ],
   "source": [
    "# 모듈 불러오기\n",
    "from sklearn.model_selection import train_test_split\n",
    "\n",
    "# 데이터 분리\n",
    "x_train, x_test, y_train, y_test = train_test_split(x, y, test_size=0.3, random_state=2022)\n",
    "\n",
    "# 확인\n",
    "print(x_train.shape)\n",
    "print(x_test.shape)"
   ]
  },
  {
   "cell_type": "markdown",
   "metadata": {
    "id": "-GnkpAlFlezD"
   },
   "source": [
    "# 4.모델링\n",
    "\n",
    "- 본격적으로 모델을 선언하고 학습하고 평가하는 과정을 진행합니다.\n",
    "- 모델 선언시 max_depth=5, random_state=2022를 지정합니다."
   ]
  },
  {
   "cell_type": "code",
   "execution_count": 7,
   "metadata": {
    "id": "46LrmqgIqgN2"
   },
   "outputs": [],
   "source": [
    "# 불러오기\n",
    "\n",
    "from sklearn.tree import DecisionTreeRegressor\n",
    "from sklearn.metrics import mean_absolute_error, r2_score"
   ]
  },
  {
   "cell_type": "code",
   "execution_count": 8,
   "metadata": {
    "id": "pZ0QQiliqgN3"
   },
   "outputs": [],
   "source": [
    "# 선언하기\n",
    "\n",
    "model = DecisionTreeRegressor(max_depth=5, random_state=2022)"
   ]
  },
  {
   "cell_type": "code",
   "execution_count": 9,
   "metadata": {
    "id": "4FGBNX_RqgN4"
   },
   "outputs": [
    {
     "data": {
      "text/plain": [
       "DecisionTreeRegressor(max_depth=5, random_state=2022)"
      ]
     },
     "execution_count": 9,
     "metadata": {},
     "output_type": "execute_result"
    }
   ],
   "source": [
    "# 학습하기\n",
    "\n",
    "model.fit(x_train, y_train)"
   ]
  },
  {
   "cell_type": "code",
   "execution_count": 10,
   "metadata": {
    "id": "df-rQHcwqgN4"
   },
   "outputs": [],
   "source": [
    "# 예측하기\n",
    "\n",
    "y_pred = model.predict(x_test)"
   ]
  },
  {
   "cell_type": "code",
   "execution_count": 11,
   "metadata": {
    "id": "9owqlHRiqgN5"
   },
   "outputs": [
    {
     "name": "stdout",
     "output_type": "stream",
     "text": [
      "MAE: 3.2522706568198876\n",
      "R2-Score: 0.7147610837328198\n"
     ]
    }
   ],
   "source": [
    "# 평가하기\n",
    "\n",
    "print('MAE:', mean_absolute_error(y_test, y_pred))\n",
    "print('R2-Score:', r2_score(y_test, y_pred))"
   ]
  },
  {
   "cell_type": "markdown",
   "metadata": {
    "id": "m-EyKFHUtpI2"
   },
   "source": [
    "# 5.성능 튜닝\n",
    "\n",
    "\n",
    "- Random Search로 튜닝을 진행합니다. \n"
   ]
  },
  {
   "cell_type": "markdown",
   "metadata": {
    "id": "vFYPwKfxRAfx"
   },
   "source": [
    "**1) 모델링 & 튜닝**"
   ]
  },
  {
   "cell_type": "code",
   "execution_count": 12,
   "metadata": {
    "id": "V-PSKjBMbFYJ"
   },
   "outputs": [],
   "source": [
    "# 파라미터 선언\n",
    "  # max_depth: 1~50\n",
    "\n",
    "rand_param = {'max_depth':range(1, 51)}"
   ]
  },
  {
   "cell_type": "code",
   "execution_count": 13,
   "metadata": {
    "id": "Z6IU6K1YbFYM"
   },
   "outputs": [],
   "source": [
    "# 불러오기\n",
    "\n",
    "from sklearn.model_selection import RandomizedSearchCV\n",
    "from sklearn.model_selection import GridSearchCV"
   ]
  },
  {
   "cell_type": "code",
   "execution_count": 14,
   "metadata": {
    "id": "G8AGCijmbFYN"
   },
   "outputs": [],
   "source": [
    "# 선언하기\n",
    "model_dst = DecisionTreeRegressor(random_state=2022)\n",
    "\n",
    "# Random Search 선언\n",
    "  # cv=10\n",
    "  # n_iter=30\n",
    "  # scoring='r2'\n",
    "model = RandomizedSearchCV(model_dst,\n",
    "                          rand_param, \n",
    "                          cv=10, \n",
    "                          n_iter=30,\n",
    "                          scoring='r2', \n",
    "                          n_jobs=-1)"
   ]
  },
  {
   "cell_type": "code",
   "execution_count": 15,
   "metadata": {
    "id": "HFVR5ILFbFYO"
   },
   "outputs": [
    {
     "data": {
      "text/plain": [
       "RandomizedSearchCV(cv=10, estimator=DecisionTreeRegressor(random_state=2022),\n",
       "                   n_iter=30, n_jobs=-1,\n",
       "                   param_distributions={'max_depth': range(1, 51)},\n",
       "                   scoring='r2')"
      ]
     },
     "execution_count": 15,
     "metadata": {},
     "output_type": "execute_result"
    }
   ],
   "source": [
    "# 학습하기\n",
    "\n",
    "model.fit(x_train, y_train)"
   ]
  },
  {
   "cell_type": "markdown",
   "metadata": {
    "id": "1BLGo4F2Hjio"
   },
   "source": [
    "**2) 결과 확인**"
   ]
  },
  {
   "cell_type": "code",
   "execution_count": 16,
   "metadata": {
    "id": "hdzj0QqHcGU6",
    "scrolled": false
   },
   "outputs": [
    {
     "data": {
      "text/plain": [
       "{'mean_fit_time': array([0.01107044, 0.01216784, 0.01067286, 0.01206596, 0.00748115,\n",
       "        0.00967333, 0.0094743 , 0.0136631 , 0.00977256, 0.01206658,\n",
       "        0.01196754, 0.01126895, 0.01186786, 0.01107028, 0.00997286,\n",
       "        0.00678177, 0.00997283, 0.01087036, 0.01296473, 0.00648274,\n",
       "        0.01206665, 0.00987363, 0.00997314, 0.00817738, 0.01316438,\n",
       "        0.01226728, 0.01805091, 0.01037152, 0.01376262, 0.01033728]),\n",
       " 'std_fit_time': array([0.00137217, 0.00139722, 0.0016108 , 0.0018619 , 0.00102348,\n",
       "        0.00077899, 0.00102165, 0.00889852, 0.00107421, 0.00346835,\n",
       "        0.00401421, 0.00240438, 0.00257945, 0.00379608, 0.00089199,\n",
       "        0.00139605, 0.0020438 , 0.00319968, 0.00388844, 0.00066917,\n",
       "        0.00242118, 0.00094112, 0.00089223, 0.00171622, 0.00417934,\n",
       "        0.00726163, 0.02300485, 0.00119573, 0.01046694, 0.00307898]),\n",
       " 'mean_score_time': array([0.00458686, 0.00518656, 0.00598278, 0.0050864 , 0.00408831,\n",
       "        0.00388987, 0.00468764, 0.00389061, 0.00418961, 0.00418973,\n",
       "        0.00538628, 0.00418897, 0.00797882, 0.0041888 , 0.00379021,\n",
       "        0.00389025, 0.00458801, 0.00498695, 0.00488758, 0.00518596,\n",
       "        0.00578544, 0.00418866, 0.00438828, 0.00418909, 0.00548565,\n",
       "        0.00688117, 0.00478745, 0.00398991, 0.00369005, 0.00442295]),\n",
       " 'std_score_time': array([0.00091424, 0.00139693, 0.00154579, 0.00137201, 0.00053785,\n",
       "        0.00029932, 0.00184203, 0.00069848, 0.00059851, 0.00039905,\n",
       "        0.00253228, 0.0003989 , 0.00876298, 0.0008694 , 0.0005983 ,\n",
       "        0.00069792, 0.0012778 , 0.00204431, 0.00144176, 0.00243496,\n",
       "        0.00226589, 0.00059855, 0.0007981 , 0.00074624, 0.00331517,\n",
       "        0.0033805 , 0.00124629, 0.00077183, 0.00045766, 0.00159398]),\n",
       " 'param_max_depth': masked_array(data=[25, 31, 9, 33, 4, 16, 17, 15, 21, 24, 27, 49, 20, 35,\n",
       "                    46, 1, 19, 48, 40, 3, 42, 38, 23, 6, 29, 5, 39, 32, 37,\n",
       "                    18],\n",
       "              mask=[False, False, False, False, False, False, False, False,\n",
       "                    False, False, False, False, False, False, False, False,\n",
       "                    False, False, False, False, False, False, False, False,\n",
       "                    False, False, False, False, False, False],\n",
       "        fill_value='?',\n",
       "             dtype=object),\n",
       " 'params': [{'max_depth': 25},\n",
       "  {'max_depth': 31},\n",
       "  {'max_depth': 9},\n",
       "  {'max_depth': 33},\n",
       "  {'max_depth': 4},\n",
       "  {'max_depth': 16},\n",
       "  {'max_depth': 17},\n",
       "  {'max_depth': 15},\n",
       "  {'max_depth': 21},\n",
       "  {'max_depth': 24},\n",
       "  {'max_depth': 27},\n",
       "  {'max_depth': 49},\n",
       "  {'max_depth': 20},\n",
       "  {'max_depth': 35},\n",
       "  {'max_depth': 46},\n",
       "  {'max_depth': 1},\n",
       "  {'max_depth': 19},\n",
       "  {'max_depth': 48},\n",
       "  {'max_depth': 40},\n",
       "  {'max_depth': 3},\n",
       "  {'max_depth': 42},\n",
       "  {'max_depth': 38},\n",
       "  {'max_depth': 23},\n",
       "  {'max_depth': 6},\n",
       "  {'max_depth': 29},\n",
       "  {'max_depth': 5},\n",
       "  {'max_depth': 39},\n",
       "  {'max_depth': 32},\n",
       "  {'max_depth': 37},\n",
       "  {'max_depth': 18}],\n",
       " 'split0_test_score': array([0.8218737 , 0.8218737 , 0.83457009, 0.8218737 , 0.84976308,\n",
       "        0.81747677, 0.80460053, 0.79198455, 0.8218737 , 0.8218737 ,\n",
       "        0.8218737 , 0.8218737 , 0.8218737 , 0.8218737 , 0.8218737 ,\n",
       "        0.25128453, 0.8218737 , 0.8218737 , 0.8218737 , 0.7815458 ,\n",
       "        0.8218737 , 0.8218737 , 0.8218737 , 0.79788356, 0.8218737 ,\n",
       "        0.87111301, 0.8218737 , 0.8218737 , 0.8218737 , 0.82097657]),\n",
       " 'split1_test_score': array([ 0.74465874,  0.74465874,  0.75713104,  0.74465874,  0.63194801,\n",
       "         0.72983229,  0.73729892,  0.7677084 ,  0.71665764,  0.74465874,\n",
       "         0.74465874,  0.74465874,  0.75438311,  0.74465874,  0.74465874,\n",
       "        -0.28620953,  0.74419702,  0.74465874,  0.74465874,  0.59193002,\n",
       "         0.74465874,  0.74465874,  0.74465874,  0.7451739 ,  0.74465874,\n",
       "         0.67960224,  0.74465874,  0.74465874,  0.74465874,  0.74452352]),\n",
       " 'split2_test_score': array([0.82708527, 0.82708527, 0.86245112, 0.82708527, 0.87357106,\n",
       "        0.81180774, 0.81081994, 0.8498871 , 0.82708527, 0.82708527,\n",
       "        0.82708527, 0.82708527, 0.82708527, 0.82708527, 0.82708527,\n",
       "        0.40381641, 0.82708527, 0.82708527, 0.82708527, 0.80744528,\n",
       "        0.82708527, 0.82708527, 0.82708527, 0.8441566 , 0.82708527,\n",
       "        0.8892746 , 0.82708527, 0.82708527, 0.82708527, 0.85153602]),\n",
       " 'split3_test_score': array([0.63038326, 0.63038326, 0.73612696, 0.63038326, 0.74985903,\n",
       "        0.60903043, 0.62565997, 0.71720119, 0.63038326, 0.63038326,\n",
       "        0.63038326, 0.63038326, 0.63038326, 0.63038326, 0.63038326,\n",
       "        0.44033411, 0.63038326, 0.63038326, 0.63038326, 0.78231102,\n",
       "        0.63038326, 0.63038326, 0.63038326, 0.82525954, 0.63038326,\n",
       "        0.73151296, 0.63038326, 0.63038326, 0.63038326, 0.64929425]),\n",
       " 'split4_test_score': array([0.65803077, 0.65803077, 0.6952997 , 0.65803077, 0.68071711,\n",
       "        0.67702832, 0.69185742, 0.70186279, 0.65803077, 0.65803077,\n",
       "        0.65803077, 0.65803077, 0.65803077, 0.65803077, 0.65803077,\n",
       "        0.21012519, 0.66278344, 0.65803077, 0.65803077, 0.46160697,\n",
       "        0.65803077, 0.65803077, 0.65803077, 0.70927117, 0.65803077,\n",
       "        0.71133203, 0.65803077, 0.65803077, 0.65803077, 0.68734422]),\n",
       " 'split5_test_score': array([0.24408602, 0.24408602, 0.27154643, 0.24408602, 0.2776042 ,\n",
       "        0.27260215, 0.25380971, 0.21979114, 0.24408602, 0.24408602,\n",
       "        0.24408602, 0.24408602, 0.24408602, 0.24408602, 0.24408602,\n",
       "        0.49947084, 0.22910848, 0.24408602, 0.24408602, 0.23505467,\n",
       "        0.24408602, 0.24408602, 0.24408602, 0.27158277, 0.24408602,\n",
       "        0.27742407, 0.24408602, 0.24408602, 0.24408602, 0.27624494]),\n",
       " 'split6_test_score': array([0.49464545, 0.49464545, 0.8317143 , 0.49464545, 0.59011285,\n",
       "        0.49464545, 0.49464545, 0.657707  , 0.49464545, 0.49464545,\n",
       "        0.49464545, 0.49464545, 0.49464545, 0.49464545, 0.49464545,\n",
       "        0.40968549, 0.49464545, 0.49464545, 0.49464545, 0.75561232,\n",
       "        0.49464545, 0.49464545, 0.49464545, 0.85204648, 0.49464545,\n",
       "        0.81011926, 0.49464545, 0.49464545, 0.49464545, 0.49464545]),\n",
       " 'split7_test_score': array([0.83895094, 0.83895094, 0.57137008, 0.83895094, 0.71713923,\n",
       "        0.81594545, 0.55872951, 0.50551501, 0.83895094, 0.83895094,\n",
       "        0.83895094, 0.83895094, 0.83895094, 0.83895094, 0.83895094,\n",
       "        0.58172086, 0.56489233, 0.83895094, 0.83895094, 0.71258989,\n",
       "        0.83895094, 0.83895094, 0.83895094, 0.76390584, 0.83895094,\n",
       "        0.79980946, 0.83895094, 0.83895094, 0.83895094, 0.81234369]),\n",
       " 'split8_test_score': array([0.57627473, 0.57627473, 0.7529331 , 0.57627473, 0.8244997 ,\n",
       "        0.79445768, 0.57301234, 0.80211484, 0.57627473, 0.57627473,\n",
       "        0.57627473, 0.57627473, 0.57627473, 0.57627473, 0.57627473,\n",
       "        0.4809138 , 0.58207975, 0.57627473, 0.57627473, 0.80355477,\n",
       "        0.57627473, 0.57627473, 0.57627473, 0.81023969, 0.57627473,\n",
       "        0.78132883, 0.57627473, 0.57627473, 0.57627473, 0.69821538]),\n",
       " 'split9_test_score': array([0.8683238 , 0.8683238 , 0.88039131, 0.8683238 , 0.8639189 ,\n",
       "        0.86168032, 0.86131212, 0.85551842, 0.83076433, 0.8683238 ,\n",
       "        0.8683238 , 0.8683238 , 0.87134742, 0.8683238 , 0.8683238 ,\n",
       "        0.50783991, 0.84731244, 0.8683238 , 0.8683238 , 0.81626226,\n",
       "        0.8683238 , 0.8683238 , 0.85442677, 0.88634111, 0.8683238 ,\n",
       "        0.88279065, 0.8683238 , 0.8683238 , 0.8683238 , 0.86293626]),\n",
       " 'mean_test_score': array([0.67043127, 0.67043127, 0.71935341, 0.67043127, 0.70591332,\n",
       "        0.68845066, 0.64117459, 0.68692905, 0.66387521, 0.67043127,\n",
       "        0.67043127, 0.67043127, 0.67170607, 0.67043127, 0.67043127,\n",
       "        0.34989816, 0.64043612, 0.67043127, 0.67043127, 0.6747913 ,\n",
       "        0.67043127, 0.67043127, 0.66904156, 0.75058607, 0.67043127,\n",
       "        0.74343071, 0.67043127, 0.67043127, 0.67043127, 0.68980603]),\n",
       " 'std_test_score': array([0.18542905, 0.18542905, 0.17267161, 0.18542905, 0.17112913,\n",
       "        0.17550116, 0.17290549, 0.18410042, 0.18071577, 0.18542905,\n",
       "        0.18542905, 0.18542905, 0.18616313, 0.18542905, 0.18542905,\n",
       "        0.23807119, 0.17929857, 0.18542905, 0.18542905, 0.18187655,\n",
       "        0.18542905, 0.18542905, 0.1839872 , 0.16739433, 0.18542905,\n",
       "        0.16984264, 0.18542905, 0.18542905, 0.18542905, 0.17383448]),\n",
       " 'rank_test_score': array([10, 10,  3, 10,  4,  6, 28,  7, 27, 10, 10, 10,  9, 10, 10, 30, 29,\n",
       "        10, 10,  8, 10, 10, 26,  1, 10,  2, 10, 10, 10,  5])}"
      ]
     },
     "execution_count": 16,
     "metadata": {},
     "output_type": "execute_result"
    }
   ],
   "source": [
    "# mean_test_score 확인\n",
    "\n",
    "model.cv_results_"
   ]
  },
  {
   "cell_type": "code",
   "execution_count": 17,
   "metadata": {
    "id": "5qd6p43-bFYP"
   },
   "outputs": [
    {
     "name": "stdout",
     "output_type": "stream",
     "text": [
      "{'max_depth': 6}\n"
     ]
    }
   ],
   "source": [
    "# 최적 파라미터\n",
    "\n",
    "print(model.best_params_)"
   ]
  },
  {
   "cell_type": "code",
   "execution_count": 18,
   "metadata": {
    "id": "jrJ4YsmMbFYQ"
   },
   "outputs": [
    {
     "name": "stdout",
     "output_type": "stream",
     "text": [
      "0.750586066038991\n"
     ]
    }
   ],
   "source": [
    "# 최적 파라미터 사용시 성능\n",
    "\n",
    "print(model.best_score_)"
   ]
  },
  {
   "cell_type": "markdown",
   "metadata": {
    "id": "iCnH_1KtB97j"
   },
   "source": [
    "**3) 예측과 평가**\n",
    "\n",
    "- 학습을 통해 예상한 성능과 실제 평가에 따른 성능은 차이가 있을 수 있습니다.\n",
    "- 예선전에서 성적이 좋았다고 본선에서도 성적이 좋다고 보장할 수 없는 없겠지요?"
   ]
  },
  {
   "cell_type": "code",
   "execution_count": 19,
   "metadata": {
    "id": "hL4VPE0ZbFYR"
   },
   "outputs": [],
   "source": [
    "# 예측하기\n",
    "\n",
    "y_pred = model.predict(x_test)"
   ]
  },
  {
   "cell_type": "code",
   "execution_count": 20,
   "metadata": {
    "id": "R1j5TCkObFYS"
   },
   "outputs": [
    {
     "name": "stdout",
     "output_type": "stream",
     "text": [
      "3.289997930052067\n",
      "0.7155124286118656\n"
     ]
    }
   ],
   "source": [
    "# 평가하기\n",
    "\n",
    "print(mean_absolute_error(y_test, y_pred))\n",
    "print(r2_score(y_test, y_pred))"
   ]
  },
  {
   "cell_type": "markdown",
   "metadata": {
    "id": "m-EyKFHUtpI2"
   },
   "source": [
    "# 6.성능 튜닝\n",
    "\n",
    "\n",
    "- Grid Search로 튜닝을 진행합니다. \n"
   ]
  },
  {
   "cell_type": "markdown",
   "metadata": {
    "id": "vFYPwKfxRAfx"
   },
   "source": [
    "**1) 모델링 & 튜닝**"
   ]
  },
  {
   "cell_type": "code",
   "execution_count": 21,
   "metadata": {
    "id": "V-PSKjBMbFYJ"
   },
   "outputs": [],
   "source": [
    "# 파라미터 선언\n",
    "  # max_depth: 1~50\n",
    "\n",
    "grid_param = {'max_depth':range(1,51)}"
   ]
  },
  {
   "cell_type": "code",
   "execution_count": 22,
   "metadata": {
    "id": "Z6IU6K1YbFYM"
   },
   "outputs": [],
   "source": [
    "# 불러오기\n",
    "\n",
    "from sklearn.model_selection import GridSearchCV"
   ]
  },
  {
   "cell_type": "code",
   "execution_count": 23,
   "metadata": {
    "id": "G8AGCijmbFYN"
   },
   "outputs": [],
   "source": [
    "# 선언하기\n",
    "model_grid = DecisionTreeRegressor(random_state=2022)\n",
    "\n",
    "# Random Search 선언\n",
    "  # cv=10\n",
    "  # n_iter=30\n",
    "  # scoring='r2'\n",
    "model = GridSearchCV(model_grid,\n",
    "                     grid_param, \n",
    "                     cv=10,\n",
    "                     scoring='r2', \n",
    "                     n_jobs=-1)"
   ]
  },
  {
   "cell_type": "code",
   "execution_count": 24,
   "metadata": {
    "id": "HFVR5ILFbFYO"
   },
   "outputs": [
    {
     "data": {
      "text/plain": [
       "GridSearchCV(cv=10, estimator=DecisionTreeRegressor(random_state=2022),\n",
       "             n_jobs=-1, param_grid={'max_depth': range(1, 51)}, scoring='r2')"
      ]
     },
     "execution_count": 24,
     "metadata": {},
     "output_type": "execute_result"
    }
   ],
   "source": [
    "# 학습하기\n",
    "\n",
    "model.fit(x_train, y_train)"
   ]
  },
  {
   "cell_type": "markdown",
   "metadata": {
    "id": "1BLGo4F2Hjio"
   },
   "source": [
    "**2) 결과 확인**"
   ]
  },
  {
   "cell_type": "code",
   "execution_count": 25,
   "metadata": {
    "id": "hdzj0QqHcGU6",
    "scrolled": false
   },
   "outputs": [
    {
     "data": {
      "text/plain": [
       "array([0.34989816, 0.64387954, 0.6747913 , 0.70591332, 0.74343071,\n",
       "       0.75058607, 0.71479741, 0.72103549, 0.71935341, 0.69424064,\n",
       "       0.684109  , 0.68481433, 0.66897665, 0.71325998, 0.68692905,\n",
       "       0.68845066, 0.64117459, 0.68980603, 0.64043612, 0.67170607,\n",
       "       0.66387521, 0.66814223, 0.66904156, 0.67043127, 0.67043127,\n",
       "       0.67043127, 0.67043127, 0.67043127, 0.67043127, 0.67043127,\n",
       "       0.67043127, 0.67043127, 0.67043127, 0.67043127, 0.67043127,\n",
       "       0.67043127, 0.67043127, 0.67043127, 0.67043127, 0.67043127,\n",
       "       0.67043127, 0.67043127, 0.67043127, 0.67043127, 0.67043127,\n",
       "       0.67043127, 0.67043127, 0.67043127, 0.67043127, 0.67043127])"
      ]
     },
     "execution_count": 25,
     "metadata": {},
     "output_type": "execute_result"
    }
   ],
   "source": [
    "# mean_test_score 확인\n",
    "\n",
    "model.cv_results_['mean_test_score']"
   ]
  },
  {
   "cell_type": "code",
   "execution_count": 26,
   "metadata": {
    "id": "5qd6p43-bFYP"
   },
   "outputs": [
    {
     "name": "stdout",
     "output_type": "stream",
     "text": [
      "{'max_depth': 6}\n"
     ]
    }
   ],
   "source": [
    "# 최적 파라미터\n",
    "\n",
    "print(model.best_params_)"
   ]
  },
  {
   "cell_type": "code",
   "execution_count": 27,
   "metadata": {
    "id": "jrJ4YsmMbFYQ"
   },
   "outputs": [
    {
     "name": "stdout",
     "output_type": "stream",
     "text": [
      "0.750586066038991\n"
     ]
    }
   ],
   "source": [
    "# 최적 파라미터 사용시 성능\n",
    "\n",
    "print(model.best_score_)"
   ]
  },
  {
   "cell_type": "markdown",
   "metadata": {
    "id": "iCnH_1KtB97j"
   },
   "source": [
    "**3) 예측과 평가**\n",
    "\n",
    "- 학습을 통해 예상한 성능과 실제 평가에 따른 성능은 차이가 있을 수 있습니다.\n",
    "- 예선전에서 성적이 좋았다고 본선에서도 성적이 좋다고 보장할 수 없는 없겠지요?"
   ]
  },
  {
   "cell_type": "code",
   "execution_count": 28,
   "metadata": {
    "id": "hL4VPE0ZbFYR"
   },
   "outputs": [],
   "source": [
    "# 예측하기\n",
    "\n",
    "y_pred = model.predict(x_test)"
   ]
  },
  {
   "cell_type": "code",
   "execution_count": 29,
   "metadata": {
    "id": "R1j5TCkObFYS"
   },
   "outputs": [
    {
     "name": "stdout",
     "output_type": "stream",
     "text": [
      "3.289997930052067\n",
      "0.7155124286118656\n"
     ]
    }
   ],
   "source": [
    "# 평가하기\n",
    "\n",
    "print(mean_absolute_error(y_test, y_pred))\n",
    "print(r2_score(y_test, y_pred))"
   ]
  }
 ],
 "metadata": {
  "colab": {
   "collapsed_sections": [],
   "name": "실습05_02_RandomSearch(결정트리,Boston).ipynb",
   "provenance": [],
   "toc_visible": true
  },
  "kernelspec": {
   "display_name": "Python 3",
   "language": "python",
   "name": "python3"
  },
  "language_info": {
   "codemirror_mode": {
    "name": "ipython",
    "version": 3
   },
   "file_extension": ".py",
   "mimetype": "text/x-python",
   "name": "python",
   "nbconvert_exporter": "python",
   "pygments_lexer": "ipython3",
   "version": "3.8.8"
  }
 },
 "nbformat": 4,
 "nbformat_minor": 1
}
