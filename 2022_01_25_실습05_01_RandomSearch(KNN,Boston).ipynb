{
 "cells": [
  {
   "cell_type": "markdown",
   "metadata": {
    "id": "y1J78TFSRrSA"
   },
   "source": [
    "<center><img src='https://raw.githubusercontent.com/Jangrae/img/master/ml_python.png' width=600/></center>"
   ]
  },
  {
   "cell_type": "markdown",
   "metadata": {
    "id": "30WC6LUaHGdk"
   },
   "source": [
    "# 실습 내용\n",
    "\n",
    "- Random Search로 KNN 알고리즘 모델을 튜닝합니다."
   ]
  },
  {
   "cell_type": "markdown",
   "metadata": {
    "id": "WW5MoKVRHuE8"
   },
   "source": [
    "# 1.환경 준비\n",
    "\n",
    "- 기본 라이브러리와 대상 데이터를 가져와 이후 과정을 준비합니다."
   ]
  },
  {
   "cell_type": "code",
   "execution_count": 1,
   "metadata": {
    "id": "BzJjQX4lNdJr",
    "scrolled": true
   },
   "outputs": [],
   "source": [
    "# 라이브러리 불러오기\n",
    "import numpy as np\n",
    "import pandas as pd\n",
    "import matplotlib.pyplot as plt"
   ]
  },
  {
   "cell_type": "code",
   "execution_count": 2,
   "metadata": {
    "id": "1yPDiJ4NNdJs"
   },
   "outputs": [],
   "source": [
    "# 데이터 읽어오기\n",
    "path = 'https://raw.githubusercontent.com/jangrae/csv/master/boston.csv'\n",
    "data = pd.read_csv(path)"
   ]
  },
  {
   "cell_type": "markdown",
   "metadata": {
    "id": "ZJOddHq2zfcU"
   },
   "source": [
    "# 2.데이터 이해\n",
    "\n",
    "- 분석할 데이터를 충분히 이해할 수 있도록 다양한 탐색 과정을 수행합니다."
   ]
  },
  {
   "cell_type": "code",
   "execution_count": 3,
   "metadata": {
    "id": "Wzs1nS348uwE"
   },
   "outputs": [
    {
     "data": {
      "text/html": [
       "<div>\n",
       "<style scoped>\n",
       "    .dataframe tbody tr th:only-of-type {\n",
       "        vertical-align: middle;\n",
       "    }\n",
       "\n",
       "    .dataframe tbody tr th {\n",
       "        vertical-align: top;\n",
       "    }\n",
       "\n",
       "    .dataframe thead th {\n",
       "        text-align: right;\n",
       "    }\n",
       "</style>\n",
       "<table border=\"1\" class=\"dataframe\">\n",
       "  <thead>\n",
       "    <tr style=\"text-align: right;\">\n",
       "      <th></th>\n",
       "      <th>crim</th>\n",
       "      <th>zn</th>\n",
       "      <th>indus</th>\n",
       "      <th>chas</th>\n",
       "      <th>nox</th>\n",
       "      <th>rm</th>\n",
       "      <th>age</th>\n",
       "      <th>dis</th>\n",
       "      <th>rad</th>\n",
       "      <th>tax</th>\n",
       "      <th>ptratio</th>\n",
       "      <th>black</th>\n",
       "      <th>lstat</th>\n",
       "      <th>medv</th>\n",
       "    </tr>\n",
       "  </thead>\n",
       "  <tbody>\n",
       "    <tr>\n",
       "      <th>0</th>\n",
       "      <td>0.00632</td>\n",
       "      <td>18.0</td>\n",
       "      <td>2.31</td>\n",
       "      <td>0</td>\n",
       "      <td>0.538</td>\n",
       "      <td>6.575</td>\n",
       "      <td>65.2</td>\n",
       "      <td>4.0900</td>\n",
       "      <td>1</td>\n",
       "      <td>296</td>\n",
       "      <td>15.3</td>\n",
       "      <td>396.90</td>\n",
       "      <td>4.98</td>\n",
       "      <td>24.0</td>\n",
       "    </tr>\n",
       "    <tr>\n",
       "      <th>1</th>\n",
       "      <td>0.02731</td>\n",
       "      <td>0.0</td>\n",
       "      <td>7.07</td>\n",
       "      <td>0</td>\n",
       "      <td>0.469</td>\n",
       "      <td>6.421</td>\n",
       "      <td>78.9</td>\n",
       "      <td>4.9671</td>\n",
       "      <td>2</td>\n",
       "      <td>242</td>\n",
       "      <td>17.8</td>\n",
       "      <td>396.90</td>\n",
       "      <td>9.14</td>\n",
       "      <td>21.6</td>\n",
       "    </tr>\n",
       "    <tr>\n",
       "      <th>2</th>\n",
       "      <td>0.02729</td>\n",
       "      <td>0.0</td>\n",
       "      <td>7.07</td>\n",
       "      <td>0</td>\n",
       "      <td>0.469</td>\n",
       "      <td>7.185</td>\n",
       "      <td>61.1</td>\n",
       "      <td>4.9671</td>\n",
       "      <td>2</td>\n",
       "      <td>242</td>\n",
       "      <td>17.8</td>\n",
       "      <td>392.83</td>\n",
       "      <td>4.03</td>\n",
       "      <td>34.7</td>\n",
       "    </tr>\n",
       "    <tr>\n",
       "      <th>3</th>\n",
       "      <td>0.03237</td>\n",
       "      <td>0.0</td>\n",
       "      <td>2.18</td>\n",
       "      <td>0</td>\n",
       "      <td>0.458</td>\n",
       "      <td>6.998</td>\n",
       "      <td>45.8</td>\n",
       "      <td>6.0622</td>\n",
       "      <td>3</td>\n",
       "      <td>222</td>\n",
       "      <td>18.7</td>\n",
       "      <td>394.63</td>\n",
       "      <td>2.94</td>\n",
       "      <td>33.4</td>\n",
       "    </tr>\n",
       "    <tr>\n",
       "      <th>4</th>\n",
       "      <td>0.06905</td>\n",
       "      <td>0.0</td>\n",
       "      <td>2.18</td>\n",
       "      <td>0</td>\n",
       "      <td>0.458</td>\n",
       "      <td>7.147</td>\n",
       "      <td>54.2</td>\n",
       "      <td>6.0622</td>\n",
       "      <td>3</td>\n",
       "      <td>222</td>\n",
       "      <td>18.7</td>\n",
       "      <td>396.90</td>\n",
       "      <td>5.33</td>\n",
       "      <td>36.2</td>\n",
       "    </tr>\n",
       "  </tbody>\n",
       "</table>\n",
       "</div>"
      ],
      "text/plain": [
       "      crim    zn  indus  chas    nox     rm   age     dis  rad  tax  ptratio  \\\n",
       "0  0.00632  18.0   2.31     0  0.538  6.575  65.2  4.0900    1  296     15.3   \n",
       "1  0.02731   0.0   7.07     0  0.469  6.421  78.9  4.9671    2  242     17.8   \n",
       "2  0.02729   0.0   7.07     0  0.469  7.185  61.1  4.9671    2  242     17.8   \n",
       "3  0.03237   0.0   2.18     0  0.458  6.998  45.8  6.0622    3  222     18.7   \n",
       "4  0.06905   0.0   2.18     0  0.458  7.147  54.2  6.0622    3  222     18.7   \n",
       "\n",
       "    black  lstat  medv  \n",
       "0  396.90   4.98  24.0  \n",
       "1  396.90   9.14  21.6  \n",
       "2  392.83   4.03  34.7  \n",
       "3  394.63   2.94  33.4  \n",
       "4  396.90   5.33  36.2  "
      ]
     },
     "execution_count": 3,
     "metadata": {},
     "output_type": "execute_result"
    }
   ],
   "source": [
    "# 상위 몇 개 행 확인\n",
    "data.head()"
   ]
  },
  {
   "cell_type": "code",
   "execution_count": 4,
   "metadata": {
    "id": "LhAk04Uy4Occ"
   },
   "outputs": [
    {
     "data": {
      "text/html": [
       "<div>\n",
       "<style scoped>\n",
       "    .dataframe tbody tr th:only-of-type {\n",
       "        vertical-align: middle;\n",
       "    }\n",
       "\n",
       "    .dataframe tbody tr th {\n",
       "        vertical-align: top;\n",
       "    }\n",
       "\n",
       "    .dataframe thead th {\n",
       "        text-align: right;\n",
       "    }\n",
       "</style>\n",
       "<table border=\"1\" class=\"dataframe\">\n",
       "  <thead>\n",
       "    <tr style=\"text-align: right;\">\n",
       "      <th></th>\n",
       "      <th>crim</th>\n",
       "      <th>zn</th>\n",
       "      <th>indus</th>\n",
       "      <th>chas</th>\n",
       "      <th>nox</th>\n",
       "      <th>rm</th>\n",
       "      <th>age</th>\n",
       "      <th>dis</th>\n",
       "      <th>rad</th>\n",
       "      <th>tax</th>\n",
       "      <th>ptratio</th>\n",
       "      <th>black</th>\n",
       "      <th>lstat</th>\n",
       "      <th>medv</th>\n",
       "    </tr>\n",
       "  </thead>\n",
       "  <tbody>\n",
       "    <tr>\n",
       "      <th>count</th>\n",
       "      <td>506.000000</td>\n",
       "      <td>506.000000</td>\n",
       "      <td>506.000000</td>\n",
       "      <td>506.000000</td>\n",
       "      <td>506.000000</td>\n",
       "      <td>506.000000</td>\n",
       "      <td>506.000000</td>\n",
       "      <td>506.000000</td>\n",
       "      <td>506.000000</td>\n",
       "      <td>506.000000</td>\n",
       "      <td>506.000000</td>\n",
       "      <td>506.000000</td>\n",
       "      <td>506.000000</td>\n",
       "      <td>506.000000</td>\n",
       "    </tr>\n",
       "    <tr>\n",
       "      <th>mean</th>\n",
       "      <td>3.613524</td>\n",
       "      <td>11.363636</td>\n",
       "      <td>11.136779</td>\n",
       "      <td>0.069170</td>\n",
       "      <td>0.554695</td>\n",
       "      <td>6.284634</td>\n",
       "      <td>68.574901</td>\n",
       "      <td>3.795043</td>\n",
       "      <td>9.549407</td>\n",
       "      <td>408.237154</td>\n",
       "      <td>18.455534</td>\n",
       "      <td>356.674032</td>\n",
       "      <td>12.653063</td>\n",
       "      <td>22.532806</td>\n",
       "    </tr>\n",
       "    <tr>\n",
       "      <th>std</th>\n",
       "      <td>8.601545</td>\n",
       "      <td>23.322453</td>\n",
       "      <td>6.860353</td>\n",
       "      <td>0.253994</td>\n",
       "      <td>0.115878</td>\n",
       "      <td>0.702617</td>\n",
       "      <td>28.148861</td>\n",
       "      <td>2.105710</td>\n",
       "      <td>8.707259</td>\n",
       "      <td>168.537116</td>\n",
       "      <td>2.164946</td>\n",
       "      <td>91.294864</td>\n",
       "      <td>7.141062</td>\n",
       "      <td>9.197104</td>\n",
       "    </tr>\n",
       "    <tr>\n",
       "      <th>min</th>\n",
       "      <td>0.006320</td>\n",
       "      <td>0.000000</td>\n",
       "      <td>0.460000</td>\n",
       "      <td>0.000000</td>\n",
       "      <td>0.385000</td>\n",
       "      <td>3.561000</td>\n",
       "      <td>2.900000</td>\n",
       "      <td>1.129600</td>\n",
       "      <td>1.000000</td>\n",
       "      <td>187.000000</td>\n",
       "      <td>12.600000</td>\n",
       "      <td>0.320000</td>\n",
       "      <td>1.730000</td>\n",
       "      <td>5.000000</td>\n",
       "    </tr>\n",
       "    <tr>\n",
       "      <th>25%</th>\n",
       "      <td>0.082045</td>\n",
       "      <td>0.000000</td>\n",
       "      <td>5.190000</td>\n",
       "      <td>0.000000</td>\n",
       "      <td>0.449000</td>\n",
       "      <td>5.885500</td>\n",
       "      <td>45.025000</td>\n",
       "      <td>2.100175</td>\n",
       "      <td>4.000000</td>\n",
       "      <td>279.000000</td>\n",
       "      <td>17.400000</td>\n",
       "      <td>375.377500</td>\n",
       "      <td>6.950000</td>\n",
       "      <td>17.025000</td>\n",
       "    </tr>\n",
       "    <tr>\n",
       "      <th>50%</th>\n",
       "      <td>0.256510</td>\n",
       "      <td>0.000000</td>\n",
       "      <td>9.690000</td>\n",
       "      <td>0.000000</td>\n",
       "      <td>0.538000</td>\n",
       "      <td>6.208500</td>\n",
       "      <td>77.500000</td>\n",
       "      <td>3.207450</td>\n",
       "      <td>5.000000</td>\n",
       "      <td>330.000000</td>\n",
       "      <td>19.050000</td>\n",
       "      <td>391.440000</td>\n",
       "      <td>11.360000</td>\n",
       "      <td>21.200000</td>\n",
       "    </tr>\n",
       "    <tr>\n",
       "      <th>75%</th>\n",
       "      <td>3.677083</td>\n",
       "      <td>12.500000</td>\n",
       "      <td>18.100000</td>\n",
       "      <td>0.000000</td>\n",
       "      <td>0.624000</td>\n",
       "      <td>6.623500</td>\n",
       "      <td>94.075000</td>\n",
       "      <td>5.188425</td>\n",
       "      <td>24.000000</td>\n",
       "      <td>666.000000</td>\n",
       "      <td>20.200000</td>\n",
       "      <td>396.225000</td>\n",
       "      <td>16.955000</td>\n",
       "      <td>25.000000</td>\n",
       "    </tr>\n",
       "    <tr>\n",
       "      <th>max</th>\n",
       "      <td>88.976200</td>\n",
       "      <td>100.000000</td>\n",
       "      <td>27.740000</td>\n",
       "      <td>1.000000</td>\n",
       "      <td>0.871000</td>\n",
       "      <td>8.780000</td>\n",
       "      <td>100.000000</td>\n",
       "      <td>12.126500</td>\n",
       "      <td>24.000000</td>\n",
       "      <td>711.000000</td>\n",
       "      <td>22.000000</td>\n",
       "      <td>396.900000</td>\n",
       "      <td>37.970000</td>\n",
       "      <td>50.000000</td>\n",
       "    </tr>\n",
       "  </tbody>\n",
       "</table>\n",
       "</div>"
      ],
      "text/plain": [
       "             crim          zn       indus        chas         nox          rm  \\\n",
       "count  506.000000  506.000000  506.000000  506.000000  506.000000  506.000000   \n",
       "mean     3.613524   11.363636   11.136779    0.069170    0.554695    6.284634   \n",
       "std      8.601545   23.322453    6.860353    0.253994    0.115878    0.702617   \n",
       "min      0.006320    0.000000    0.460000    0.000000    0.385000    3.561000   \n",
       "25%      0.082045    0.000000    5.190000    0.000000    0.449000    5.885500   \n",
       "50%      0.256510    0.000000    9.690000    0.000000    0.538000    6.208500   \n",
       "75%      3.677083   12.500000   18.100000    0.000000    0.624000    6.623500   \n",
       "max     88.976200  100.000000   27.740000    1.000000    0.871000    8.780000   \n",
       "\n",
       "              age         dis         rad         tax     ptratio       black  \\\n",
       "count  506.000000  506.000000  506.000000  506.000000  506.000000  506.000000   \n",
       "mean    68.574901    3.795043    9.549407  408.237154   18.455534  356.674032   \n",
       "std     28.148861    2.105710    8.707259  168.537116    2.164946   91.294864   \n",
       "min      2.900000    1.129600    1.000000  187.000000   12.600000    0.320000   \n",
       "25%     45.025000    2.100175    4.000000  279.000000   17.400000  375.377500   \n",
       "50%     77.500000    3.207450    5.000000  330.000000   19.050000  391.440000   \n",
       "75%     94.075000    5.188425   24.000000  666.000000   20.200000  396.225000   \n",
       "max    100.000000   12.126500   24.000000  711.000000   22.000000  396.900000   \n",
       "\n",
       "            lstat        medv  \n",
       "count  506.000000  506.000000  \n",
       "mean    12.653063   22.532806  \n",
       "std      7.141062    9.197104  \n",
       "min      1.730000    5.000000  \n",
       "25%      6.950000   17.025000  \n",
       "50%     11.360000   21.200000  \n",
       "75%     16.955000   25.000000  \n",
       "max     37.970000   50.000000  "
      ]
     },
     "execution_count": 4,
     "metadata": {},
     "output_type": "execute_result"
    }
   ],
   "source": [
    "# 기초통계량 확인\n",
    "data.describe()"
   ]
  },
  {
   "cell_type": "markdown",
   "metadata": {
    "id": "wW0d0eGmCYJM"
   },
   "source": [
    "# 3.데이터 준비\n",
    "\n",
    "- 전처리 과정을 통해 머신러닝 알고리즘에 사용할 수 있는 형태의 데이터를 준비합니다."
   ]
  },
  {
   "cell_type": "markdown",
   "metadata": {
    "id": "BE_0rwxPdErC"
   },
   "source": [
    "**1) x, y 분리**"
   ]
  },
  {
   "cell_type": "code",
   "execution_count": 5,
   "metadata": {
    "id": "Ops0CDL2dEDe"
   },
   "outputs": [],
   "source": [
    "# target 확인\n",
    "target = 'medv'\n",
    "\n",
    "# 데이터 분리\n",
    "x = data.drop(target, axis=1)\n",
    "y = data[target]"
   ]
  },
  {
   "cell_type": "markdown",
   "metadata": {
    "id": "JjjZSPSuOwRP"
   },
   "source": [
    "**2) 정규화**"
   ]
  },
  {
   "cell_type": "code",
   "execution_count": 6,
   "metadata": {
    "id": "dX6C8Fd7O41y"
   },
   "outputs": [],
   "source": [
    "# 정규화\n",
    "x = (x - x.min()) / (x.max() - x.min())"
   ]
  },
  {
   "cell_type": "markdown",
   "metadata": {
    "id": "Rsd5dNuLBHn7"
   },
   "source": [
    "**3) 학습용, 평가용 데이터 분리**"
   ]
  },
  {
   "cell_type": "code",
   "execution_count": 7,
   "metadata": {
    "id": "uHnuBUJu8uwz"
   },
   "outputs": [],
   "source": [
    "# 모듈 불러오기\n",
    "from sklearn.model_selection import train_test_split\n",
    "\n",
    "# 데이터 분리\n",
    "x_train, x_test, y_train, y_test = train_test_split(x, y, test_size=0.3, random_state=2022)"
   ]
  },
  {
   "cell_type": "markdown",
   "metadata": {
    "id": "-GnkpAlFlezD"
   },
   "source": [
    "# 4.모델링\n",
    "\n",
    "- 본격적으로 모델을 선언하고 학습하고 평가하는 과정을 진행합니다.\n",
    "- 모델 선언시 n_neighbors=5를 지정합니다."
   ]
  },
  {
   "cell_type": "code",
   "execution_count": 8,
   "metadata": {
    "id": "46LrmqgIqgN2"
   },
   "outputs": [],
   "source": [
    "# 불러오기\n",
    "\n",
    "from sklearn.neighbors import KNeighborsRegressor\n",
    "from sklearn.metrics import mean_absolute_error, r2_score"
   ]
  },
  {
   "cell_type": "code",
   "execution_count": 9,
   "metadata": {
    "id": "pZ0QQiliqgN3"
   },
   "outputs": [],
   "source": [
    "# 선언하기\n",
    "\n",
    "model = KNeighborsRegressor(n_neighbors=5)"
   ]
  },
  {
   "cell_type": "code",
   "execution_count": 10,
   "metadata": {
    "id": "4FGBNX_RqgN4"
   },
   "outputs": [
    {
     "data": {
      "text/plain": [
       "KNeighborsRegressor()"
      ]
     },
     "execution_count": 10,
     "metadata": {},
     "output_type": "execute_result"
    }
   ],
   "source": [
    "# 학습하기\n",
    "\n",
    "model.fit(x_train, y_train)"
   ]
  },
  {
   "cell_type": "code",
   "execution_count": 11,
   "metadata": {
    "id": "df-rQHcwqgN4"
   },
   "outputs": [],
   "source": [
    "# 예측하기\n",
    "\n",
    "y_pred = model.predict(x_test)"
   ]
  },
  {
   "cell_type": "code",
   "execution_count": 12,
   "metadata": {
    "id": "9owqlHRiqgN5"
   },
   "outputs": [
    {
     "name": "stdout",
     "output_type": "stream",
     "text": [
      "3.0527631578947365\n",
      "0.7860470863341451\n"
     ]
    }
   ],
   "source": [
    "# 평가하기\n",
    "\n",
    "print(mean_absolute_error(y_test, y_pred))\n",
    "print(r2_score(y_test, y_pred))"
   ]
  },
  {
   "cell_type": "markdown",
   "metadata": {
    "id": "89nQo--3NaTH"
   },
   "source": [
    "# 5.성능 튜닝\n",
    "\n",
    "\n",
    "- Random Search로 튜닝을 진행합니다. "
   ]
  },
  {
   "cell_type": "markdown",
   "metadata": {
    "id": "BYr1vtpd8uw4"
   },
   "source": [
    "**1) 모델링 & 튜닝**"
   ]
  },
  {
   "cell_type": "code",
   "execution_count": 13,
   "metadata": {
    "id": "uw_0xzoRqSWa"
   },
   "outputs": [
    {
     "data": {
      "text/plain": [
       "{'n_neighbors': range(3, 51)}"
      ]
     },
     "execution_count": 13,
     "metadata": {},
     "output_type": "execute_result"
    }
   ],
   "source": [
    "# 파라미터 선언\n",
    "  # n_neighbors: range(3, 51)\n",
    "rand_param = {'n_neighbors':range(3,51)}\n",
    "\n",
    "# 확인\n",
    "rand_param"
   ]
  },
  {
   "cell_type": "code",
   "execution_count": 14,
   "metadata": {
    "id": "ajzFNkf6qwRf"
   },
   "outputs": [],
   "source": [
    "# 불러오기\n",
    "\n",
    "from sklearn.model_selection import RandomizedSearchCV"
   ]
  },
  {
   "cell_type": "code",
   "execution_count": 15,
   "metadata": {
    "id": "aycGcFmIq2aq"
   },
   "outputs": [],
   "source": [
    "# 선언하기\n",
    "model_knn = KNeighborsRegressor(n_neighbors=5)\n",
    "\n",
    "# Random Search 선언\n",
    "  # cv=10\n",
    "  # n_iter=30\n",
    "  # scoring='r2'\n",
    "model = RandomizedSearchCV(model_knn,    \n",
    "                           rand_param,    \n",
    "                           cv=10,       \n",
    "                           n_iter=30,    \n",
    "                           scoring='r2', \n",
    "                           n_jobs=-1)     "
   ]
  },
  {
   "cell_type": "code",
   "execution_count": 16,
   "metadata": {},
   "outputs": [
    {
     "data": {
      "text/plain": [
       "{'algorithm': 'auto',\n",
       " 'leaf_size': 30,\n",
       " 'metric': 'minkowski',\n",
       " 'metric_params': None,\n",
       " 'n_jobs': None,\n",
       " 'n_neighbors': 5,\n",
       " 'p': 2,\n",
       " 'weights': 'uniform'}"
      ]
     },
     "execution_count": 16,
     "metadata": {},
     "output_type": "execute_result"
    }
   ],
   "source": [
    "model_knn.get_params()"
   ]
  },
  {
   "cell_type": "code",
   "execution_count": 17,
   "metadata": {
    "id": "LzX7OxZnoatr",
    "scrolled": false
   },
   "outputs": [
    {
     "data": {
      "text/plain": [
       "RandomizedSearchCV(cv=10, estimator=KNeighborsRegressor(), n_iter=30, n_jobs=-1,\n",
       "                   param_distributions={'n_neighbors': range(3, 51)},\n",
       "                   scoring='r2')"
      ]
     },
     "execution_count": 17,
     "metadata": {},
     "output_type": "execute_result"
    }
   ],
   "source": [
    "# 학습하기\n",
    "\n",
    "model.fit(x_train, y_train)"
   ]
  },
  {
   "cell_type": "markdown",
   "metadata": {
    "id": "vDRU_TFkHG6D"
   },
   "source": [
    "**2) 결과 확인**"
   ]
  },
  {
   "cell_type": "code",
   "execution_count": 18,
   "metadata": {
    "id": "QXQ53v8KKax3",
    "scrolled": false
   },
   "outputs": [
    {
     "data": {
      "text/plain": [
       "{'mean_fit_time': array([0.00846629, 0.00767851, 0.00844254, 0.0067466 , 0.00895078,\n",
       "        0.00644231, 0.0120295 , 0.00716846, 0.00770602, 0.00671229,\n",
       "        0.0114743 , 0.00786135, 0.00769644, 0.00786638, 0.00755322,\n",
       "        0.01057239, 0.00599716, 0.00623796, 0.00819521, 0.00705829,\n",
       "        0.0072608 , 0.00788605, 0.01060848, 0.00728865, 0.01102777,\n",
       "        0.00751858, 0.0082957 , 0.00742245, 0.00904255, 0.00762522]),\n",
       " 'std_fit_time': array([0.00195082, 0.00172607, 0.00309357, 0.00171802, 0.00256931,\n",
       "        0.00150024, 0.01198561, 0.00204136, 0.0018652 , 0.00205249,\n",
       "        0.00946149, 0.00211417, 0.00189583, 0.00229158, 0.00187637,\n",
       "        0.00874915, 0.00101026, 0.00126816, 0.00225526, 0.00293783,\n",
       "        0.00183691, 0.0024649 , 0.00405077, 0.00190567, 0.00341418,\n",
       "        0.00308544, 0.00250414, 0.00187442, 0.00287842, 0.00249711]),\n",
       " 'mean_score_time': array([0.00749846, 0.00829394, 0.00986347, 0.00918152, 0.00642264,\n",
       "        0.01053166, 0.0102284 , 0.00722442, 0.00579698, 0.00701723,\n",
       "        0.00657215, 0.00662661, 0.00688424, 0.00827162, 0.00563436,\n",
       "        0.01009302, 0.00638149, 0.00570588, 0.0062048 , 0.00724814,\n",
       "        0.00679471, 0.00739303, 0.00753965, 0.00664349, 0.00663943,\n",
       "        0.00676155, 0.00562723, 0.00741553, 0.00783274, 0.00593841]),\n",
       " 'std_score_time': array([0.00191743, 0.00219895, 0.00548536, 0.00412749, 0.00155929,\n",
       "        0.00456951, 0.00744183, 0.00312268, 0.00124627, 0.0018909 ,\n",
       "        0.00273882, 0.00282704, 0.00298319, 0.00439026, 0.00114369,\n",
       "        0.00364523, 0.00151893, 0.00140203, 0.00151283, 0.00212137,\n",
       "        0.00234912, 0.0020008 , 0.00353574, 0.00283274, 0.00221704,\n",
       "        0.00128207, 0.00119181, 0.00301588, 0.00555814, 0.00136054]),\n",
       " 'param_n_neighbors': masked_array(data=[8, 12, 47, 38, 19, 29, 28, 44, 42, 40, 4, 45, 18, 46,\n",
       "                    5, 39, 14, 17, 25, 31, 48, 35, 10, 34, 6, 13, 30, 23,\n",
       "                    16, 3],\n",
       "              mask=[False, False, False, False, False, False, False, False,\n",
       "                    False, False, False, False, False, False, False, False,\n",
       "                    False, False, False, False, False, False, False, False,\n",
       "                    False, False, False, False, False, False],\n",
       "        fill_value='?',\n",
       "             dtype=object),\n",
       " 'params': [{'n_neighbors': 8},\n",
       "  {'n_neighbors': 12},\n",
       "  {'n_neighbors': 47},\n",
       "  {'n_neighbors': 38},\n",
       "  {'n_neighbors': 19},\n",
       "  {'n_neighbors': 29},\n",
       "  {'n_neighbors': 28},\n",
       "  {'n_neighbors': 44},\n",
       "  {'n_neighbors': 42},\n",
       "  {'n_neighbors': 40},\n",
       "  {'n_neighbors': 4},\n",
       "  {'n_neighbors': 45},\n",
       "  {'n_neighbors': 18},\n",
       "  {'n_neighbors': 46},\n",
       "  {'n_neighbors': 5},\n",
       "  {'n_neighbors': 39},\n",
       "  {'n_neighbors': 14},\n",
       "  {'n_neighbors': 17},\n",
       "  {'n_neighbors': 25},\n",
       "  {'n_neighbors': 31},\n",
       "  {'n_neighbors': 48},\n",
       "  {'n_neighbors': 35},\n",
       "  {'n_neighbors': 10},\n",
       "  {'n_neighbors': 34},\n",
       "  {'n_neighbors': 6},\n",
       "  {'n_neighbors': 13},\n",
       "  {'n_neighbors': 30},\n",
       "  {'n_neighbors': 23},\n",
       "  {'n_neighbors': 16},\n",
       "  {'n_neighbors': 3}],\n",
       " 'split0_test_score': array([0.42880022, 0.4353998 , 0.31099045, 0.35950422, 0.42530047,\n",
       "        0.39008421, 0.40139356, 0.3225854 , 0.33220405, 0.34630513,\n",
       "        0.40716976, 0.3246141 , 0.43328291, 0.32383908, 0.36715057,\n",
       "        0.35350187, 0.42526491, 0.42473355, 0.40958253, 0.38686553,\n",
       "        0.29915534, 0.36912424, 0.46324102, 0.37905367, 0.3267763 ,\n",
       "        0.42727123, 0.38658318, 0.40552119, 0.42432733, 0.39008049]),\n",
       " 'split1_test_score': array([0.64567178, 0.68392197, 0.61125546, 0.67108836, 0.70358408,\n",
       "        0.70909318, 0.70776586, 0.63219882, 0.6490767 , 0.66139043,\n",
       "        0.72424971, 0.63218444, 0.70811265, 0.62341163, 0.67693985,\n",
       "        0.66425652, 0.68652745, 0.68091182, 0.72008135, 0.69827141,\n",
       "        0.6021549 , 0.67450954, 0.68497386, 0.68387231, 0.68566015,\n",
       "        0.67987817, 0.70153937, 0.71262191, 0.6909473 , 0.74436671]),\n",
       " 'split2_test_score': array([0.62423206, 0.60687014, 0.52897153, 0.58745619, 0.5978132 ,\n",
       "        0.58018611, 0.58544211, 0.54916284, 0.55531796, 0.56820604,\n",
       "        0.72428508, 0.54299369, 0.61077079, 0.53428225, 0.66740487,\n",
       "        0.57693392, 0.61331806, 0.61918087, 0.5742471 , 0.58989028,\n",
       "        0.52734662, 0.59758725, 0.61169149, 0.59876772, 0.64834011,\n",
       "        0.61706496, 0.58724909, 0.58873928, 0.63137512, 0.7207825 ]),\n",
       " 'split3_test_score': array([0.689046  , 0.76777843, 0.54647653, 0.56162176, 0.68848941,\n",
       "        0.65147829, 0.67014041, 0.54608642, 0.55929794, 0.55712482,\n",
       "        0.84577419, 0.55628394, 0.68387759, 0.5607269 , 0.73962399,\n",
       "        0.55724996, 0.74920301, 0.67182772, 0.6930396 , 0.62498076,\n",
       "        0.53990827, 0.59678085, 0.75193484, 0.59515695, 0.63980426,\n",
       "        0.77051445, 0.62887814, 0.6931747 , 0.69679288, 0.82506268]),\n",
       " 'split4_test_score': array([0.53373659, 0.47314979, 0.21126833, 0.27035981, 0.3941163 ,\n",
       "        0.34258968, 0.34659944, 0.23449387, 0.25083592, 0.26693735,\n",
       "        0.63986265, 0.2267231 , 0.40089272, 0.21975691, 0.58467739,\n",
       "        0.2687519 , 0.44767703, 0.39322303, 0.36410577, 0.32903798,\n",
       "        0.20028784, 0.29699306, 0.49973106, 0.30269306, 0.62502795,\n",
       "        0.45966858, 0.33475207, 0.35413314, 0.40181877, 0.58725461]),\n",
       " 'split5_test_score': array([0.5395911 , 0.56526662, 0.60602548, 0.61788446, 0.63118737,\n",
       "        0.64405796, 0.64675312, 0.61093433, 0.61450062, 0.62400667,\n",
       "        0.57094315, 0.60810661, 0.62201058, 0.60859429, 0.47964806,\n",
       "        0.61944322, 0.61207049, 0.61248284, 0.63949894, 0.62626725,\n",
       "        0.60855889, 0.62320153, 0.54605874, 0.62077443, 0.39784416,\n",
       "        0.59660758, 0.62927481, 0.64469077, 0.62591287, 0.63360828]),\n",
       " 'split6_test_score': array([0.55754885, 0.57227035, 0.4797974 , 0.50314766, 0.52759045,\n",
       "        0.50472995, 0.50768225, 0.48870016, 0.48049316, 0.49817206,\n",
       "        0.72191733, 0.48421035, 0.52290495, 0.48519775, 0.68490351,\n",
       "        0.50619035, 0.55964467, 0.54654563, 0.50291928, 0.50089633,\n",
       "        0.47104609, 0.50353161, 0.54557103, 0.5145776 , 0.6283829 ,\n",
       "        0.58062946, 0.5040745 , 0.49865385, 0.53874677, 0.74601471]),\n",
       " 'split7_test_score': array([0.48452749, 0.47685905, 0.29729384, 0.32919569, 0.42706976,\n",
       "        0.38824062, 0.40089463, 0.30851115, 0.31374827, 0.31808478,\n",
       "        0.51809897, 0.30382269, 0.44320201, 0.29645592, 0.55404666,\n",
       "        0.32506614, 0.46525029, 0.45640847, 0.42572079, 0.36584047,\n",
       "        0.28871762, 0.33760813, 0.48000488, 0.34421387, 0.51237146,\n",
       "        0.47990777, 0.38188151, 0.41749357, 0.47760423, 0.60886233]),\n",
       " 'split8_test_score': array([0.66965005, 0.60839643, 0.42460166, 0.48170833, 0.5515386 ,\n",
       "        0.54373539, 0.54560785, 0.45834737, 0.47417961, 0.48392421,\n",
       "        0.77755334, 0.44527596, 0.55307411, 0.43613863, 0.77567643,\n",
       "        0.47618456, 0.53331418, 0.53955859, 0.53602524, 0.53224143,\n",
       "        0.42082868, 0.50025793, 0.64931515, 0.51143762, 0.75265507,\n",
       "        0.58373932, 0.53796743, 0.53206447, 0.52240768, 0.81964748]),\n",
       " 'split9_test_score': array([0.76926123, 0.73326413, 0.48210283, 0.56307418, 0.70534317,\n",
       "        0.6465353 , 0.65824118, 0.49850545, 0.52212502, 0.53882945,\n",
       "        0.85712109, 0.49466581, 0.7113251 , 0.48822547, 0.83437924,\n",
       "        0.55364798, 0.71994061, 0.70850168, 0.66899734, 0.62376234,\n",
       "        0.48002142, 0.58728946, 0.74834321, 0.59759299, 0.82770311,\n",
       "        0.73126159, 0.63210706, 0.67644307, 0.70361741, 0.8559436 ]),\n",
       " 'mean_test_score': array([0.59420654, 0.59231767, 0.44987835, 0.49450407, 0.56520328,\n",
       "        0.54007307, 0.54705204, 0.46495258, 0.47517792, 0.48629809,\n",
       "        0.67869753, 0.46188807, 0.56894534, 0.45766288, 0.63644506,\n",
       "        0.49012264, 0.58122107, 0.56533742, 0.55342179, 0.52780538,\n",
       "        0.44380257, 0.50868836, 0.59808653, 0.51481402, 0.60445655,\n",
       "        0.59265431, 0.53243072, 0.55235359, 0.57135504, 0.69316234]),\n",
       " 'std_test_score': array([0.0981084 , 0.10620856, 0.12964974, 0.12660268, 0.11354782,\n",
       "        0.12269761, 0.12209361, 0.12749234, 0.12736321, 0.12659596,\n",
       "        0.1371793 , 0.1291702 , 0.11056366, 0.13015258, 0.13443585,\n",
       "        0.12589301, 0.10904061, 0.10610912, 0.12006673, 0.12149389,\n",
       "        0.13239767, 0.12494419, 0.10191683, 0.12357424, 0.14520379,\n",
       "        0.10818426, 0.12002799, 0.12373295, 0.10803579, 0.13408963]),\n",
       " 'rank_test_score': array([ 6,  8, 29, 22, 13, 17, 16, 26, 25, 24,  2, 27, 11, 28,  3, 23,  9,\n",
       "        12, 14, 19, 30, 21,  5, 20,  4,  7, 18, 15, 10,  1])}"
      ]
     },
     "execution_count": 18,
     "metadata": {},
     "output_type": "execute_result"
    }
   ],
   "source": [
    "# mean_test_score 확인\n",
    "\n",
    "model.cv_results_"
   ]
  },
  {
   "cell_type": "code",
   "execution_count": 19,
   "metadata": {},
   "outputs": [],
   "source": [
    "# # 중요 정보 확인\n",
    "# print('=' * 70)\n",
    "# print(model.cv_results_['param_max_depth'].data)\n",
    "# print('-' * 70)\n",
    "# print(model.cv_results_['mean_test_score'])\n",
    "# print('=' * 70)"
   ]
  },
  {
   "cell_type": "code",
   "execution_count": 20,
   "metadata": {
    "id": "WibiA2j9sRo_"
   },
   "outputs": [
    {
     "name": "stdout",
     "output_type": "stream",
     "text": [
      "최적파라미터: {'n_neighbors': 3}\n"
     ]
    }
   ],
   "source": [
    "# 최적 파라미터\n",
    "\n",
    "print('최적파라미터:', model.best_params_)"
   ]
  },
  {
   "cell_type": "code",
   "execution_count": 21,
   "metadata": {
    "id": "tPwtq5L3vUmo"
   },
   "outputs": [
    {
     "name": "stdout",
     "output_type": "stream",
     "text": [
      "최고성능: 0.693162339471915\n"
     ]
    }
   ],
   "source": [
    "# 최고 성능\n",
    "\n",
    "print('최고성능:', model.best_score_)"
   ]
  },
  {
   "cell_type": "code",
   "execution_count": 22,
   "metadata": {},
   "outputs": [],
   "source": [
    "# # 데이터프레임으로 변환\n",
    "# tmp = pd.DataFrame()\n",
    "# tmp['depth'] = model.cv_results_['param_max_depth'].data\n",
    "# tmp['score'] = model.cv_results_['mean_test_score']\n",
    "# tmp.sort_values(by='depth', ascending=True, inplace=True)\n",
    "# print(model.best_params_)\n",
    "\n",
    "# # 시각화\n",
    "# plt.figure(figsize=(10, 5))\n",
    "# plt.plot(tmp['depth'], tmp['score'])\n",
    "# plt.axvline(model.best_params_['max_depth'], color='r')\n",
    "# plt.show()"
   ]
  },
  {
   "cell_type": "markdown",
   "metadata": {
    "id": "rRdgENo1_YD1"
   },
   "source": [
    "**3) 예측과 평가**\n",
    "\n",
    "- 학습을 통해 예상한 성능과 실제 평가에 따른 성능은 차이가 있을 수 있습니다.\n",
    "- 예선전에서 성적이 좋았다고 본선에서도 성적이 좋다고 보장할 수 없는 없겠지요?"
   ]
  },
  {
   "cell_type": "code",
   "execution_count": 23,
   "metadata": {
    "id": "99n6iBAGoatw"
   },
   "outputs": [],
   "source": [
    "# 예측하기\n",
    "\n",
    "y_pred = model.predict(x_test)"
   ]
  },
  {
   "cell_type": "code",
   "execution_count": 24,
   "metadata": {
    "id": "PeWScNMXtmet"
   },
   "outputs": [
    {
     "name": "stdout",
     "output_type": "stream",
     "text": [
      "MAE : 2.7524122807017544\n",
      "R2 Score : 0.8292574644994108\n"
     ]
    }
   ],
   "source": [
    "# 평가하기\n",
    "\n",
    "print('MAE :', mean_absolute_error(y_test, y_pred))\n",
    "print('R2 Score :', r2_score(y_test, y_pred))"
   ]
  }
 ],
 "metadata": {
  "colab": {
   "collapsed_sections": [],
   "name": "실습05_01_RandomSearch(KNN,Boston).ipynb",
   "provenance": [],
   "toc_visible": true
  },
  "kernelspec": {
   "display_name": "Python 3",
   "language": "python",
   "name": "python3"
  },
  "language_info": {
   "codemirror_mode": {
    "name": "ipython",
    "version": 3
   },
   "file_extension": ".py",
   "mimetype": "text/x-python",
   "name": "python",
   "nbconvert_exporter": "python",
   "pygments_lexer": "ipython3",
   "version": "3.8.8"
  }
 },
 "nbformat": 4,
 "nbformat_minor": 1
}
