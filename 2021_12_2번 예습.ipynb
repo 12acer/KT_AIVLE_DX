{
 "cells": [
  {
   "cell_type": "code",
   "execution_count": 4,
   "id": "54219dd6",
   "metadata": {},
   "outputs": [],
   "source": [
    "import pandas as pd\n",
    "import numpy as np\n",
    "import matplotlib.pyplot as plt"
   ]
  },
  {
   "cell_type": "code",
   "execution_count": 6,
   "id": "7407b3e8",
   "metadata": {},
   "outputs": [],
   "source": [
    "# 라이브러리 불러오기\n",
    "import matplotlib \n",
    "import matplotlib.pyplot as plt\n",
    "\n",
    "# 폰트설정\n",
    "matplotlib.font_manager._rebuild()\n",
    "plt.rc('font', family='Malgun Gothic')\n",
    "plt.rcParams['axes.unicode_minus'] = False"
   ]
  },
  {
   "cell_type": "code",
   "execution_count": 7,
   "id": "9f0f0081",
   "metadata": {
    "scrolled": false
   },
   "outputs": [
    {
     "name": "stdout",
     "output_type": "stream",
     "text": [
      "    지역1   지역2  2020-08  2020-09  2020-10  2020-11  2020-12  2021-01  2021-02  \\\n",
      "0    서울   종로구  1029542  1033625  1036486  1036681  1037986  1039903  1041444   \n",
      "1    서울    중구   802257   806143   807771   808743   809900   812157   814614   \n",
      "2    서울   용산구  1399354  1406439  1411232  1412659  1413768  1416951  1421012   \n",
      "3    서울   성동구   910716   916402   918667   920020   921108   923402   927029   \n",
      "4    서울   광진구  1021037  1025866  1029256  1030878  1032220  1034524  1038378   \n",
      "..   ..   ...      ...      ...      ...      ...      ...      ...      ...   \n",
      "182  경남   밀양시   126455   126261   125989   125727   125773   125625   125977   \n",
      "183  경남   거제시   155274   155921   156366   156543   156165   155616   156555   \n",
      "184  경남   양산시   172574   172582   172828   173383   174672   181445   187973   \n",
      "185  제주   제주시   303871   303757   303757   303800   303771   304414   306314   \n",
      "186  제주  서귀포시   223087   222696   222196   221685   221457   221500   222043   \n",
      "\n",
      "     2021-03  2021-04  2021-05  2021-06  2021-07  \n",
      "0    1044347  1045819  1047819  1048722  1050750  \n",
      "1     820100   822257   823314   824371   829486  \n",
      "2    1427366  1430780  1434768  1439390  1445073  \n",
      "3     934049   938029   940000   942235   947157  \n",
      "4    1047439  1053024  1056524  1059476  1063805  \n",
      "..       ...      ...      ...      ...      ...  \n",
      "182   126977   127614   127932   128364   129125  \n",
      "183   157811   159494   160220   160549   161079  \n",
      "184   191410   194660   197867   201191   204215  \n",
      "185   308871   310943   313814   324614   344400  \n",
      "186   222913   223370   224065   224913   231457  \n",
      "\n",
      "[187 rows x 14 columns]\n"
     ]
    }
   ],
   "source": [
    "path = 'https://bit.ly/ApartFile'\n",
    "apart= pd.read_csv(path, encoding='CP949')\n",
    "print(apart)\n"
   ]
  },
  {
   "cell_type": "code",
   "execution_count": 8,
   "id": "34c0c08e",
   "metadata": {},
   "outputs": [
    {
     "name": "stdout",
     "output_type": "stream",
     "text": [
      "  지역1  지역2  2020-08  2020-09  2020-10  2020-11  2020-12  2021-01  2021-02  \\\n",
      "0  서울  종로구  1029542  1033625  1036486  1036681  1037986  1039903  1041444   \n",
      "1  서울   중구   802257   806143   807771   808743   809900   812157   814614   \n",
      "2  서울  용산구  1399354  1406439  1411232  1412659  1413768  1416951  1421012   \n",
      "3  서울  성동구   910716   916402   918667   920020   921108   923402   927029   \n",
      "4  서울  광진구  1021037  1025866  1029256  1030878  1032220  1034524  1038378   \n",
      "\n",
      "   2021-03  2021-04  2021-05  2021-06  2021-07  \n",
      "0  1044347  1045819  1047819  1048722  1050750  \n",
      "1   820100   822257   823314   824371   829486  \n",
      "2  1427366  1430780  1434768  1439390  1445073  \n",
      "3   934049   938029   940000   942235   947157  \n",
      "4  1047439  1053024  1056524  1059476  1063805  \n",
      "    지역1   지역2  2020-08  2020-09  2020-10  2020-11  2020-12  2021-01  2021-02  \\\n",
      "182  경남   밀양시   126455   126261   125989   125727   125773   125625   125977   \n",
      "183  경남   거제시   155274   155921   156366   156543   156165   155616   156555   \n",
      "184  경남   양산시   172574   172582   172828   173383   174672   181445   187973   \n",
      "185  제주   제주시   303871   303757   303757   303800   303771   304414   306314   \n",
      "186  제주  서귀포시   223087   222696   222196   221685   221457   221500   222043   \n",
      "\n",
      "     2021-03  2021-04  2021-05  2021-06  2021-07  \n",
      "182   126977   127614   127932   128364   129125  \n",
      "183   157811   159494   160220   160549   161079  \n",
      "184   191410   194660   197867   201191   204215  \n",
      "185   308871   310943   313814   324614   344400  \n",
      "186   222913   223370   224065   224913   231457  \n"
     ]
    }
   ],
   "source": [
    "print(apart.head())\n",
    "print(apart.tail())"
   ]
  },
  {
   "cell_type": "code",
   "execution_count": 14,
   "id": "14a5cba6",
   "metadata": {},
   "outputs": [
    {
     "name": "stdout",
     "output_type": "stream",
     "text": [
      "<class 'pandas.core.frame.DataFrame'>\n",
      "RangeIndex: 187 entries, 0 to 186\n",
      "Data columns (total 14 columns):\n",
      " #   Column   Non-Null Count  Dtype \n",
      "---  ------   --------------  ----- \n",
      " 0   지역1      187 non-null    object\n",
      " 1   지역2      187 non-null    object\n",
      " 2   2020-08  187 non-null    int64 \n",
      " 3   2020-09  187 non-null    int64 \n",
      " 4   2020-10  187 non-null    int64 \n",
      " 5   2020-11  187 non-null    int64 \n",
      " 6   2020-12  187 non-null    int64 \n",
      " 7   2021-01  187 non-null    int64 \n",
      " 8   2021-02  187 non-null    int64 \n",
      " 9   2021-03  187 non-null    int64 \n",
      " 10  2021-04  187 non-null    int64 \n",
      " 11  2021-05  187 non-null    int64 \n",
      " 12  2021-06  187 non-null    int64 \n",
      " 13  2021-07  187 non-null    int64 \n",
      "dtypes: int64(12), object(2)\n",
      "memory usage: 20.6+ KB\n",
      "None\n"
     ]
    }
   ],
   "source": [
    "# 열 데이터 형식, 값 개수 확인\n",
    "print(apart.info())"
   ]
  },
  {
   "cell_type": "code",
   "execution_count": 18,
   "id": "b0ffedc9",
   "metadata": {},
   "outputs": [
    {
     "name": "stdout",
     "output_type": "stream",
     "text": [
      "지역1        0\n",
      "지역2        0\n",
      "2020-08    0\n",
      "2020-09    0\n",
      "2020-10    0\n",
      "2020-11    0\n",
      "2020-12    0\n",
      "2021-01    0\n",
      "2021-02    0\n",
      "2021-03    0\n",
      "2021-04    0\n",
      "2021-05    0\n",
      "2021-06    0\n",
      "2021-07    0\n",
      "dtype: int64\n"
     ]
    }
   ],
   "source": [
    "print(apart.isna().sum())"
   ]
  },
  {
   "cell_type": "code",
   "execution_count": 22,
   "id": "d423867d",
   "metadata": {},
   "outputs": [
    {
     "name": "stdout",
     "output_type": "stream",
     "text": [
      "   시도   구군  2020-08  2020-09  2020-10  2020-11  2020-12  2021-01  2021-02  \\\n",
      "0  서울  종로구  1029542  1033625  1036486  1036681  1037986  1039903  1041444   \n",
      "1  서울   중구   802257   806143   807771   808743   809900   812157   814614   \n",
      "2  서울  용산구  1399354  1406439  1411232  1412659  1413768  1416951  1421012   \n",
      "3  서울  성동구   910716   916402   918667   920020   921108   923402   927029   \n",
      "4  서울  광진구  1021037  1025866  1029256  1030878  1032220  1034524  1038378   \n",
      "\n",
      "   2021-03  2021-04  2021-05  2021-06  2021-07  \n",
      "0  1044347  1045819  1047819  1048722  1050750  \n",
      "1   820100   822257   823314   824371   829486  \n",
      "2  1427366  1430780  1434768  1439390  1445073  \n",
      "3   934049   938029   940000   942235   947157  \n",
      "4  1047439  1053024  1056524  1059476  1063805  \n"
     ]
    }
   ],
   "source": [
    "apart.rename(columns={'지역1':'시도', '지역2':'구군'}, inplace=True)\n",
    "print(apart.head())"
   ]
  },
  {
   "cell_type": "code",
   "execution_count": 24,
   "id": "14c46fba",
   "metadata": {},
   "outputs": [
    {
     "name": "stdout",
     "output_type": "stream",
     "text": [
      "     시도    구군  2020-08  2020-09  2020-10  2020-11  2020-12  2021-01  2021-02  \\\n",
      "0    서울   종로구  1029542  1033625  1036486  1036681  1037986  1039903  1041444   \n",
      "1    서울    중구   802257   806143   807771   808743   809900   812157   814614   \n",
      "2    서울   용산구  1399354  1406439  1411232  1412659  1413768  1416951  1421012   \n",
      "3    서울   성동구   910716   916402   918667   920020   921108   923402   927029   \n",
      "4    서울   광진구  1021037  1025866  1029256  1030878  1032220  1034524  1038378   \n",
      "..   ..   ...      ...      ...      ...      ...      ...      ...      ...   \n",
      "182  경남   밀양시   126455   126261   125989   125727   125773   125625   125977   \n",
      "183  경남   거제시   155274   155921   156366   156543   156165   155616   156555   \n",
      "184  경남   양산시   172574   172582   172828   173383   174672   181445   187973   \n",
      "185  제주   제주시   303871   303757   303757   303800   303771   304414   306314   \n",
      "186  제주  서귀포시   223087   222696   222196   221685   221457   221500   222043   \n",
      "\n",
      "     2021-03  2021-04  2021-05  2021-06  2021-07    증가액        증가율  \n",
      "0    1044347  1045819  1047819  1048722  1050750  21208   2.059945  \n",
      "1     820100   822257   823314   824371   829486  27229   3.394050  \n",
      "2    1427366  1430780  1434768  1439390  1445073  45719   3.267150  \n",
      "3     934049   938029   940000   942235   947157  36441   4.001357  \n",
      "4    1047439  1053024  1056524  1059476  1063805  42768   4.188683  \n",
      "..       ...      ...      ...      ...      ...    ...        ...  \n",
      "182   126977   127614   127932   128364   129125   2670   2.111423  \n",
      "183   157811   159494   160220   160549   161079   5805   3.738552  \n",
      "184   191410   194660   197867   201191   204215  31641  18.334743  \n",
      "185   308871   310943   313814   324614   344400  40529  13.337568  \n",
      "186   222913   223370   224065   224913   231457   8370   3.751899  \n",
      "\n",
      "[187 rows x 16 columns]\n"
     ]
    }
   ],
   "source": [
    "apart['증가액'] = apart['2021-07'] - apart['2020-08']\n",
    "apart['증가율'] = (apart['2021-07'] - apart['2020-08'])*100/apart['2020-08']\n",
    "print(apart)"
   ]
  },
  {
   "cell_type": "code",
   "execution_count": 36,
   "id": "d07b51d7",
   "metadata": {},
   "outputs": [
    {
     "name": "stdout",
     "output_type": "stream",
     "text": [
      "     시도    구군    증가액        증가율\n",
      "0    서울   종로구  21208   2.059945\n",
      "1    서울    중구  27229   3.394050\n",
      "2    서울   용산구  45719   3.267150\n",
      "3    서울   성동구  36441   4.001357\n",
      "4    서울   광진구  42768   4.188683\n",
      "..   ..   ...    ...        ...\n",
      "182  경남   밀양시   2670   2.111423\n",
      "183  경남   거제시   5805   3.738552\n",
      "184  경남   양산시  31641  18.334743\n",
      "185  제주   제주시  40529  13.337568\n",
      "186  제주  서귀포시   8370   3.751899\n",
      "\n",
      "[187 rows x 4 columns]\n"
     ]
    }
   ],
   "source": [
    "apart2=apart[['시도','구군','증가액','증가율']].copy()\n",
    "print(apart2)"
   ]
  },
  {
   "cell_type": "code",
   "execution_count": 43,
   "id": "7588f78f",
   "metadata": {},
   "outputs": [
    {
     "data": {
      "image/png": "[encoded data removed]",
      "text/plain": [
       "<Figure size 432x288 with 1 Axes>"
      ]
     },
     "metadata": {
      "needs_background": "light"
     },
     "output_type": "display_data"
    }
   ],
   "source": [
    "plt.bar(apart['구군'], apart['증가액'])\n",
    "plt.show()"
   ]
  },
  {
   "cell_type": "code",
   "execution_count": 44,
   "id": "0e2d838f",
   "metadata": {},
   "outputs": [
    {
     "name": "stdout",
     "output_type": "stream",
     "text": [
      "            2020-08       2020-09       2020-10       2020-11       2020-12  \\\n",
      "count  1.870000e+02  1.870000e+02  1.870000e+02  1.870000e+02  1.870000e+02   \n",
      "mean   3.429660e+05  3.456397e+05  3.478531e+05  3.492826e+05  3.518816e+05   \n",
      "std    2.835917e+05  2.855867e+05  2.868470e+05  2.873621e+05  2.880428e+05   \n",
      "min    7.837500e+04  7.837500e+04  7.818800e+04  7.820800e+04  7.825000e+04   \n",
      "25%    1.618390e+05  1.626765e+05  1.633895e+05  1.635535e+05  1.632735e+05   \n",
      "50%    2.469320e+05  2.493830e+05  2.500550e+05  2.523670e+05  2.529710e+05   \n",
      "75%    4.236115e+05  4.269300e+05  4.318980e+05  4.385925e+05  4.446290e+05   \n",
      "max    1.751014e+06  1.757795e+06  1.759164e+06  1.759747e+06  1.761322e+06   \n",
      "\n",
      "            2021-01       2021-02       2021-03       2021-04       2021-05  \\\n",
      "count  1.870000e+02  1.870000e+02  1.870000e+02  1.870000e+02  1.870000e+02   \n",
      "mean   3.563870e+05  3.603933e+05  3.653163e+05  3.688655e+05  3.723293e+05   \n",
      "std    2.892677e+05  2.912634e+05  2.942345e+05  2.956551e+05  2.972473e+05   \n",
      "min    7.814600e+04  7.812500e+04  7.818800e+04  7.831300e+04  7.812500e+04   \n",
      "25%    1.637785e+05  1.641690e+05  1.663785e+05  1.683925e+05  1.702530e+05   \n",
      "50%    2.557350e+05  2.577230e+05  2.612110e+05  2.661170e+05  2.703280e+05   \n",
      "75%    4.549485e+05  4.633750e+05  4.712285e+05  4.768195e+05  4.827720e+05   \n",
      "max    1.771322e+06  1.783411e+06  1.797521e+06  1.807781e+06  1.818192e+06   \n",
      "\n",
      "            2021-06       2021-07            증가액         증가율  \n",
      "count  1.870000e+02  1.870000e+02     187.000000  187.000000  \n",
      "mean   3.757256e+05  3.816681e+05   38702.064171   11.634708  \n",
      "std    2.991623e+05  3.030026e+05   32514.894696    7.299609  \n",
      "min    7.820800e+04  7.833300e+04   -5264.000000   -3.192857  \n",
      "25%    1.719605e+05  1.744370e+05   14643.500000    5.434298  \n",
      "50%    2.763280e+05  2.807330e+05   29261.000000   11.557457  \n",
      "75%    4.873345e+05  4.946470e+05   54982.000000   16.633131  \n",
      "max    1.834199e+06  1.873390e+06  144265.000000   30.789194  \n"
     ]
    }
   ],
   "source": [
    "print(apart.describe())"
   ]
  },
  {
   "cell_type": "code",
   "execution_count": 47,
   "id": "bc816502",
   "metadata": {},
   "outputs": [
    {
     "name": "stdout",
     "output_type": "stream",
     "text": [
      "     시도    구군     증가액        증가율\n",
      "28   경기   동안구  144265  25.019033\n",
      "34   경기   의왕시  141787  28.618515\n",
      "99   대구   수성구  132345  25.655664\n",
      "86   부산  해운대구  123977  30.789194\n",
      "21   서울   서초구  122376   6.988865\n",
      "26   경기   안양시  120878  22.304477\n",
      "25   경기   과천시  108063   8.575013\n",
      "73   인천   연수구  107033  23.328647\n",
      "32   경기   분당구  104115  11.234421\n",
      "62   경기   덕양구  101934  26.441543\n",
      "30   경기   수정구  100357  11.162002\n",
      "110  대전   유성구   99153  23.851540\n",
      "29   경기   성남시   97866  11.557457\n",
      "56   경기   하남시   97673  14.141202\n",
      "39   경기   수지구   95127  15.930595\n",
      "117  세종   세종시   90169  19.796522\n",
      "22   서울   강남구   87274   5.040291\n",
      "61   경기   고양시   85520  22.930196\n",
      "63   경기  일산동구   83863  19.850170\n",
      "44   경기   영통구   83472  14.617668\n",
      "38   경기   기흥구   83123  19.370121\n",
      "83   부산    남구   82844  23.103159\n",
      "23   서울   송파구   81143   6.435640\n",
      "48   경기   단원구   81010  25.371442\n",
      "36   경기   용인시   79811  17.230428\n"
     ]
    }
   ],
   "source": [
    "tmp = apart2.sort_values(by='증가액', ascending=False).head(25)\n",
    "print(tmp)"
   ]
  },
  {
   "cell_type": "code",
   "execution_count": 59,
   "id": "de0b8091",
   "metadata": {},
   "outputs": [
    {
     "data": {
      "image/png": "[encoded data removed]",
      "text/plain": [
       "<Figure size 432x288 with 1 Axes>"
      ]
     },
     "metadata": {
      "needs_background": "light"
     },
     "output_type": "display_data"
    }
   ],
   "source": [
    "plt.bar(tmp['구군'], tmp['증가액'], label='증가액')\n",
    "plt.legend()\n",
    "plt.xticks(rotation=90)\n",
    "plt.show()"
   ]
  },
  {
   "cell_type": "code",
   "execution_count": 60,
   "id": "1867c3e4",
   "metadata": {},
   "outputs": [
    {
     "name": "stdout",
     "output_type": "stream",
     "text": [
      "     시도   구군   증가액       증가율\n",
      "139  충남  서산시  7133  4.849808\n",
      "123  강원  속초시  6652  4.845465\n",
      "148  전북  군산시  6152  5.388881\n",
      "183  경남  거제시  5805  3.738552\n",
      "149  전북  익산시  4821  3.353739\n",
      "150  전북  정읍시  4740  4.440281\n",
      "81   부산  영도구  4625  2.358286\n",
      "166  경북  영주시  3444  2.937038\n",
      "59   경기  여주시  2808  2.133333\n",
      "182  경남  밀양시  2670  2.111423\n",
      "171  경북  칠곡군  2620  2.517053\n",
      "152  전북  김제시  2487  2.780697\n",
      "124  강원  삼척시  1472  1.469546\n",
      "121  강원  동해시  1334  1.250070\n",
      "168  경북  상주시   677  0.501864\n",
      "151  전북  남원시   486  0.345330\n",
      "122  강원  태백시   -42 -0.053589\n",
      "167  경북  영천시   -93 -0.091874\n",
      "169  경북  문경시  -550 -0.389381\n",
      "156  전남  나주시 -1188 -0.714629\n",
      "153  전남  목포시 -2396 -1.624021\n",
      "158  전남  무안군 -2588 -1.326411\n",
      "78   부산   중구 -2645 -1.795253\n",
      "180  경남  사천시 -3527 -2.785500\n",
      "144  충남  당진시 -5264 -3.192857\n"
     ]
    }
   ],
   "source": [
    "tmp = apart2.sort_values(by='증가액', ascending=False).tail(25)\n",
    "print(tmp)"
   ]
  },
  {
   "cell_type": "code",
   "execution_count": 61,
   "id": "30b6405f",
   "metadata": {},
   "outputs": [
    {
     "data": {
      "image/png": "[encoded data removed]",
      "text/plain": [
       "<Figure size 432x288 with 1 Axes>"
      ]
     },
     "metadata": {
      "needs_background": "light"
     },
     "output_type": "display_data"
    }
   ],
   "source": [
    "plt.bar(tmp['구군'], tmp['증가액'], label='증가액')\n",
    "plt.legend()\n",
    "plt.xticks(rotation=90)\n",
    "plt.show()"
   ]
  },
  {
   "cell_type": "code",
   "execution_count": 68,
   "id": "6e05a6cc",
   "metadata": {},
   "outputs": [
    {
     "name": "stdout",
     "output_type": "stream",
     "text": [
      "     시도   구군    증가액       증가율\n",
      "102  광주   동구  18372  7.440105\n",
      "103  광주   서구  10618  4.210301\n",
      "104  광주   남구  24862  7.793193\n",
      "105  광주   북구  14113  7.520957\n",
      "106  광주  광산구  19587  8.603506\n"
     ]
    }
   ],
   "source": [
    "apart3 = apart2.loc[apart2['시도']=='광주'].copy()\n",
    "print(apart3)"
   ]
  },
  {
   "cell_type": "code",
   "execution_count": 69,
   "id": "0258aa45",
   "metadata": {},
   "outputs": [
    {
     "data": {
      "text/plain": [
       "<BarContainer object of 5 artists>"
      ]
     },
     "execution_count": 69,
     "metadata": {},
     "output_type": "execute_result"
    },
    {
     "data": {
      "image/png": "[encoded data removed]",
      "text/plain": [
       "<Figure size 432x288 with 1 Axes>"
      ]
     },
     "metadata": {
      "needs_background": "light"
     },
     "output_type": "display_data"
    }
   ],
   "source": [
    "plt.bar(apart3['구군'], apart3['증가액'])"
   ]
  },
  {
   "cell_type": "code",
   "execution_count": 70,
   "id": "c63cfadd",
   "metadata": {},
   "outputs": [
    {
     "name": "stdout",
     "output_type": "stream",
     "text": [
      "     시도   구군    증가액       증가율\n",
      "104  광주   남구  24862  7.793193\n",
      "106  광주  광산구  19587  8.603506\n",
      "102  광주   동구  18372  7.440105\n",
      "105  광주   북구  14113  7.520957\n",
      "103  광주   서구  10618  4.210301\n"
     ]
    }
   ],
   "source": [
    "tmp = apart3.sort_values(by='증가액', ascending=False)\n",
    "print(tmp)"
   ]
  },
  {
   "cell_type": "code",
   "execution_count": 73,
   "id": "5abeb3b7",
   "metadata": {},
   "outputs": [
    {
     "data": {
      "text/plain": [
       "<BarContainer object of 5 artists>"
      ]
     },
     "execution_count": 73,
     "metadata": {},
     "output_type": "execute_result"
    },
    {
     "data": {
      "image/png": "[encoded data removed]",
      "text/plain": [
       "<Figure size 432x288 with 1 Axes>"
      ]
     },
     "metadata": {
      "needs_background": "light"
     },
     "output_type": "display_data"
    }
   ],
   "source": [
    "plt.bar(tmp['구군'], tmp['증가액'])"
   ]
  },
  {
   "cell_type": "code",
   "execution_count": null,
   "id": "ad33626a",
   "metadata": {},
   "outputs": [],
   "source": []
  },
  {
   "cell_type": "code",
   "execution_count": null,
   "id": "97b27cb8",
   "metadata": {},
   "outputs": [],
   "source": []
  }
 ],
 "metadata": {
  "kernelspec": {
   "display_name": "Python 3",
   "language": "python",
   "name": "python3"
  },
  "language_info": {
   "codemirror_mode": {
    "name": "ipython",
    "version": 3
   },
   "file_extension": ".py",
   "mimetype": "text/x-python",
   "name": "python",
   "nbconvert_exporter": "python",
   "pygments_lexer": "ipython3",
   "version": "3.8.8"
  }
 },
 "nbformat": 4,
 "nbformat_minor": 5
}
